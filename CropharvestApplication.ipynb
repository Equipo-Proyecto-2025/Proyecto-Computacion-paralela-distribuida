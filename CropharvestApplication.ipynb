{
  "cells": [
    {
      "cell_type": "markdown",
      "metadata": {
        "id": "6qmSkpnQXbLW"
      },
      "source": [
        "# Libraries and Preparation\n"
      ]
    },
    {
      "cell_type": "code",
      "execution_count": null,
      "metadata": {},
      "outputs": [],
      "source": [
        "!pip install rasterio"
      ]
    },
    {
      "cell_type": "code",
      "execution_count": null,
      "metadata": {
        "id": "OAROmJdPXTTv"
      },
      "outputs": [],
      "source": [
        "import os\n",
        "import shutil\n",
        "import pandas as pd\n",
        "from tqdm import tqdm\n",
        "import tarfile\n",
        "import random\n",
        "from joblib import Parallel, delayed\n",
        "from PIL import Image\n",
        "import numpy as np\n",
        "from time import time\n",
        "from pathlib import Path\n",
        "from google.colab import drive\n",
        "import rasterio\n",
        "from matplotlib import pyplot as plt\n",
        "import seaborn as sns\n",
        "from rasterio.plot import show\n",
        "import xarray as xr\n",
        "from pathlib import Path"
      ]
    },
    {
      "cell_type": "markdown",
      "metadata": {
        "id": "FPxKUn2bXlvX"
      },
      "source": [
        "Run the !wget to download the Crop harvest dataset, this contains about 25g, so part of the proces will be to extract 1g of random images"
      ]
    },
    {
      "cell_type": "code",
      "execution_count": null,
      "metadata": {
        "colab": {
          "base_uri": "https://localhost:8080/"
        },
        "id": "0ZWzWpLyQ1B7",
        "outputId": "80554253-7835-41c2-f4ec-9b7500ea92d4"
      },
      "outputs": [],
      "source": [
        "\n",
        "!wget https://zenodo.org/record/10251170/files/eo_data.tar.gz?download=1 -O eo_data.tar.gz"
      ]
    },
    {
      "cell_type": "markdown",
      "metadata": {
        "id": "HqxtpocmX1HE"
      },
      "source": [
        "This line of the code creates a file called crop_harvest which opens the .tar to unzip file and extract the tif images, the code pics the ammount of .tif images randomly until it reaches 1gb"
      ]
    },
    {
      "cell_type": "code",
      "execution_count": null,
      "metadata": {
        "colab": {
          "base_uri": "https://localhost:8080/"
        },
        "id": "0bBkQWsgSIYj",
        "outputId": "7481a1f4-d891-4291-ddd4-0007157c37ee"
      },
      "outputs": [
        {
          "name": "stdout",
          "output_type": "stream",
          "text": [
            "✅ 3070 archivos extraídos. Total: 1023.67 MB\n"
          ]
        }
      ],
      "source": [
        "\n",
        "\n",
        "# Ruta de salida\n",
        "output_dir = Path(\"CropHarvest_extract\")\n",
        "output_dir.mkdir(parents=True, exist_ok=True)\n",
        "\n",
        "# Límite de extracción: 1 GB\n",
        "size_limit = 1 * 1024**3  # 1 GB en bytes\n",
        "total_bytes = 0\n",
        "count = 0\n",
        "\n",
        "# Abrir el archivo .tar.gz y extraer archivos .tif secuencialmente\n",
        "with tarfile.open(\"eo_data.tar.gz\", \"r:gz\") as tar:\n",
        "    for member in tar:\n",
        "        if not member.isfile() or not member.name.endswith(\".tif\"):\n",
        "            continue\n",
        "\n",
        "        if total_bytes + member.size > size_limit:\n",
        "            break\n",
        "\n",
        "        tar.extract(member, path=output_dir)\n",
        "        total_bytes += member.size\n",
        "        count += 1\n",
        "\n",
        "print(f\"{count} Extraction done. Total: {total_bytes / (1024 ** 2):.2f} MB\")\n"
      ]
    },
    {
      "cell_type": "code",
      "execution_count": null,
      "metadata": {
        "colab": {
          "base_uri": "https://localhost:8080/"
        },
        "id": "RObp2BIMoIhp",
        "outputId": "78c14fdc-e40a-4254-a996-fa188a6678e6"
      },
      "outputs": [
        {
          "name": "stdout",
          "output_type": "stream",
          "text": [
            "Drive already mounted at /content/drive; to attempt to forcibly remount, call drive.mount(\"/content/drive\", force_remount=True).\n"
          ]
        }
      ],
      "source": [
        "from google.colab import drive\n",
        "drive.mount('/content/drive')"
      ]
    },
    {
      "cell_type": "markdown",
      "metadata": {
        "id": "aoK0KT4xMXfm"
      },
      "source": [
        "# Data preprocessing with joblib and Paralelism using Crobharvest DS\n",
        "\n"
      ]
    },
    {
      "cell_type": "markdown",
      "metadata": {},
      "source": [
        "\n",
        "In this part, Data analysis will be processed with CropHarvest with the intention to measure the parallel processing time.\n"
      ]
    },
    {
      "cell_type": "markdown",
      "metadata": {
        "id": "2mmG9k4EONRI"
      },
      "source": [
        "Creating a list with .tif images"
      ]
    },
    {
      "cell_type": "code",
      "execution_count": 5,
      "metadata": {
        "id": "84kXPyTpHRjW"
      },
      "outputs": [],
      "source": [
        "file_path = \"/Users/sophiacespedes/Downloads/eo_data/eo_data\"\n",
        "routes = [os.path.join(file_path, f) for f in os.listdir(file_path) if f.endswith(\".tif\")]\n"
      ]
    },
    {
      "cell_type": "markdown",
      "metadata": {
        "id": "W6DfFI9vUL0R"
      },
      "source": [
        "## Statistics\n",
        "\n",
        "Rasterio is used in a GeoTiff .tiff images.\n",
        "\n",
        "This code takes the file path and reads the RGB colors of the images to take statistics as the GEOTIFF images also contain spatial data."
      ]
    },
    {
      "cell_type": "code",
      "execution_count": 7,
      "metadata": {
        "id": "cw1i0g4p2s3n"
      },
      "outputs": [],
      "source": [
        "def img_preprocessing(path: str) -> dict:\n",
        "    filename = Path(path).name\n",
        "\n",
        "    try:\n",
        "        with rasterio.open(path) as src:\n",
        "            arr = src.read(1).astype(float)\n",
        "\n",
        "        return {\n",
        "            \"file\": filename,\n",
        "            \"mean\": np.nanmean(arr),\n",
        "            \"std\":  np.nanstd(arr),\n",
        "            \"min\":  np.nanmin(arr),\n",
        "            \"max\":  np.nanmax(arr),\n",
        "            \"shape\": arr.shape\n",
        "        }\n",
        "\n",
        "    except Exception as e:\n",
        "        return {\n",
        "            \"file\": filename,\n",
        "            \"mean\": None,\n",
        "            \"std\":  None,\n",
        "            \"min\":  None,\n",
        "            \"max\":  None,\n",
        "            \"shape\": None,\n",
        "            \"error\": str(e)\n",
        "        }\n"
      ]
    },
    {
      "cell_type": "markdown",
      "metadata": {
        "id": "h9lLxIYOUklW"
      },
      "source": [
        "## Parallel execution\n",
        "\n",
        "This parallel job would be applied in n_job in n nucleus, in this case -1 indicades that the process will run in all available routes in the moment the code is executed.\n",
        "\n",
        "Then, it'll include all the results in a DF including errors, this to check if there's any part of the preprocessing made above that the libraries could not process due to the kind of images we are using."
      ]
    },
    {
      "cell_type": "markdown",
      "metadata": {
        "id": "CBtKMFR18daZ"
      },
      "source": [
        "This code uses Joblib’s Parallel and delayed to apply the function img_preprocessing to each path in the list routes in parallel. The delayed wrapper ensures that each function call is queued for parallel execution instead of being executed immediately. Parallel(n_jobs=-1) runs as many tasks in parallel as there are CPU cores available. This approach speeds up the processing of large numbers of independent tasks like image analysis. The final result, statistics, is a list of outputs in the same order as the input paths."
      ]
    },
    {
      "cell_type": "code",
      "execution_count": 12,
      "metadata": {
        "colab": {
          "base_uri": "https://localhost:8080/",
          "height": 224
        },
        "id": "PFEmNeliUqoz",
        "outputId": "2efcd10f-262d-499c-edfa-9e58d041fdf8"
      },
      "outputs": [
        {
          "name": "stdout",
          "output_type": "stream",
          "text": [
            "Parallel preprocessing in  16.90 s.\n"
          ]
        },
        {
          "data": {
            "text/html": [
              "<div>\n",
              "<style scoped>\n",
              "    .dataframe tbody tr th:only-of-type {\n",
              "        vertical-align: middle;\n",
              "    }\n",
              "\n",
              "    .dataframe tbody tr th {\n",
              "        vertical-align: top;\n",
              "    }\n",
              "\n",
              "    .dataframe thead th {\n",
              "        text-align: right;\n",
              "    }\n",
              "</style>\n",
              "<table border=\"1\" class=\"dataframe\">\n",
              "  <thead>\n",
              "    <tr style=\"text-align: right;\">\n",
              "      <th></th>\n",
              "      <th>file</th>\n",
              "      <th>mean</th>\n",
              "      <th>std</th>\n",
              "      <th>min</th>\n",
              "      <th>max</th>\n",
              "      <th>shape</th>\n",
              "      <th>error</th>\n",
              "    </tr>\n",
              "  </thead>\n",
              "  <tbody>\n",
              "    <tr>\n",
              "      <th>0</th>\n",
              "      <td>2089-tanzania-ceo.tif</td>\n",
              "      <td>-21.907075</td>\n",
              "      <td>2.100971</td>\n",
              "      <td>-29.637189</td>\n",
              "      <td>-17.247899</td>\n",
              "      <td>(17, 17)</td>\n",
              "      <td>NaN</td>\n",
              "    </tr>\n",
              "    <tr>\n",
              "      <th>1</th>\n",
              "      <td>525-tanzania-ceo.tif</td>\n",
              "      <td>-15.209699</td>\n",
              "      <td>1.154536</td>\n",
              "      <td>-18.410028</td>\n",
              "      <td>-11.896588</td>\n",
              "      <td>(17, 17)</td>\n",
              "      <td>NaN</td>\n",
              "    </tr>\n",
              "    <tr>\n",
              "      <th>2</th>\n",
              "      <td>1020-tanzania-ceo.tif</td>\n",
              "      <td>-9.608302</td>\n",
              "      <td>1.241929</td>\n",
              "      <td>-15.037099</td>\n",
              "      <td>-7.212974</td>\n",
              "      <td>(17, 17)</td>\n",
              "      <td>NaN</td>\n",
              "    </tr>\n",
              "    <tr>\n",
              "      <th>3</th>\n",
              "      <td>4559-geowiki-landcover-2017_2016-02-07_2017-02...</td>\n",
              "      <td>-9.817429</td>\n",
              "      <td>1.585439</td>\n",
              "      <td>-14.896834</td>\n",
              "      <td>-4.882093</td>\n",
              "      <td>(17, 18)</td>\n",
              "      <td>NaN</td>\n",
              "    </tr>\n",
              "    <tr>\n",
              "      <th>4</th>\n",
              "      <td>2252-tanzania-ceo.tif</td>\n",
              "      <td>-9.573474</td>\n",
              "      <td>2.719625</td>\n",
              "      <td>-16.784816</td>\n",
              "      <td>-2.813262</td>\n",
              "      <td>(17, 17)</td>\n",
              "      <td>NaN</td>\n",
              "    </tr>\n",
              "  </tbody>\n",
              "</table>\n",
              "</div>"
            ],
            "text/plain": [
              "                                                file       mean       std  \\\n",
              "0                              2089-tanzania-ceo.tif -21.907075  2.100971   \n",
              "1                               525-tanzania-ceo.tif -15.209699  1.154536   \n",
              "2                              1020-tanzania-ceo.tif  -9.608302  1.241929   \n",
              "3  4559-geowiki-landcover-2017_2016-02-07_2017-02...  -9.817429  1.585439   \n",
              "4                              2252-tanzania-ceo.tif  -9.573474  2.719625   \n",
              "\n",
              "         min        max     shape error  \n",
              "0 -29.637189 -17.247899  (17, 17)   NaN  \n",
              "1 -18.410028 -11.896588  (17, 17)   NaN  \n",
              "2 -15.037099  -7.212974  (17, 17)   NaN  \n",
              "3 -14.896834  -4.882093  (17, 18)   NaN  \n",
              "4 -16.784816  -2.813262  (17, 17)   NaN  "
            ]
          },
          "execution_count": 12,
          "metadata": {},
          "output_type": "execute_result"
        }
      ],
      "source": [
        "start_time = time()\n",
        "\n",
        "statistics = Parallel(n_jobs=-1)(\n",
        "    delayed(img_preprocessing)(path) for path in routes\n",
        ")\n",
        "\n",
        "elapsed = time() - start_time\n",
        "print(f\"Parallel preprocessing in  {elapsed:.2f} s.\")\n",
        "\n",
        "# Results to DF\n",
        "df_statistics = pd.DataFrame(statistics)\n",
        "df_statistics.head()\n"
      ]
    },
    {
      "cell_type": "markdown",
      "metadata": {
        "id": "njKqSFQl-6n3"
      },
      "source": [
        "## Mean values consistently negative\n",
        "\n",
        "Most images have average values between –15 and –5, indicating that the pixel values themselves are negative due to how the satellite bands are scaled.\n",
        "\n",
        "**Central concentration around –10**\n",
        "\n",
        "There's a noticeable peak around –10, suggesting that most images have similar negative mean values after preprocessing.\n",
        "\n",
        "**Longer left tail below –20**\n",
        "\n",
        "Some images have means as low as –25 or –30, indicating darker or sparser reflectance in those particular bands or scenes.\n",
        "\n",
        "## Why mean values are negative:\n",
        "According to GIS experts, it's common in certain surface reflectance products (e.g. Landsat) to have negative pixel values for non-vegetated surfaces—like water, clouds, rocks, or masked areas—because they reflect more in red than near-infrared. These values don't indicate errors; rather, they reflect how the data were retrieved or preprocessed.\n",
        "\n",
        "![descarga (1).png](data:image/png;base64,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)\n",
        "\n"
      ]
    },
    {
      "cell_type": "markdown",
      "metadata": {
        "id": "gYhlDEkpFjf8"
      },
      "source": [
        "## To get more information of the image, we want to explore the dimension prior to apply a NDVI\n",
        "\n",
        "In this case we´ll use one as an example to visualize."
      ]
    },
    {
      "cell_type": "code",
      "execution_count": null,
      "metadata": {
        "colab": {
          "base_uri": "https://localhost:8080/",
          "height": 1000
        },
        "id": "7gLnNscIEgr4",
        "outputId": "fd2e0793-662a-4794-ae1e-eaa94108c0c5"
      },
      "outputs": [
        {
          "name": "stdout",
          "output_type": "stream",
          "text": [
            "Dimensiones: 17 x 17\n",
            "Cantidad de bandas: 206\n",
            "CRS (sistema de referencia): EPSG:4326\n",
            "Tipo de datos: ('float64', 'float64', 'float64', 'float64', 'float64', 'float64', 'float64', 'float64', 'float64', 'float64', 'float64', 'float64', 'float64', 'float64', 'float64', 'float64', 'float64', 'float64', 'float64', 'float64', 'float64', 'float64', 'float64', 'float64', 'float64', 'float64', 'float64', 'float64', 'float64', 'float64', 'float64', 'float64', 'float64', 'float64', 'float64', 'float64', 'float64', 'float64', 'float64', 'float64', 'float64', 'float64', 'float64', 'float64', 'float64', 'float64', 'float64', 'float64', 'float64', 'float64', 'float64', 'float64', 'float64', 'float64', 'float64', 'float64', 'float64', 'float64', 'float64', 'float64', 'float64', 'float64', 'float64', 'float64', 'float64', 'float64', 'float64', 'float64', 'float64', 'float64', 'float64', 'float64', 'float64', 'float64', 'float64', 'float64', 'float64', 'float64', 'float64', 'float64', 'float64', 'float64', 'float64', 'float64', 'float64', 'float64', 'float64', 'float64', 'float64', 'float64', 'float64', 'float64', 'float64', 'float64', 'float64', 'float64', 'float64', 'float64', 'float64', 'float64', 'float64', 'float64', 'float64', 'float64', 'float64', 'float64', 'float64', 'float64', 'float64', 'float64', 'float64', 'float64', 'float64', 'float64', 'float64', 'float64', 'float64', 'float64', 'float64', 'float64', 'float64', 'float64', 'float64', 'float64', 'float64', 'float64', 'float64', 'float64', 'float64', 'float64', 'float64', 'float64', 'float64', 'float64', 'float64', 'float64', 'float64', 'float64', 'float64', 'float64', 'float64', 'float64', 'float64', 'float64', 'float64', 'float64', 'float64', 'float64', 'float64', 'float64', 'float64', 'float64', 'float64', 'float64', 'float64', 'float64', 'float64', 'float64', 'float64', 'float64', 'float64', 'float64', 'float64', 'float64', 'float64', 'float64', 'float64', 'float64', 'float64', 'float64', 'float64', 'float64', 'float64', 'float64', 'float64', 'float64', 'float64', 'float64', 'float64', 'float64', 'float64', 'float64', 'float64', 'float64', 'float64', 'float64', 'float64', 'float64', 'float64', 'float64', 'float64', 'float64', 'float64', 'float64', 'float64', 'float64', 'float64', 'float64', 'float64', 'float64', 'float64', 'float64', 'float64', 'float64', 'float64', 'float64')\n",
            "Shape esperado: (206, 17, 17)\n",
            "Banda 1 - Min: -16.557747491024045, Max: -7.648394027597904, Media: -11.382405110457878\n",
            "Banda 2 - Min: -23.801225039713007, Max: -15.14955564996157, Media: -18.209634064675097\n",
            "Banda 3 - Min: 1820.0, Max: 3490.0, Media: 2152.612456747405\n",
            "Banda 4 - Min: 1598.0, Max: 3680.0, Media: 1969.5570934256054\n",
            "Banda 5 - Min: 1461.0, Max: 3496.0, Media: 1809.5501730103806\n",
            "Banda 6 - Min: 1517.0, Max: 3606.0, Media: 1912.6124567474048\n",
            "Banda 7 - Min: 1593.0, Max: 3607.0, Media: 1955.3460207612457\n",
            "Banda 8 - Min: 1777.0, Max: 3711.0, Media: 2126.304498269896\n",
            "Banda 9 - Min: 2017.0, Max: 3962.0, Media: 2380.968858131488\n",
            "Banda 10 - Min: 1924.0, Max: 4030.0, Media: 2299.294117647059\n",
            "Banda 11 - Min: 2305.0, Max: 4188.0, Media: 2670.6435986159167\n",
            "Banda 12 - Min: 480.0, Max: 1787.0, Media: 722.6539792387543\n",
            "Banda 13 - Min: 87.0, Max: 335.0, Media: 115.49826989619378\n",
            "Banda 14 - Min: 2791.0, Max: 4283.0, Media: 3157.6920415224913\n",
            "Banda 15 - Min: 1800.0, Max: 3509.0, Media: 2197.7750865051903\n",
            "Banda 16 - Min: 302.9002990722656, Max: 302.9002990722656, Media: 302.9002990722656\n",
            "Banda 17 - Min: 0.0005217391453697928, Max: 0.0005217391453697928, Media: 0.0005217391453697928\n",
            "Banda 18 - Min: -13.631495318204225, Max: -7.188116164816762, Media: -10.475556561382191\n",
            "Banda 19 - Min: -20.565879617456343, Max: -13.714530374605879, Media: -16.918463326368926\n",
            "Banda 20 - Min: 1684.0, Max: 2107.0, Media: 1855.159169550173\n",
            "Banda 21 - Min: 1367.0, Max: 1580.0, Media: 1444.4705882352941\n",
            "Banda 22 - Min: 1263.0, Max: 1453.0, Media: 1359.2006920415224\n",
            "Banda 23 - Min: 1277.0, Max: 1566.0, Media: 1459.453287197232\n",
            "Banda 24 - Min: 1509.0, Max: 1717.0, Media: 1619.0173010380622\n",
            "Banda 25 - Min: 1876.0, Max: 2220.0, Media: 1999.9134948096885\n",
            "Banda 26 - Min: 2189.0, Max: 2652.0, Media: 2354.6470588235293\n",
            "Banda 27 - Min: 2066.0, Max: 2388.0, Media: 2192.5570934256057\n",
            "Banda 28 - Min: 2587.0, Max: 3075.0, Media: 2782.522491349481\n",
            "Banda 29 - Min: 469.0, Max: 733.0, Media: 598.4844290657439\n",
            "Banda 30 - Min: 50.0, Max: 111.0, Media: 60.32871972318339\n",
            "Banda 31 - Min: 2938.0, Max: 3623.0, Media: 3428.9031141868513\n",
            "Banda 32 - Min: 1877.0, Max: 2355.0, Media: 2224.2768166089963\n",
            "Banda 33 - Min: 302.7664337158203, Max: 302.7664337158203, Media: 302.7664337158203\n",
            "Banda 34 - Min: 0.0020187861964586773, Max: 0.0020187861964586773, Media: 0.0020187861964586773\n",
            "Banda 35 - Min: -11.659418142957422, Max: -6.362086927017808, Media: -9.412340579404553\n",
            "Banda 36 - Min: -18.82273681184963, Max: -12.160796761920366, Media: -15.719612226412401\n",
            "Banda 37 - Min: 1377.0, Max: 2413.0, Media: 1638.3840830449826\n",
            "Banda 38 - Min: 1112.0, Max: 2179.0, Media: 1288.2525951557093\n",
            "Banda 39 - Min: 1113.0, Max: 2148.0, Media: 1275.878892733564\n",
            "Banda 40 - Min: 824.0, Max: 1993.0, Media: 1096.674740484429\n",
            "Banda 41 - Min: 1261.0, Max: 2268.0, Media: 1452.249134948097\n",
            "Banda 42 - Min: 2106.0, Max: 3176.0, Media: 2464.584775086505\n",
            "Banda 43 - Min: 2557.0, Max: 3659.0, Media: 2946.968858131488\n",
            "Banda 44 - Min: 2367.0, Max: 3424.0, Media: 2685.038062283737\n",
            "Banda 45 - Min: 2881.0, Max: 3934.0, Media: 3265.1176470588234\n",
            "Banda 46 - Min: 476.0, Max: 1155.0, Media: 692.719723183391\n",
            "Banda 47 - Min: 108.0, Max: 504.0, Media: 224.02768166089965\n",
            "Banda 48 - Min: 1919.0, Max: 2842.0, Media: 2389.982698961938\n",
            "Banda 49 - Min: 1224.0, Max: 1914.0, Media: 1459.069204152249\n",
            "Banda 50 - Min: 301.9176025390625, Max: 301.9176025390625, Media: 301.9176025390625\n",
            "Banda 51 - Min: 0.0029535551848312025, Max: 0.0029535551848312025, Media: 0.0029535551848312025\n",
            "Banda 52 - Min: -12.037643515550382, Max: -5.714544497142282, Media: -8.914205840331602\n",
            "Banda 53 - Min: -18.406303503584446, Max: -11.761764257701719, Media: -14.963149379098407\n",
            "Banda 54 - Min: 1299.0, Max: 2763.0, Media: 1390.4878892733564\n",
            "Banda 55 - Min: 1012.0, Max: 2507.0, Media: 1138.39446366782\n",
            "Banda 56 - Min: 1005.0, Max: 2462.0, Media: 1141.5259515570933\n",
            "Banda 57 - Min: 679.0, Max: 2338.0, Media: 840.3391003460208\n",
            "Banda 58 - Min: 1157.0, Max: 2658.0, Media: 1280.3979238754325\n",
            "Banda 59 - Min: 2431.0, Max: 3789.0, Media: 2709.7370242214533\n",
            "Banda 60 - Min: 2932.0, Max: 4451.0, Media: 3307.910034602076\n",
            "Banda 61 - Min: 2627.0, Max: 4117.0, Media: 3042.906574394464\n",
            "Banda 62 - Min: 3329.0, Max: 4811.0, Media: 3691.387543252595\n",
            "Banda 63 - Min: 411.0, Max: 994.0, Media: 452.62629757785464\n",
            "Banda 64 - Min: 49.0, Max: 180.0, Media: 60.96193771626297\n",
            "Banda 65 - Min: 1960.0, Max: 3040.0, Media: 2153.8131487889273\n",
            "Banda 66 - Min: 863.0, Max: 1879.0, Media: 1020.5882352941177\n",
            "Banda 67 - Min: 300.6793975830078, Max: 300.6793975830078, Media: 300.6793975830078\n",
            "Banda 68 - Min: 0.004105147429982026, Max: 0.004105147429982026, Media: 0.004105147429982026\n",
            "Banda 69 - Min: -10.95325258404385, Max: -5.7273450017445064, Media: -7.941816829715224\n",
            "Banda 70 - Min: -17.626981375199, Max: -10.710106084587416, Media: -14.039999498207237\n",
            "Banda 71 - Min: 1429.0, Max: 2613.0, Media: 1550.4636678200693\n",
            "Banda 72 - Min: 1133.0, Max: 2386.0, Media: 1264.0311418685121\n",
            "Banda 73 - Min: 994.0, Max: 2246.0, Media: 1207.0726643598616\n",
            "Banda 74 - Min: 685.0, Max: 2096.0, Media: 871.3460207612457\n",
            "Banda 75 - Min: 1003.0, Max: 2305.0, Media: 1236.8581314878893\n",
            "Banda 76 - Min: 2262.0, Max: 3418.0, Media: 2818.5121107266436\n",
            "Banda 77 - Min: 2882.0, Max: 4103.0, Media: 3661.304498269896\n",
            "Banda 78 - Min: 2383.0, Max: 3962.0, Media: 3353.325259515571\n",
            "Banda 79 - Min: 3121.0, Max: 4644.0, Media: 4082.584775086505\n",
            "Banda 80 - Min: 329.0, Max: 728.0, Media: 410.53979238754323\n",
            "Banda 81 - Min: 18.0, Max: 47.0, Media: 22.69204152249135\n",
            "Banda 82 - Min: 1536.0, Max: 3013.0, Media: 2060.5640138408303\n",
            "Banda 83 - Min: 641.0, Max: 2005.0, Media: 911.1833910034602\n",
            "Banda 84 - Min: 299.1628112792969, Max: 299.1628112792969, Media: 299.1628112792969\n",
            "Banda 85 - Min: 0.005477072199084887, Max: 0.005477072199084887, Media: 0.005477072199084887\n",
            "Banda 86 - Min: -11.147287207077907, Max: -5.034794706500608, Media: -7.9099511283117225\n",
            "Banda 87 - Min: -18.66963094972603, Max: -10.614266642959457, Media: -14.572065305157581\n",
            "Banda 88 - Min: 2622.0, Max: 4622.0, Media: 2853.415224913495\n",
            "Banda 89 - Min: 2297.0, Max: 4347.0, Media: 2621.7301038062283\n",
            "Banda 90 - Min: 2132.0, Max: 4246.0, Media: 2450.9273356401386\n",
            "Banda 91 - Min: 1960.0, Max: 4387.0, Media: 2335.3079584775087\n",
            "Banda 92 - Min: 2073.0, Max: 4290.0, Media: 2431.8961937716263\n",
            "Banda 93 - Min: 2855.0, Max: 4863.0, Media: 3171.2387543252594\n",
            "Banda 94 - Min: 3341.0, Max: 5364.0, Media: 3679.2283737024222\n",
            "Banda 95 - Min: 3083.0, Max: 4830.0, Media: 3374.2525951557095\n",
            "Banda 96 - Min: 3580.0, Max: 5616.0, Media: 3914.2560553633216\n",
            "Banda 97 - Min: 962.0, Max: 1241.0, Media: 1128.80276816609\n",
            "Banda 98 - Min: 203.0, Max: 723.0, Media: 653.6124567474048\n",
            "Banda 99 - Min: 2014.0, Max: 3954.0, Media: 2416.4359861591697\n",
            "Banda 100 - Min: 1375.0, Max: 2728.0, Media: 1668.4982698961937\n",
            "Banda 101 - Min: 298.34552001953125, Max: 298.34552001953125, Media: 298.34552001953125\n",
            "Banda 102 - Min: 0.007540661288715, Max: 0.007540661288715, Media: 0.007540661288715\n",
            "Banda 103 - Min: -11.298119411085672, Max: -4.537675296981563, Media: -8.281845389429746\n",
            "Banda 104 - Min: -17.865601459353655, Max: -11.727044678461604, Media: -14.448669325523495\n",
            "Banda 105 - Min: 1958.0, Max: 4184.0, Media: 2374.508650519031\n",
            "Banda 106 - Min: 1433.0, Max: 3972.0, Media: 2028.1764705882354\n",
            "Banda 107 - Min: 1132.0, Max: 3761.0, Media: 1774.6366782006921\n",
            "Banda 108 - Min: 838.0, Max: 3753.0, Media: 1557.8996539792388\n",
            "Banda 109 - Min: 959.0, Max: 3791.0, Media: 1630.40830449827\n",
            "Banda 110 - Min: 1583.0, Max: 4334.0, Media: 2290.8442906574396\n",
            "Banda 111 - Min: 2014.0, Max: 4792.0, Media: 2722.961937716263\n",
            "Banda 112 - Min: 1642.0, Max: 4458.0, Media: 2440.536332179931\n",
            "Banda 113 - Min: 2072.0, Max: 5011.0, Media: 2900.60553633218\n",
            "Banda 114 - Min: 282.0, Max: 1037.0, Media: 410.4636678200692\n",
            "Banda 115 - Min: 25.0, Max: 97.0, Media: 37.79584775086505\n",
            "Banda 116 - Min: 934.0, Max: 3667.0, Media: 1781.484429065744\n",
            "Banda 117 - Min: 507.0, Max: 2734.0, Media: 1148.5536332179931\n",
            "Banda 118 - Min: 298.1330261230469, Max: 298.1330261230469, Media: 298.1330261230469\n",
            "Banda 119 - Min: 0.006476890569274474, Max: 0.006476890569274474, Media: 0.006476890569274474\n",
            "Banda 120 - Min: -11.486237989797257, Max: -5.229359829279364, Media: -8.142427212004169\n",
            "Banda 121 - Min: -17.539048773460205, Max: -11.278834152079618, Media: -14.224384289982938\n",
            "Banda 122 - Min: 1490.0, Max: 4259.0, Media: 1845.903114186851\n",
            "Banda 123 - Min: 1120.0, Max: 4099.0, Media: 1572.4117647058824\n",
            "Banda 124 - Min: 957.0, Max: 3915.0, Media: 1471.4117647058824\n",
            "Banda 125 - Min: 613.0, Max: 3926.0, Media: 1154.8131487889273\n",
            "Banda 126 - Min: 873.0, Max: 3941.0, Media: 1511.4463667820069\n",
            "Banda 127 - Min: 1985.0, Max: 4615.0, Media: 2952.0519031141866\n",
            "Banda 128 - Min: 2446.0, Max: 5095.0, Media: 3620.2179930795846\n",
            "Banda 129 - Min: 2144.0, Max: 4840.0, Media: 3371.342560553633\n",
            "Banda 130 - Min: 2708.0, Max: 5304.0, Media: 4028.764705882353\n",
            "Banda 131 - Min: 278.0, Max: 1524.0, Media: 462.16262975778545\n",
            "Banda 132 - Min: 16.0, Max: 271.0, Media: 40.52595155709343\n",
            "Banda 133 - Min: 1346.0, Max: 4369.0, Media: 2248.2906574394465\n",
            "Banda 134 - Min: 499.0, Max: 3086.0, Media: 1063.4325259515572\n",
            "Banda 135 - Min: 298.28485107421875, Max: 298.28485107421875, Media: 298.28485107421875\n",
            "Banda 136 - Min: 0.008438958724241274, Max: 0.008438958724241274, Media: 0.008438958724241274\n",
            "Banda 137 - Min: -10.615247794373865, Max: -4.999723765137326, Media: -7.688624296532538\n",
            "Banda 138 - Min: -17.128138186086588, Max: -11.329995339519074, Media: -13.819570944478116\n",
            "Banda 139 - Min: 1512.0, Max: 3776.0, Media: 1936.1314878892733\n",
            "Banda 140 - Min: 1206.0, Max: 3524.0, Media: 1665.4463667820069\n",
            "Banda 141 - Min: 1124.0, Max: 3421.0, Media: 1569.1314878892733\n",
            "Banda 142 - Min: 807.0, Max: 3408.0, Media: 1293.59169550173\n",
            "Banda 143 - Min: 1161.0, Max: 3562.0, Media: 1622.19723183391\n",
            "Banda 144 - Min: 2361.0, Max: 4419.0, Media: 2803.60553633218\n",
            "Banda 145 - Min: 2910.0, Max: 4888.0, Media: 3407.6920415224913\n",
            "Banda 146 - Min: 2639.0, Max: 4547.0, Media: 3170.8512110726642\n",
            "Banda 147 - Min: 3276.0, Max: 5143.0, Media: 3748.010380622837\n",
            "Banda 148 - Min: 477.0, Max: 1452.0, Media: 705.7439446366782\n",
            "Banda 149 - Min: 50.0, Max: 169.0, Media: 108.64359861591696\n",
            "Banda 150 - Min: 1849.0, Max: 3251.0, Media: 2234.4878892733564\n",
            "Banda 151 - Min: 820.0, Max: 2195.0, Media: 1265.3979238754325\n",
            "Banda 152 - Min: 297.9771270751953, Max: 297.9771270751953, Media: 297.9771270751953\n",
            "Banda 153 - Min: 0.011269336265741003, Max: 0.011269336265741003, Media: 0.011269336265741003\n",
            "Banda 154 - Min: -12.28659936623379, Max: -4.711366455548175, Media: -8.614820848869673\n",
            "Banda 155 - Min: -17.570032765302205, Max: -10.76357974221912, Media: -14.573800215934929\n",
            "Banda 156 - Min: 1163.0, Max: 1503.0, Media: 1183.9238754325258\n",
            "Banda 157 - Min: 865.0, Max: 1189.0, Media: 913.5432525951558\n",
            "Banda 158 - Min: 751.0, Max: 1095.0, Media: 834.280276816609\n",
            "Banda 159 - Min: 483.0, Max: 848.0, Media: 554.3252595155709\n",
            "Banda 160 - Min: 789.0, Max: 1272.0, Media: 898.3979238754325\n",
            "Banda 161 - Min: 1694.0, Max: 2162.0, Media: 1931.0346020761247\n",
            "Banda 162 - Min: 2120.0, Max: 2743.0, Media: 2416.740484429066\n",
            "Banda 163 - Min: 1804.0, Max: 2671.0, Media: 2293.370242214533\n",
            "Banda 164 - Min: 2382.0, Max: 3111.0, Media: 2753.100346020761\n",
            "Banda 165 - Min: 338.0, Max: 507.0, Media: 360.0242214532872\n",
            "Banda 166 - Min: 10.0, Max: 74.0, Media: 17.121107266435985\n",
            "Banda 167 - Min: 1471.0, Max: 2106.0, Media: 1676.9723183391004\n",
            "Banda 168 - Min: 613.0, Max: 1109.0, Media: 709.4083044982699\n",
            "Banda 169 - Min: 300.34918212890625, Max: 300.34918212890625, Media: 300.34918212890625\n",
            "Banda 170 - Min: 0.0015853619573817923, Max: 0.0015853619573817923, Media: 0.0015853619573817923\n",
            "Banda 171 - Min: -12.821957115483627, Max: -6.783907307940327, Media: -9.811000174385715\n",
            "Banda 172 - Min: -18.744575184927548, Max: -12.836054539444802, Media: -15.743611516699275\n",
            "Banda 173 - Min: 1317.0, Max: 3692.0, Media: 1621.4982698961937\n",
            "Banda 174 - Min: 1039.0, Max: 3661.0, Media: 1349.2076124567475\n",
            "Banda 175 - Min: 880.0, Max: 3487.0, Media: 1234.2941176470588\n",
            "Banda 176 - Min: 687.0, Max: 3658.0, Media: 1121.955017301038\n",
            "Banda 177 - Min: 932.0, Max: 3639.0, Media: 1386.7889273356402\n",
            "Banda 178 - Min: 1610.0, Max: 4167.0, Media: 2012.5363321799307\n",
            "Banda 179 - Min: 1909.0, Max: 4616.0, Media: 2345.463667820069\n",
            "Banda 180 - Min: 1791.0, Max: 4443.0, Media: 2289.38062283737\n",
            "Banda 181 - Min: 2229.0, Max: 4973.0, Media: 2665.0692041522493\n",
            "Banda 182 - Min: 484.0, Max: 1185.0, Media: 658.8581314878893\n",
            "Banda 183 - Min: 14.0, Max: 43.0, Media: 27.141868512110726\n",
            "Banda 184 - Min: 1669.0, Max: 4374.0, Media: 2283.1626297577855\n",
            "Banda 185 - Min: 808.0, Max: 3419.0, Media: 1332.8235294117646\n",
            "Banda 186 - Min: 301.3639678955078, Max: 301.3639678955078, Media: 301.3639678955078\n",
            "Banda 187 - Min: 0.00015641883481976038, Max: 0.00015641883481976038, Media: 0.00015641883481976038\n",
            "Banda 188 - Min: -13.516655046077553, Max: -8.295572898555623, Media: -10.425098372641186\n",
            "Banda 189 - Min: -22.199340405922328, Max: -13.878769232122712, Media: -16.74835648549327\n",
            "Banda 190 - Min: 1556.0, Max: 1687.0, Media: 1679.7231833910034\n",
            "Banda 191 - Min: 1313.0, Max: 1488.0, Media: 1461.7370242214533\n",
            "Banda 192 - Min: 1174.0, Max: 1350.0, Media: 1313.515570934256\n",
            "Banda 193 - Min: 1160.0, Max: 1461.0, Media: 1392.681660899654\n",
            "Banda 194 - Min: 1358.0, Max: 1617.0, Media: 1560.0276816608996\n",
            "Banda 195 - Min: 1707.0, Max: 1876.0, Media: 1822.6643598615917\n",
            "Banda 196 - Min: 1948.0, Max: 2135.0, Media: 2059.6262975778545\n",
            "Banda 197 - Min: 1874.0, Max: 2188.0, Media: 2083.439446366782\n",
            "Banda 198 - Min: 2260.0, Max: 2480.0, Media: 2387.3356401384085\n",
            "Banda 199 - Min: 577.0, Max: 839.0, Media: 813.7785467128027\n",
            "Banda 200 - Min: 13.0, Max: 20.0, Media: 18.06228373702422\n",
            "Banda 201 - Min: 2539.0, Max: 3040.0, Media: 2877.491349480969\n",
            "Banda 202 - Min: 1521.0, Max: 1956.0, Media: 1813.3875432525952\n",
            "Banda 203 - Min: 301.2861022949219, Max: 301.2861022949219, Media: 301.2861022949219\n",
            "Banda 204 - Min: 3.798493344220333e-05, Max: 3.798493344220333e-05, Media: 3.798493344220333e-05\n",
            "Banda 205 - Min: 191.0, Max: 197.0, Media: 194.87889273356402\n",
            "Banda 206 - Min: nan, Max: nan, Media: nan\n"
          ]
        },
        {
          "data": {
            "image/png": "[encoded data removed]",
            "text/plain": [
              "<Figure size 640x480 with 1 Axes>"
            ]
          },
          "metadata": {},
          "output_type": "display_data"
        }
      ],
      "source": [
        "\n",
        "\n",
        "# filepath\n",
        "ruta = '/content/drive/MyDrive/CropHarvest_extract/eo_data/1000-togo_2019-02-06_2020-02-01.tif'\n",
        "\n",
        "# Open .tiff file\n",
        "with rasterio.open(ruta) as src:\n",
        "    print(f\"Dimensiones: {src.width} x {src.height}\")\n",
        "    print(f\"Cantidad de bandas: {src.count}\")\n",
        "    print(f\"CRS (sistema de referencia): {src.crs}\")\n",
        "    print(f\"Tipo de datos: {src.dtypes}\")\n",
        "    print(f\"Shape esperado: ({src.count}, {src.height}, {src.width})\")\n",
        "\n",
        "    # name the ranges\n",
        "    for i in range(1, src.count + 1):\n",
        "        band = src.read(i)\n",
        "        print(f\"Banda {i} - Min: {band.min()}, Max: {band.max()}, Media: {band.mean()}\")\n",
        "\n",
        "    # show the visualization\n",
        "    show(src.read(1), title=\"Banda 1\")\n"
      ]
    },
    {
      "cell_type": "markdown",
      "metadata": {
        "id": "4mlP8uVnVNjX"
      },
      "source": [
        "## NDVI estimation\n",
        "\n",
        "NDVI (Normalized Difference Vegetation Index)\n",
        "\n",
        "Is a remotely‑sensed indicator used to assess the density and health of green vegetation. It compares the reflectance of near‑infrared (NIR) light—strongly reflected by healthy plants—with red light, which is strongly absorbed by chlorophyll, via the formula:\n",
        "\n",
        "*NDVI = (NIR – Red) / (NIR + Red)*\n",
        "\n",
        "**The index ranges from –1 to +1:**\n",
        "\n",
        "Low (near 0 or negative): water, bare soil, or built-up areas\n",
        "\n",
        "High (0.6–0.9): dense, healthy vegetation\n",
        "\n",
        "**NDVI is widely utilized in agriculture, forestry, land monitoring, and climate studies to track plant vitality, detect drought, and optimize resource use.**"
      ]
    },
    {
      "cell_type": "code",
      "execution_count": 10,
      "metadata": {
        "id": "_dAXLPtcVgls"
      },
      "outputs": [],
      "source": [
        "def ndvi_est(path: str, red_band=30, nir_band=90) -> dict:\n",
        "    file = Path(path).name\n",
        "\n",
        "    try:\n",
        "        with rasterio.open(path) as src:\n",
        "            red = src.read(red_band).astype(float)\n",
        "            nir = src.read(nir_band).astype(float)\n",
        "            ndvi = (nir - red) / (nir + red + 1e-5)\n",
        "\n",
        "        return {\n",
        "            \"file\": file,\n",
        "            \"ndvi_mean\": np.nanmean(ndvi),\n",
        "            \"ndvi_std\":  np.nanstd(ndvi)\n",
        "        }\n",
        "\n",
        "    except Exception as e:\n",
        "        return {\n",
        "            \"file\": file,\n",
        "            \"ndvi_mean\": None,\n",
        "            \"ndvi_std\":  None,\n",
        "            \"error\":     str(e)\n",
        "        }"
      ]
    },
    {
      "cell_type": "markdown",
      "metadata": {
        "id": "a88VP-_fWWge"
      },
      "source": [
        "## Parallel execution with Joblib"
      ]
    },
    {
      "cell_type": "code",
      "execution_count": 18,
      "metadata": {
        "colab": {
          "base_uri": "https://localhost:8080/",
          "height": 224
        },
        "id": "5MZjXL7NWbKY",
        "outputId": "31626565-a018-4fb9-927e-6bea1bd8d8b1"
      },
      "outputs": [
        {
          "name": "stdout",
          "output_type": "stream",
          "text": [
            "Parallel preprocessing in  45.05 s.\n"
          ]
        },
        {
          "data": {
            "text/html": [
              "<div>\n",
              "<style scoped>\n",
              "    .dataframe tbody tr th:only-of-type {\n",
              "        vertical-align: middle;\n",
              "    }\n",
              "\n",
              "    .dataframe tbody tr th {\n",
              "        vertical-align: top;\n",
              "    }\n",
              "\n",
              "    .dataframe thead th {\n",
              "        text-align: right;\n",
              "    }\n",
              "</style>\n",
              "<table border=\"1\" class=\"dataframe\">\n",
              "  <thead>\n",
              "    <tr style=\"text-align: right;\">\n",
              "      <th></th>\n",
              "      <th>file</th>\n",
              "      <th>ndvi_mean</th>\n",
              "      <th>ndvi_std</th>\n",
              "      <th>error</th>\n",
              "    </tr>\n",
              "  </thead>\n",
              "  <tbody>\n",
              "    <tr>\n",
              "      <th>0</th>\n",
              "      <td>2089-tanzania-ceo.tif</td>\n",
              "      <td>0.903433</td>\n",
              "      <td>0.176106</td>\n",
              "      <td>NaN</td>\n",
              "    </tr>\n",
              "    <tr>\n",
              "      <th>1</th>\n",
              "      <td>525-tanzania-ceo.tif</td>\n",
              "      <td>0.877024</td>\n",
              "      <td>0.023613</td>\n",
              "      <td>NaN</td>\n",
              "    </tr>\n",
              "    <tr>\n",
              "      <th>2</th>\n",
              "      <td>1020-tanzania-ceo.tif</td>\n",
              "      <td>0.924102</td>\n",
              "      <td>0.091973</td>\n",
              "      <td>NaN</td>\n",
              "    </tr>\n",
              "    <tr>\n",
              "      <th>3</th>\n",
              "      <td>4559-geowiki-landcover-2017_2016-02-07_2017-02...</td>\n",
              "      <td>0.449019</td>\n",
              "      <td>0.207310</td>\n",
              "      <td>NaN</td>\n",
              "    </tr>\n",
              "    <tr>\n",
              "      <th>4</th>\n",
              "      <td>2252-tanzania-ceo.tif</td>\n",
              "      <td>0.955101</td>\n",
              "      <td>0.039781</td>\n",
              "      <td>NaN</td>\n",
              "    </tr>\n",
              "  </tbody>\n",
              "</table>\n",
              "</div>"
            ],
            "text/plain": [
              "                                                file  ndvi_mean  ndvi_std  \\\n",
              "0                              2089-tanzania-ceo.tif   0.903433  0.176106   \n",
              "1                               525-tanzania-ceo.tif   0.877024  0.023613   \n",
              "2                              1020-tanzania-ceo.tif   0.924102  0.091973   \n",
              "3  4559-geowiki-landcover-2017_2016-02-07_2017-02...   0.449019  0.207310   \n",
              "4                              2252-tanzania-ceo.tif   0.955101  0.039781   \n",
              "\n",
              "  error  \n",
              "0   NaN  \n",
              "1   NaN  \n",
              "2   NaN  \n",
              "3   NaN  \n",
              "4   NaN  "
            ]
          },
          "execution_count": 18,
          "metadata": {},
          "output_type": "execute_result"
        }
      ],
      "source": [
        "start_time = time()\n",
        "\n",
        "ndvi = Parallel(n_jobs=-1)(\n",
        "    delayed(ndvi_est)(path) for path in routes\n",
        ")\n",
        "\n",
        "elapsed = time() - start_time\n",
        "print(f\"Parallel preprocessing in  {elapsed:.2f} s.\")\n",
        "\n",
        "# Results to DF\n",
        "df_ndvi = pd.DataFrame(ndvi)\n",
        "df_ndvi.head()\n"
      ]
    },
    {
      "cell_type": "markdown",
      "metadata": {
        "id": "XcXLHKcB-LFH"
      },
      "source": [
        "## Histogram of NDVI Mean Values\n",
        "\n",
        "This histogram shows the distribution of average NDVI values across all processed GeoTIFF images.\n",
        "\n",
        "Most images have NDVI between 0.1 and 0.4, indicating moderate vegetation cover, likely consistent with agricultural or savannah landscapes.\n",
        "\n",
        "The peak near 0.25 suggests healthy but not dense vegetation is common across the dataset.\n",
        "\n",
        "A small number of images show negative NDVI values, which may correspond to bare soil, urban areas, water bodies, or invalid calculations (e.g. clouds or missing data).\n",
        "\n",
        "Outliers with NDVI < -1 may signal data quality issues or require masking.\n",
        "\n",
        "\n",
        "![image.png](data:image/png;base64,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)"
      ]
    },
    {
      "cell_type": "markdown",
      "metadata": {},
      "source": [
        "# Data preprocessing without Paralelism "
      ]
    },
    {
      "cell_type": "code",
      "execution_count": 8,
      "metadata": {},
      "outputs": [
        {
          "name": "stdout",
          "output_type": "stream",
          "text": [
            "Secuential preprocessing in 63.71 s.\n"
          ]
        },
        {
          "data": {
            "text/html": [
              "<div>\n",
              "<style scoped>\n",
              "    .dataframe tbody tr th:only-of-type {\n",
              "        vertical-align: middle;\n",
              "    }\n",
              "\n",
              "    .dataframe tbody tr th {\n",
              "        vertical-align: top;\n",
              "    }\n",
              "\n",
              "    .dataframe thead th {\n",
              "        text-align: right;\n",
              "    }\n",
              "</style>\n",
              "<table border=\"1\" class=\"dataframe\">\n",
              "  <thead>\n",
              "    <tr style=\"text-align: right;\">\n",
              "      <th></th>\n",
              "      <th>file</th>\n",
              "      <th>mean</th>\n",
              "      <th>std</th>\n",
              "      <th>min</th>\n",
              "      <th>max</th>\n",
              "      <th>shape</th>\n",
              "      <th>error</th>\n",
              "    </tr>\n",
              "  </thead>\n",
              "  <tbody>\n",
              "    <tr>\n",
              "      <th>0</th>\n",
              "      <td>2089-tanzania-ceo.tif</td>\n",
              "      <td>-21.907075</td>\n",
              "      <td>2.100971</td>\n",
              "      <td>-29.637189</td>\n",
              "      <td>-17.247899</td>\n",
              "      <td>(17, 17)</td>\n",
              "      <td>NaN</td>\n",
              "    </tr>\n",
              "    <tr>\n",
              "      <th>1</th>\n",
              "      <td>525-tanzania-ceo.tif</td>\n",
              "      <td>-15.209699</td>\n",
              "      <td>1.154536</td>\n",
              "      <td>-18.410028</td>\n",
              "      <td>-11.896588</td>\n",
              "      <td>(17, 17)</td>\n",
              "      <td>NaN</td>\n",
              "    </tr>\n",
              "    <tr>\n",
              "      <th>2</th>\n",
              "      <td>1020-tanzania-ceo.tif</td>\n",
              "      <td>-9.608302</td>\n",
              "      <td>1.241929</td>\n",
              "      <td>-15.037099</td>\n",
              "      <td>-7.212974</td>\n",
              "      <td>(17, 17)</td>\n",
              "      <td>NaN</td>\n",
              "    </tr>\n",
              "    <tr>\n",
              "      <th>3</th>\n",
              "      <td>4559-geowiki-landcover-2017_2016-02-07_2017-02...</td>\n",
              "      <td>-9.817429</td>\n",
              "      <td>1.585439</td>\n",
              "      <td>-14.896834</td>\n",
              "      <td>-4.882093</td>\n",
              "      <td>(17, 18)</td>\n",
              "      <td>NaN</td>\n",
              "    </tr>\n",
              "    <tr>\n",
              "      <th>4</th>\n",
              "      <td>2252-tanzania-ceo.tif</td>\n",
              "      <td>-9.573474</td>\n",
              "      <td>2.719625</td>\n",
              "      <td>-16.784816</td>\n",
              "      <td>-2.813262</td>\n",
              "      <td>(17, 17)</td>\n",
              "      <td>NaN</td>\n",
              "    </tr>\n",
              "  </tbody>\n",
              "</table>\n",
              "</div>"
            ],
            "text/plain": [
              "                                                file       mean       std  \\\n",
              "0                              2089-tanzania-ceo.tif -21.907075  2.100971   \n",
              "1                               525-tanzania-ceo.tif -15.209699  1.154536   \n",
              "2                              1020-tanzania-ceo.tif  -9.608302  1.241929   \n",
              "3  4559-geowiki-landcover-2017_2016-02-07_2017-02...  -9.817429  1.585439   \n",
              "4                              2252-tanzania-ceo.tif  -9.573474  2.719625   \n",
              "\n",
              "         min        max     shape error  \n",
              "0 -29.637189 -17.247899  (17, 17)   NaN  \n",
              "1 -18.410028 -11.896588  (17, 17)   NaN  \n",
              "2 -15.037099  -7.212974  (17, 17)   NaN  \n",
              "3 -14.896834  -4.882093  (17, 18)   NaN  \n",
              "4 -16.784816  -2.813262  (17, 17)   NaN  "
            ]
          },
          "execution_count": 8,
          "metadata": {},
          "output_type": "execute_result"
        }
      ],
      "source": [
        "start_time = time()\n",
        "\n",
        "statistics_seq = []\n",
        "for path in routes:\n",
        "    statistics_seq.append(img_preprocessing(path))\n",
        "\n",
        "elapsed_seq = time() - start_time\n",
        "print(f\"Secuential preprocessing in {elapsed_seq:.2f} s.\")\n",
        "\n",
        "# Convertir a DataFrame\n",
        "df_statistics_seq = pd.DataFrame(statistics_seq)\n",
        "df_statistics_seq.head()"
      ]
    },
    {
      "cell_type": "code",
      "execution_count": 11,
      "metadata": {},
      "outputs": [
        {
          "name": "stdout",
          "output_type": "stream",
          "text": [
            "Secuential NDVI computation in 63.85 s.\n"
          ]
        },
        {
          "data": {
            "text/html": [
              "<div>\n",
              "<style scoped>\n",
              "    .dataframe tbody tr th:only-of-type {\n",
              "        vertical-align: middle;\n",
              "    }\n",
              "\n",
              "    .dataframe tbody tr th {\n",
              "        vertical-align: top;\n",
              "    }\n",
              "\n",
              "    .dataframe thead th {\n",
              "        text-align: right;\n",
              "    }\n",
              "</style>\n",
              "<table border=\"1\" class=\"dataframe\">\n",
              "  <thead>\n",
              "    <tr style=\"text-align: right;\">\n",
              "      <th></th>\n",
              "      <th>file</th>\n",
              "      <th>ndvi_mean</th>\n",
              "      <th>ndvi_std</th>\n",
              "      <th>error</th>\n",
              "    </tr>\n",
              "  </thead>\n",
              "  <tbody>\n",
              "    <tr>\n",
              "      <th>0</th>\n",
              "      <td>2089-tanzania-ceo.tif</td>\n",
              "      <td>0.903433</td>\n",
              "      <td>0.176106</td>\n",
              "      <td>NaN</td>\n",
              "    </tr>\n",
              "    <tr>\n",
              "      <th>1</th>\n",
              "      <td>525-tanzania-ceo.tif</td>\n",
              "      <td>0.877024</td>\n",
              "      <td>0.023613</td>\n",
              "      <td>NaN</td>\n",
              "    </tr>\n",
              "    <tr>\n",
              "      <th>2</th>\n",
              "      <td>1020-tanzania-ceo.tif</td>\n",
              "      <td>0.924102</td>\n",
              "      <td>0.091973</td>\n",
              "      <td>NaN</td>\n",
              "    </tr>\n",
              "    <tr>\n",
              "      <th>3</th>\n",
              "      <td>4559-geowiki-landcover-2017_2016-02-07_2017-02...</td>\n",
              "      <td>0.449019</td>\n",
              "      <td>0.207310</td>\n",
              "      <td>NaN</td>\n",
              "    </tr>\n",
              "    <tr>\n",
              "      <th>4</th>\n",
              "      <td>2252-tanzania-ceo.tif</td>\n",
              "      <td>0.955101</td>\n",
              "      <td>0.039781</td>\n",
              "      <td>NaN</td>\n",
              "    </tr>\n",
              "  </tbody>\n",
              "</table>\n",
              "</div>"
            ],
            "text/plain": [
              "                                                file  ndvi_mean  ndvi_std  \\\n",
              "0                              2089-tanzania-ceo.tif   0.903433  0.176106   \n",
              "1                               525-tanzania-ceo.tif   0.877024  0.023613   \n",
              "2                              1020-tanzania-ceo.tif   0.924102  0.091973   \n",
              "3  4559-geowiki-landcover-2017_2016-02-07_2017-02...   0.449019  0.207310   \n",
              "4                              2252-tanzania-ceo.tif   0.955101  0.039781   \n",
              "\n",
              "  error  \n",
              "0   NaN  \n",
              "1   NaN  \n",
              "2   NaN  \n",
              "3   NaN  \n",
              "4   NaN  "
            ]
          },
          "execution_count": 11,
          "metadata": {},
          "output_type": "execute_result"
        }
      ],
      "source": [
        "start_time = time()\n",
        "\n",
        "ndvi_seq = []\n",
        "for path in routes:\n",
        "    ndvi_seq.append(ndvi_est(path))\n",
        "\n",
        "elapsed_seq = time() - start_time\n",
        "print(f\"Secuential NDVI computation in {elapsed_seq:.2f} s.\")\n",
        "\n",
        "# Convertir a DataFrame\n",
        "df_ndvi_seq = pd.DataFrame(ndvi_seq)\n",
        "df_ndvi_seq.head()"
      ]
    },
    {
      "cell_type": "markdown",
      "metadata": {},
      "source": [
        "\n",
        "# Comparación entre ambos procesos"
      ]
    },
    {
      "cell_type": "code",
      "execution_count": 13,
      "metadata": {},
      "outputs": [
        {
          "name": "stdout",
          "output_type": "stream",
          "text": [
            "Tiempo paralelo (estadísticas): 16.90 s\n",
            "Tiempo secuencial (estadísticas): 63.85 s\n"
          ]
        },
        {
          "data": {
            "text/html": [
              "<div>\n",
              "<style scoped>\n",
              "    .dataframe tbody tr th:only-of-type {\n",
              "        vertical-align: middle;\n",
              "    }\n",
              "\n",
              "    .dataframe tbody tr th {\n",
              "        vertical-align: top;\n",
              "    }\n",
              "\n",
              "    .dataframe thead th {\n",
              "        text-align: right;\n",
              "    }\n",
              "</style>\n",
              "<table border=\"1\" class=\"dataframe\">\n",
              "  <thead>\n",
              "    <tr style=\"text-align: right;\">\n",
              "      <th></th>\n",
              "      <th>file</th>\n",
              "      <th>mean_par</th>\n",
              "      <th>mean_seq</th>\n",
              "      <th>std_par</th>\n",
              "      <th>std_seq</th>\n",
              "    </tr>\n",
              "  </thead>\n",
              "  <tbody>\n",
              "    <tr>\n",
              "      <th>0</th>\n",
              "      <td>2089-tanzania-ceo.tif</td>\n",
              "      <td>-21.907075</td>\n",
              "      <td>-21.907075</td>\n",
              "      <td>2.100971</td>\n",
              "      <td>2.100971</td>\n",
              "    </tr>\n",
              "    <tr>\n",
              "      <th>1</th>\n",
              "      <td>525-tanzania-ceo.tif</td>\n",
              "      <td>-15.209699</td>\n",
              "      <td>-15.209699</td>\n",
              "      <td>1.154536</td>\n",
              "      <td>1.154536</td>\n",
              "    </tr>\n",
              "    <tr>\n",
              "      <th>2</th>\n",
              "      <td>1020-tanzania-ceo.tif</td>\n",
              "      <td>-9.608302</td>\n",
              "      <td>-9.608302</td>\n",
              "      <td>1.241929</td>\n",
              "      <td>1.241929</td>\n",
              "    </tr>\n",
              "    <tr>\n",
              "      <th>3</th>\n",
              "      <td>4559-geowiki-landcover-2017_2016-02-07_2017-02...</td>\n",
              "      <td>-9.817429</td>\n",
              "      <td>-9.817429</td>\n",
              "      <td>1.585439</td>\n",
              "      <td>1.585439</td>\n",
              "    </tr>\n",
              "    <tr>\n",
              "      <th>4</th>\n",
              "      <td>2252-tanzania-ceo.tif</td>\n",
              "      <td>-9.573474</td>\n",
              "      <td>-9.573474</td>\n",
              "      <td>2.719625</td>\n",
              "      <td>2.719625</td>\n",
              "    </tr>\n",
              "  </tbody>\n",
              "</table>\n",
              "</div>"
            ],
            "text/plain": [
              "                                                file   mean_par   mean_seq  \\\n",
              "0                              2089-tanzania-ceo.tif -21.907075 -21.907075   \n",
              "1                               525-tanzania-ceo.tif -15.209699 -15.209699   \n",
              "2                              1020-tanzania-ceo.tif  -9.608302  -9.608302   \n",
              "3  4559-geowiki-landcover-2017_2016-02-07_2017-02...  -9.817429  -9.817429   \n",
              "4                              2252-tanzania-ceo.tif  -9.573474  -9.573474   \n",
              "\n",
              "    std_par   std_seq  \n",
              "0  2.100971  2.100971  \n",
              "1  1.154536  1.154536  \n",
              "2  1.241929  1.241929  \n",
              "3  1.585439  1.585439  \n",
              "4  2.719625  2.719625  "
            ]
          },
          "execution_count": 13,
          "metadata": {},
          "output_type": "execute_result"
        }
      ],
      "source": [
        "# Comparación de tiempos\n",
        "print(f\"Tiempo paralelo (estadísticas): {elapsed:.2f} s\")\n",
        "print(f\"Tiempo secuencial (estadísticas): {elapsed_seq:.2f} s\")\n",
        "\n",
        "# Comparar DataFrames\n",
        "comparison = df_statistics.merge(df_statistics_seq, on='file', suffixes=('_par', '_seq'))\n",
        "comparison[['file', 'mean_par', 'mean_seq', 'std_par', 'std_seq']].head()\n"
      ]
    },
    {
      "cell_type": "code",
      "execution_count": 16,
      "metadata": {},
      "outputs": [
        {
          "data": {
            "image/png": "[encoded data removed]",
            "text/plain": [
              "<Figure size 600x400 with 1 Axes>"
            ]
          },
          "metadata": {},
          "output_type": "display_data"
        }
      ],
      "source": [
        "# Tiempos para comparación\n",
        "times = {\n",
        "    'Paralelo': elapsed,\n",
        "    'Secuencial': elapsed_seq\n",
        "}\n",
        "\n",
        "plt.figure(figsize=(6, 4))\n",
        "sns.barplot(x=list(times.keys()), y=list(times.values()), palette='Blues_d')\n",
        "plt.title('Tiempo de Ejecución - Estadísticas')\n",
        "plt.ylabel('Tiempo (segundos)')\n",
        "plt.xlabel('Método')\n",
        "plt.show()"
      ]
    },
    {
      "cell_type": "code",
      "execution_count": 24,
      "metadata": {},
      "outputs": [
        {
          "data": {
            "image/png": "[encoded data removed]",
            "text/plain": [
              "<Figure size 1000x600 with 1 Axes>"
            ]
          },
          "metadata": {},
          "output_type": "display_data"
        }
      ],
      "source": [
        "import matplotlib.pyplot as plt\n",
        "import seaborn as sns\n",
        "\n",
        "# Comparación gráfica de la media\n",
        "plt.figure(figsize=(10, 6))\n",
        "sns.scatterplot(data=comparison, x='mean_par', y='mean_seq')\n",
        "plt.plot([comparison['mean_par'].min(), comparison['mean_par'].max()],\n",
        "         [comparison['mean_par'].min(), comparison['mean_par'].max()],\n",
        "         color='red', linestyle='--', label='Línea de identidad')\n",
        "plt.title('Comparación de medias: Paralelo vs Secuencial')\n",
        "plt.xlabel('Media (Paralelo)')\n",
        "plt.ylabel('Media (Secuencial)')\n",
        "plt.legend()\n",
        "plt.grid(True)\n",
        "plt.show()"
      ]
    },
    {
      "cell_type": "code",
      "execution_count": 25,
      "metadata": {},
      "outputs": [
        {
          "data": {
            "image/png": "[encoded data removed]",
            "text/plain": [
              "<Figure size 600x400 with 1 Axes>"
            ]
          },
          "metadata": {},
          "output_type": "display_data"
        }
      ],
      "source": [
        "# Tiempos específicos para NDVI\n",
        "ndvi_times = {\n",
        "    'Paralelo NDVI': elapsed,\n",
        "    'Secuencial NDVI': elapsed_seq\n",
        "}\n",
        "\n",
        "plt.figure(figsize=(6, 4))\n",
        "sns.barplot(x=list(ndvi_times.keys()), y=list(ndvi_times.values()), palette='Greens_d')\n",
        "plt.title('Tiempo de Ejecución - Cálculo NDVI')\n",
        "plt.ylabel('Tiempo (segundos)')\n",
        "plt.xlabel('Método')\n",
        "plt.show()"
      ]
    }
  ],
  "metadata": {
    "colab": {
      "provenance": []
    },
    "kernelspec": {
      "display_name": "base",
      "language": "python",
      "name": "python3"
    },
    "language_info": {
      "codemirror_mode": {
        "name": "ipython",
        "version": 3
      },
      "file_extension": ".py",
      "mimetype": "text/x-python",
      "name": "python",
      "nbconvert_exporter": "python",
      "pygments_lexer": "ipython3",
      "version": "3.11.7"
    }
  },
  "nbformat": 4,
  "nbformat_minor": 0
}
