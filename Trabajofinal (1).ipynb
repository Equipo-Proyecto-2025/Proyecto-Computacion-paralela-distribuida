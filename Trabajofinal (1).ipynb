{
  "nbformat": 4,
  "nbformat_minor": 0,
  "metadata": {
    "colab": {
      "provenance": []
    },
    "kernelspec": {
      "name": "python3",
      "display_name": "Python 3"
    },
    "language_info": {
      "name": "python"
    }
  },
  "cells": [
    {
      "cell_type": "markdown",
      "source": [
        "Libraries ans installations\n"
      ],
      "metadata": {
        "id": "6qmSkpnQXbLW"
      }
    },
    {
      "cell_type": "code",
      "source": [
        "!pip install rasterio\n",
        "!pip install fsspec s3fs gcsfs\n"
      ],
      "metadata": {
        "colab": {
          "base_uri": "https://localhost:8080/"
        },
        "id": "yFdAJRlVPf9D",
        "outputId": "e1a6a2d4-6d99-4505-d6b0-020c2a3926e4"
      },
      "execution_count": 19,
      "outputs": [
        {
          "output_type": "stream",
          "name": "stdout",
          "text": [
            "Collecting rasterio\n",
            "  Downloading rasterio-1.4.3-cp311-cp311-manylinux_2_17_x86_64.manylinux2014_x86_64.whl.metadata (9.1 kB)\n",
            "Collecting affine (from rasterio)\n",
            "  Downloading affine-2.4.0-py3-none-any.whl.metadata (4.0 kB)\n",
            "Requirement already satisfied: attrs in /usr/local/lib/python3.11/dist-packages (from rasterio) (25.3.0)\n",
            "Requirement already satisfied: certifi in /usr/local/lib/python3.11/dist-packages (from rasterio) (2025.6.15)\n",
            "Requirement already satisfied: click>=4.0 in /usr/local/lib/python3.11/dist-packages (from rasterio) (8.2.1)\n",
            "Collecting cligj>=0.5 (from rasterio)\n",
            "  Downloading cligj-0.7.2-py3-none-any.whl.metadata (5.0 kB)\n",
            "Requirement already satisfied: numpy>=1.24 in /usr/local/lib/python3.11/dist-packages (from rasterio) (2.0.2)\n",
            "Collecting click-plugins (from rasterio)\n",
            "  Downloading click_plugins-1.1.1.2-py2.py3-none-any.whl.metadata (6.5 kB)\n",
            "Requirement already satisfied: pyparsing in /usr/local/lib/python3.11/dist-packages (from rasterio) (3.2.3)\n",
            "Downloading rasterio-1.4.3-cp311-cp311-manylinux_2_17_x86_64.manylinux2014_x86_64.whl (22.2 MB)\n",
            "\u001b[2K   \u001b[90m━━━━━━━━━━━━━━━━━━━━━━━━━━━━━━━━━━━━━━━━\u001b[0m \u001b[32m22.2/22.2 MB\u001b[0m \u001b[31m61.4 MB/s\u001b[0m eta \u001b[36m0:00:00\u001b[0m\n",
            "\u001b[?25hDownloading cligj-0.7.2-py3-none-any.whl (7.1 kB)\n",
            "Downloading affine-2.4.0-py3-none-any.whl (15 kB)\n",
            "Downloading click_plugins-1.1.1.2-py2.py3-none-any.whl (11 kB)\n",
            "Installing collected packages: cligj, click-plugins, affine, rasterio\n",
            "Successfully installed affine-2.4.0 click-plugins-1.1.1.2 cligj-0.7.2 rasterio-1.4.3\n"
          ]
        }
      ]
    },
    {
      "cell_type": "code",
      "source": [
        "import os\n",
        "import shutil\n",
        "import pandas as pd\n",
        "from tqdm import tqdm\n",
        "import tarfile\n",
        "import random\n",
        "from joblib import Parallel, delayed\n",
        "from PIL import Image\n",
        "import numpy as np\n",
        "from time import time\n",
        "from pathlib import Path\n",
        "from google.colab import drive\n",
        "import rasterio\n",
        "from matplotlib import pyplot as plt\n",
        "import seaborn as sns"
      ],
      "metadata": {
        "id": "OAROmJdPXTTv"
      },
      "execution_count": 20,
      "outputs": []
    },
    {
      "cell_type": "markdown",
      "source": [
        "Run the !wget to download the Crop harvest dataset, this contains about 25g, so part of the proces will be to extract 1g of random images"
      ],
      "metadata": {
        "id": "FPxKUn2bXlvX"
      }
    },
    {
      "cell_type": "code",
      "source": [
        "\n",
        "!wget https://zenodo.org/record/10251170/files/eo_data.tar.gz?download=1 -O eo_data.tar.gz"
      ],
      "metadata": {
        "colab": {
          "base_uri": "https://localhost:8080/"
        },
        "id": "0ZWzWpLyQ1B7",
        "outputId": "80554253-7835-41c2-f4ec-9b7500ea92d4"
      },
      "execution_count": null,
      "outputs": [
        {
          "output_type": "stream",
          "name": "stdout",
          "text": [
            "--2025-07-09 03:01:20--  https://zenodo.org/record/10251170/files/eo_data.tar.gz?download=1\n",
            "Resolving zenodo.org (zenodo.org)... 188.185.43.25, 188.185.45.92, 188.185.48.194, ...\n",
            "Connecting to zenodo.org (zenodo.org)|188.185.43.25|:443... connected.\n",
            "HTTP request sent, awaiting response... 301 MOVED PERMANENTLY\n",
            "Location: /records/10251170/files/eo_data.tar.gz [following]\n",
            "--2025-07-09 03:01:21--  https://zenodo.org/records/10251170/files/eo_data.tar.gz\n",
            "Reusing existing connection to zenodo.org:443.\n",
            "HTTP request sent, awaiting response... 200 OK\n",
            "Length: 26723356856 (25G) [application/octet-stream]\n",
            "Saving to: ‘eo_data.tar.gz’\n",
            "\n",
            "eo_data.tar.gz      100%[===================>]  24.89G  23.5MB/s    in 72m 48s \n",
            "\n",
            "2025-07-09 04:14:09 (5.84 MB/s) - ‘eo_data.tar.gz’ saved [26723356856/26723356856]\n",
            "\n"
          ]
        }
      ]
    },
    {
      "cell_type": "markdown",
      "source": [
        "This line of the code creates a file called crop_harvest which opens the .tar to unzip file and extract the tif images, the code pics the ammount of .tif images randomly until it reaches 1gb"
      ],
      "metadata": {
        "id": "HqxtpocmX1HE"
      }
    },
    {
      "cell_type": "code",
      "source": [],
      "metadata": {
        "id": "wrKddzLyo88Q"
      },
      "execution_count": null,
      "outputs": []
    },
    {
      "cell_type": "code",
      "source": [
        "\n",
        "\n",
        "# Ruta de salida\n",
        "output_dir = Path(\"CropHarvest_extract\")\n",
        "output_dir.mkdir(parents=True, exist_ok=True)\n",
        "\n",
        "# Límite de extracción: 1 GB\n",
        "size_limit = 1 * 1024**3  # 1 GB en bytes\n",
        "total_bytes = 0\n",
        "count = 0\n",
        "\n",
        "# Abrir el archivo .tar.gz y extraer archivos .tif secuencialmente\n",
        "with tarfile.open(\"eo_data.tar.gz\", \"r:gz\") as tar:\n",
        "    for member in tar:\n",
        "        if not member.isfile() or not member.name.endswith(\".tif\"):\n",
        "            continue\n",
        "\n",
        "        if total_bytes + member.size > size_limit:\n",
        "            break\n",
        "\n",
        "        tar.extract(member, path=output_dir)\n",
        "        total_bytes += member.size\n",
        "        count += 1\n",
        "\n",
        "print(f\"{count} Extraction done. Total: {total_bytes / (1024 ** 2):.2f} MB\")\n"
      ],
      "metadata": {
        "id": "0bBkQWsgSIYj",
        "colab": {
          "base_uri": "https://localhost:8080/"
        },
        "outputId": "7481a1f4-d891-4291-ddd4-0007157c37ee"
      },
      "execution_count": null,
      "outputs": [
        {
          "output_type": "stream",
          "name": "stdout",
          "text": [
            "✅ 3070 archivos extraídos. Total: 1023.67 MB\n"
          ]
        }
      ]
    },
    {
      "cell_type": "code",
      "source": [
        "from google.colab import drive\n",
        "drive.mount('/content/drive')"
      ],
      "metadata": {
        "colab": {
          "base_uri": "https://localhost:8080/"
        },
        "id": "RObp2BIMoIhp",
        "outputId": "78c14fdc-e40a-4254-a996-fa188a6678e6"
      },
      "execution_count": 2,
      "outputs": [
        {
          "output_type": "stream",
          "name": "stdout",
          "text": [
            "Drive already mounted at /content/drive; to attempt to forcibly remount, call drive.mount(\"/content/drive\", force_remount=True).\n"
          ]
        }
      ]
    },
    {
      "cell_type": "markdown",
      "source": [
        "# Data preprocessing with joblib using Crobharvest DS\n",
        "\n",
        "In this part, Data analysis will be processed with CropHarvest with the intention to measure the parallel processing time.\n",
        "\n"
      ],
      "metadata": {
        "id": "aoK0KT4xMXfm"
      }
    },
    {
      "cell_type": "markdown",
      "source": [
        "Creating a list with .tif images"
      ],
      "metadata": {
        "id": "2mmG9k4EONRI"
      }
    },
    {
      "cell_type": "code",
      "source": [
        "file_path = \"/content/drive/MyDrive/CropHarvest_extract/eo_data\"\n",
        "routes = [os.path.join(file_path, f) for f in os.listdir(file_path) if f.endswith(\".tif\")]\n"
      ],
      "metadata": {
        "id": "84kXPyTpHRjW"
      },
      "execution_count": 11,
      "outputs": []
    },
    {
      "cell_type": "markdown",
      "source": [
        "# Statistics\n",
        "\n",
        "Rasterio is used in a GeoTiff .tiff images.\n",
        "\n",
        "This code takes the file path and reads the RGB colors of the images to take statistics as the GEOTIFF images also contain spatial data."
      ],
      "metadata": {
        "id": "W6DfFI9vUL0R"
      }
    },
    {
      "cell_type": "code",
      "source": [
        "def img_preprocessing(path: str) -> dict:\n",
        "    filename = Path(path).name\n",
        "\n",
        "    try:\n",
        "        with rasterio.open(path) as src:\n",
        "            arr = src.read(1).astype(float)\n",
        "\n",
        "        return {\n",
        "            \"file\": filename,\n",
        "            \"mean\": np.nanmean(arr),\n",
        "            \"std\":  np.nanstd(arr),\n",
        "            \"min\":  np.nanmin(arr),\n",
        "            \"max\":  np.nanmax(arr),\n",
        "            \"shape\": arr.shape\n",
        "        }\n",
        "\n",
        "    except Exception as e:\n",
        "        return {\n",
        "            \"file\": filename,\n",
        "            \"mean\": None,\n",
        "            \"std\":  None,\n",
        "            \"min\":  None,\n",
        "            \"max\":  None,\n",
        "            \"shape\": None,\n",
        "            \"error\": str(e)\n",
        "        }\n",
        ""
      ],
      "metadata": {
        "id": "cw1i0g4p2s3n"
      },
      "execution_count": 23,
      "outputs": []
    },
    {
      "cell_type": "markdown",
      "source": [
        "# Parallel execution\n",
        "\n",
        "This parallel job would be applied in n_job in n nucleus, in this case -1 indicades that the process will run in all available routes in the moment the code is executed.\n",
        "\n",
        "Then, it'll include all the results in a DF including errors, this to check if there's any part of the preprocessing made above that the libraries could not process due to the kind of images we are using."
      ],
      "metadata": {
        "id": "h9lLxIYOUklW"
      }
    },
    {
      "cell_type": "markdown",
      "source": [
        "This code uses Joblib’s Parallel and delayed to apply the function img_preprocessing to each path in the list routes in parallel. The delayed wrapper ensures that each function call is queued for parallel execution instead of being executed immediately. Parallel(n_jobs=-1) runs as many tasks in parallel as there are CPU cores available. This approach speeds up the processing of large numbers of independent tasks like image analysis. The final result, statistics, is a list of outputs in the same order as the input paths."
      ],
      "metadata": {
        "id": "CBtKMFR18daZ"
      }
    },
    {
      "cell_type": "code",
      "source": [
        "start_time = time()\n",
        "\n",
        "statistics = Parallel(n_jobs=-1)(\n",
        "    delayed(img_preprocessing)(path) for path in routes\n",
        ")\n",
        "\n",
        "elapsed = time() - start_time\n",
        "print(f\"Parallel preprocessing in  {elapsed:.2f} s.\")\n",
        "\n",
        "# Results to DF\n",
        "df_statistics = pd.DataFrame(statistics)\n",
        "df_statistics.head()\n"
      ],
      "metadata": {
        "colab": {
          "base_uri": "https://localhost:8080/",
          "height": 224
        },
        "id": "PFEmNeliUqoz",
        "outputId": "2efcd10f-262d-499c-edfa-9e58d041fdf8"
      },
      "execution_count": 27,
      "outputs": [
        {
          "output_type": "stream",
          "name": "stdout",
          "text": [
            "Parallel preprocessing in  103.51 s.\n"
          ]
        },
        {
          "output_type": "execute_result",
          "data": {
            "text/plain": [
              "                                     file       mean       std        min  \\\n",
              "0  234-ethiopia_2020-02-07_2021-02-01.tif -15.134761  1.798779 -21.686744   \n",
              "1  245-ethiopia_2020-02-07_2021-02-01.tif -15.291374  1.384763 -20.250263   \n",
              "2  538-ethiopia_2020-02-07_2021-02-01.tif  -9.775265  1.785382 -16.077098   \n",
              "3  698-ethiopia_2020-02-07_2021-02-01.tif -12.070617  2.255461 -20.197721   \n",
              "4      246-togo_2019-02-06_2020-02-01.tif -12.455573  2.140130 -17.560089   \n",
              "\n",
              "         max     shape error  \n",
              "0 -10.121315  (17, 17)   NaN  \n",
              "1 -11.684926  (18, 17)   NaN  \n",
              "2  -6.173658  (18, 17)   NaN  \n",
              "3  -7.952914  (18, 17)   NaN  \n",
              "4  -6.417751  (17, 18)   NaN  "
            ],
            "text/html": [
              "\n",
              "  <div id=\"df-49206a48-37bd-4d55-9437-d860d52f4e2c\" class=\"colab-df-container\">\n",
              "    <div>\n",
              "<style scoped>\n",
              "    .dataframe tbody tr th:only-of-type {\n",
              "        vertical-align: middle;\n",
              "    }\n",
              "\n",
              "    .dataframe tbody tr th {\n",
              "        vertical-align: top;\n",
              "    }\n",
              "\n",
              "    .dataframe thead th {\n",
              "        text-align: right;\n",
              "    }\n",
              "</style>\n",
              "<table border=\"1\" class=\"dataframe\">\n",
              "  <thead>\n",
              "    <tr style=\"text-align: right;\">\n",
              "      <th></th>\n",
              "      <th>file</th>\n",
              "      <th>mean</th>\n",
              "      <th>std</th>\n",
              "      <th>min</th>\n",
              "      <th>max</th>\n",
              "      <th>shape</th>\n",
              "      <th>error</th>\n",
              "    </tr>\n",
              "  </thead>\n",
              "  <tbody>\n",
              "    <tr>\n",
              "      <th>0</th>\n",
              "      <td>234-ethiopia_2020-02-07_2021-02-01.tif</td>\n",
              "      <td>-15.134761</td>\n",
              "      <td>1.798779</td>\n",
              "      <td>-21.686744</td>\n",
              "      <td>-10.121315</td>\n",
              "      <td>(17, 17)</td>\n",
              "      <td>NaN</td>\n",
              "    </tr>\n",
              "    <tr>\n",
              "      <th>1</th>\n",
              "      <td>245-ethiopia_2020-02-07_2021-02-01.tif</td>\n",
              "      <td>-15.291374</td>\n",
              "      <td>1.384763</td>\n",
              "      <td>-20.250263</td>\n",
              "      <td>-11.684926</td>\n",
              "      <td>(18, 17)</td>\n",
              "      <td>NaN</td>\n",
              "    </tr>\n",
              "    <tr>\n",
              "      <th>2</th>\n",
              "      <td>538-ethiopia_2020-02-07_2021-02-01.tif</td>\n",
              "      <td>-9.775265</td>\n",
              "      <td>1.785382</td>\n",
              "      <td>-16.077098</td>\n",
              "      <td>-6.173658</td>\n",
              "      <td>(18, 17)</td>\n",
              "      <td>NaN</td>\n",
              "    </tr>\n",
              "    <tr>\n",
              "      <th>3</th>\n",
              "      <td>698-ethiopia_2020-02-07_2021-02-01.tif</td>\n",
              "      <td>-12.070617</td>\n",
              "      <td>2.255461</td>\n",
              "      <td>-20.197721</td>\n",
              "      <td>-7.952914</td>\n",
              "      <td>(18, 17)</td>\n",
              "      <td>NaN</td>\n",
              "    </tr>\n",
              "    <tr>\n",
              "      <th>4</th>\n",
              "      <td>246-togo_2019-02-06_2020-02-01.tif</td>\n",
              "      <td>-12.455573</td>\n",
              "      <td>2.140130</td>\n",
              "      <td>-17.560089</td>\n",
              "      <td>-6.417751</td>\n",
              "      <td>(17, 18)</td>\n",
              "      <td>NaN</td>\n",
              "    </tr>\n",
              "  </tbody>\n",
              "</table>\n",
              "</div>\n",
              "    <div class=\"colab-df-buttons\">\n",
              "\n",
              "  <div class=\"colab-df-container\">\n",
              "    <button class=\"colab-df-convert\" onclick=\"convertToInteractive('df-49206a48-37bd-4d55-9437-d860d52f4e2c')\"\n",
              "            title=\"Convert this dataframe to an interactive table.\"\n",
              "            style=\"display:none;\">\n",
              "\n",
              "  <svg xmlns=\"http://www.w3.org/2000/svg\" height=\"24px\" viewBox=\"0 -960 960 960\">\n",
              "    <path d=\"M120-120v-720h720v720H120Zm60-500h600v-160H180v160Zm220 220h160v-160H400v160Zm0 220h160v-160H400v160ZM180-400h160v-160H180v160Zm440 0h160v-160H620v160ZM180-180h160v-160H180v160Zm440 0h160v-160H620v160Z\"/>\n",
              "  </svg>\n",
              "    </button>\n",
              "\n",
              "  <style>\n",
              "    .colab-df-container {\n",
              "      display:flex;\n",
              "      gap: 12px;\n",
              "    }\n",
              "\n",
              "    .colab-df-convert {\n",
              "      background-color: #E8F0FE;\n",
              "      border: none;\n",
              "      border-radius: 50%;\n",
              "      cursor: pointer;\n",
              "      display: none;\n",
              "      fill: #1967D2;\n",
              "      height: 32px;\n",
              "      padding: 0 0 0 0;\n",
              "      width: 32px;\n",
              "    }\n",
              "\n",
              "    .colab-df-convert:hover {\n",
              "      background-color: #E2EBFA;\n",
              "      box-shadow: 0px 1px 2px rgba(60, 64, 67, 0.3), 0px 1px 3px 1px rgba(60, 64, 67, 0.15);\n",
              "      fill: #174EA6;\n",
              "    }\n",
              "\n",
              "    .colab-df-buttons div {\n",
              "      margin-bottom: 4px;\n",
              "    }\n",
              "\n",
              "    [theme=dark] .colab-df-convert {\n",
              "      background-color: #3B4455;\n",
              "      fill: #D2E3FC;\n",
              "    }\n",
              "\n",
              "    [theme=dark] .colab-df-convert:hover {\n",
              "      background-color: #434B5C;\n",
              "      box-shadow: 0px 1px 3px 1px rgba(0, 0, 0, 0.15);\n",
              "      filter: drop-shadow(0px 1px 2px rgba(0, 0, 0, 0.3));\n",
              "      fill: #FFFFFF;\n",
              "    }\n",
              "  </style>\n",
              "\n",
              "    <script>\n",
              "      const buttonEl =\n",
              "        document.querySelector('#df-49206a48-37bd-4d55-9437-d860d52f4e2c button.colab-df-convert');\n",
              "      buttonEl.style.display =\n",
              "        google.colab.kernel.accessAllowed ? 'block' : 'none';\n",
              "\n",
              "      async function convertToInteractive(key) {\n",
              "        const element = document.querySelector('#df-49206a48-37bd-4d55-9437-d860d52f4e2c');\n",
              "        const dataTable =\n",
              "          await google.colab.kernel.invokeFunction('convertToInteractive',\n",
              "                                                    [key], {});\n",
              "        if (!dataTable) return;\n",
              "\n",
              "        const docLinkHtml = 'Like what you see? Visit the ' +\n",
              "          '<a target=\"_blank\" href=https://colab.research.google.com/notebooks/data_table.ipynb>data table notebook</a>'\n",
              "          + ' to learn more about interactive tables.';\n",
              "        element.innerHTML = '';\n",
              "        dataTable['output_type'] = 'display_data';\n",
              "        await google.colab.output.renderOutput(dataTable, element);\n",
              "        const docLink = document.createElement('div');\n",
              "        docLink.innerHTML = docLinkHtml;\n",
              "        element.appendChild(docLink);\n",
              "      }\n",
              "    </script>\n",
              "  </div>\n",
              "\n",
              "\n",
              "    <div id=\"df-62af3011-4506-49f4-958d-886de4f2e633\">\n",
              "      <button class=\"colab-df-quickchart\" onclick=\"quickchart('df-62af3011-4506-49f4-958d-886de4f2e633')\"\n",
              "                title=\"Suggest charts\"\n",
              "                style=\"display:none;\">\n",
              "\n",
              "<svg xmlns=\"http://www.w3.org/2000/svg\" height=\"24px\"viewBox=\"0 0 24 24\"\n",
              "     width=\"24px\">\n",
              "    <g>\n",
              "        <path d=\"M19 3H5c-1.1 0-2 .9-2 2v14c0 1.1.9 2 2 2h14c1.1 0 2-.9 2-2V5c0-1.1-.9-2-2-2zM9 17H7v-7h2v7zm4 0h-2V7h2v10zm4 0h-2v-4h2v4z\"/>\n",
              "    </g>\n",
              "</svg>\n",
              "      </button>\n",
              "\n",
              "<style>\n",
              "  .colab-df-quickchart {\n",
              "      --bg-color: #E8F0FE;\n",
              "      --fill-color: #1967D2;\n",
              "      --hover-bg-color: #E2EBFA;\n",
              "      --hover-fill-color: #174EA6;\n",
              "      --disabled-fill-color: #AAA;\n",
              "      --disabled-bg-color: #DDD;\n",
              "  }\n",
              "\n",
              "  [theme=dark] .colab-df-quickchart {\n",
              "      --bg-color: #3B4455;\n",
              "      --fill-color: #D2E3FC;\n",
              "      --hover-bg-color: #434B5C;\n",
              "      --hover-fill-color: #FFFFFF;\n",
              "      --disabled-bg-color: #3B4455;\n",
              "      --disabled-fill-color: #666;\n",
              "  }\n",
              "\n",
              "  .colab-df-quickchart {\n",
              "    background-color: var(--bg-color);\n",
              "    border: none;\n",
              "    border-radius: 50%;\n",
              "    cursor: pointer;\n",
              "    display: none;\n",
              "    fill: var(--fill-color);\n",
              "    height: 32px;\n",
              "    padding: 0;\n",
              "    width: 32px;\n",
              "  }\n",
              "\n",
              "  .colab-df-quickchart:hover {\n",
              "    background-color: var(--hover-bg-color);\n",
              "    box-shadow: 0 1px 2px rgba(60, 64, 67, 0.3), 0 1px 3px 1px rgba(60, 64, 67, 0.15);\n",
              "    fill: var(--button-hover-fill-color);\n",
              "  }\n",
              "\n",
              "  .colab-df-quickchart-complete:disabled,\n",
              "  .colab-df-quickchart-complete:disabled:hover {\n",
              "    background-color: var(--disabled-bg-color);\n",
              "    fill: var(--disabled-fill-color);\n",
              "    box-shadow: none;\n",
              "  }\n",
              "\n",
              "  .colab-df-spinner {\n",
              "    border: 2px solid var(--fill-color);\n",
              "    border-color: transparent;\n",
              "    border-bottom-color: var(--fill-color);\n",
              "    animation:\n",
              "      spin 1s steps(1) infinite;\n",
              "  }\n",
              "\n",
              "  @keyframes spin {\n",
              "    0% {\n",
              "      border-color: transparent;\n",
              "      border-bottom-color: var(--fill-color);\n",
              "      border-left-color: var(--fill-color);\n",
              "    }\n",
              "    20% {\n",
              "      border-color: transparent;\n",
              "      border-left-color: var(--fill-color);\n",
              "      border-top-color: var(--fill-color);\n",
              "    }\n",
              "    30% {\n",
              "      border-color: transparent;\n",
              "      border-left-color: var(--fill-color);\n",
              "      border-top-color: var(--fill-color);\n",
              "      border-right-color: var(--fill-color);\n",
              "    }\n",
              "    40% {\n",
              "      border-color: transparent;\n",
              "      border-right-color: var(--fill-color);\n",
              "      border-top-color: var(--fill-color);\n",
              "    }\n",
              "    60% {\n",
              "      border-color: transparent;\n",
              "      border-right-color: var(--fill-color);\n",
              "    }\n",
              "    80% {\n",
              "      border-color: transparent;\n",
              "      border-right-color: var(--fill-color);\n",
              "      border-bottom-color: var(--fill-color);\n",
              "    }\n",
              "    90% {\n",
              "      border-color: transparent;\n",
              "      border-bottom-color: var(--fill-color);\n",
              "    }\n",
              "  }\n",
              "</style>\n",
              "\n",
              "      <script>\n",
              "        async function quickchart(key) {\n",
              "          const quickchartButtonEl =\n",
              "            document.querySelector('#' + key + ' button');\n",
              "          quickchartButtonEl.disabled = true;  // To prevent multiple clicks.\n",
              "          quickchartButtonEl.classList.add('colab-df-spinner');\n",
              "          try {\n",
              "            const charts = await google.colab.kernel.invokeFunction(\n",
              "                'suggestCharts', [key], {});\n",
              "          } catch (error) {\n",
              "            console.error('Error during call to suggestCharts:', error);\n",
              "          }\n",
              "          quickchartButtonEl.classList.remove('colab-df-spinner');\n",
              "          quickchartButtonEl.classList.add('colab-df-quickchart-complete');\n",
              "        }\n",
              "        (() => {\n",
              "          let quickchartButtonEl =\n",
              "            document.querySelector('#df-62af3011-4506-49f4-958d-886de4f2e633 button');\n",
              "          quickchartButtonEl.style.display =\n",
              "            google.colab.kernel.accessAllowed ? 'block' : 'none';\n",
              "        })();\n",
              "      </script>\n",
              "    </div>\n",
              "\n",
              "    </div>\n",
              "  </div>\n"
            ],
            "application/vnd.google.colaboratory.intrinsic+json": {
              "type": "dataframe",
              "variable_name": "df_statistics",
              "summary": "{\n  \"name\": \"df_statistics\",\n  \"rows\": 549,\n  \"fields\": [\n    {\n      \"column\": \"file\",\n      \"properties\": {\n        \"dtype\": \"string\",\n        \"num_unique_values\": 549,\n        \"samples\": [\n          \"407-tanzania-ceo.tif\",\n          \"116-ile-de-france_2019-02-06_2020-02-01.tif\",\n          \"2020-tanzania-ceo.tif\"\n        ],\n        \"semantic_type\": \"\",\n        \"description\": \"\"\n      }\n    },\n    {\n      \"column\": \"mean\",\n      \"properties\": {\n        \"dtype\": \"number\",\n        \"std\": 4.201289209426997,\n        \"min\": -27.783990791203173,\n        \"max\": -2.995981785570844,\n        \"num_unique_values\": 548,\n        \"samples\": [\n          -16.365827201617847,\n          -11.683092071038125,\n          -10.51391185875378\n        ],\n        \"semantic_type\": \"\",\n        \"description\": \"\"\n      }\n    },\n    {\n      \"column\": \"std\",\n      \"properties\": {\n        \"dtype\": \"number\",\n        \"std\": 0.5519137913462719,\n        \"min\": 0.8417552814154597,\n        \"max\": 4.6787601980074385,\n        \"num_unique_values\": 548,\n        \"samples\": [\n          1.995247401419537,\n          1.4246436216805765,\n          1.772310687315356\n        ],\n        \"semantic_type\": \"\",\n        \"description\": \"\"\n      }\n    },\n    {\n      \"column\": \"min\",\n      \"properties\": {\n        \"dtype\": \"number\",\n        \"std\": 4.854866450839777,\n        \"min\": -39.4341302134132,\n        \"max\": -8.189201613779233,\n        \"num_unique_values\": 546,\n        \"samples\": [\n          -11.259575997822422,\n          -10.124624902981296,\n          -10.212089202179511\n        ],\n        \"semantic_type\": \"\",\n        \"description\": \"\"\n      }\n    },\n    {\n      \"column\": \"max\",\n      \"properties\": {\n        \"dtype\": \"number\",\n        \"std\": 4.673451464317344,\n        \"min\": -23.23066343851319,\n        \"max\": 7.4327629540448665,\n        \"num_unique_values\": 547,\n        \"samples\": [\n          -2.7262894233547135,\n          -3.8308673099733226,\n          2.14419612333588\n        ],\n        \"semantic_type\": \"\",\n        \"description\": \"\"\n      }\n    },\n    {\n      \"column\": \"shape\",\n      \"properties\": {\n        \"dtype\": \"category\",\n        \"num_unique_values\": 18,\n        \"samples\": [\n          [\n            17,\n            17\n          ],\n          [\n            18,\n            17\n          ],\n          [\n            17,\n            32\n          ]\n        ],\n        \"semantic_type\": \"\",\n        \"description\": \"\"\n      }\n    },\n    {\n      \"column\": \"error\",\n      \"properties\": {\n        \"dtype\": \"category\",\n        \"num_unique_values\": 1,\n        \"samples\": [\n          \"Read failed. See previous exception for details.\"\n        ],\n        \"semantic_type\": \"\",\n        \"description\": \"\"\n      }\n    }\n  ]\n}"
            }
          },
          "metadata": {},
          "execution_count": 27
        }
      ]
    },
    {
      "cell_type": "markdown",
      "source": [
        "# Mean values consistently negative\n",
        "\n",
        "Most images have average values between –15 and –5, indicating that the pixel values themselves are negative due to how the satellite bands are scaled.\n",
        "\n",
        "**Central concentration around –10**\n",
        "\n",
        "There's a noticeable peak around –10, suggesting that most images have similar negative mean values after preprocessing.\n",
        "\n",
        "**Longer left tail below –20**\n",
        "\n",
        "Some images have means as low as –25 or –30, indicating darker or sparser reflectance in those particular bands or scenes.\n",
        "\n",
        "# Why mean values are negative:\n",
        "According to GIS experts, it's common in certain surface reflectance products (e.g. Landsat) to have negative pixel values for non-vegetated surfaces—like water, clouds, rocks, or masked areas—because they reflect more in red than near-infrared. These values don't indicate errors; rather, they reflect how the data were retrieved or preprocessed.\n",
        "\n",
        "![descarga (1).png](data:image/png;base64,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)\n",
        "\n"
      ],
      "metadata": {
        "id": "njKqSFQl-6n3"
      }
    },
    {
      "cell_type": "markdown",
      "source": [
        "# NDVI estimation\n",
        "\n",
        "NDVI (Normalized Difference Vegetation Index)\n",
        "\n",
        "Is a remotely‑sensed indicator used to assess the density and health of green vegetation. It compares the reflectance of near‑infrared (NIR) light—strongly reflected by healthy plants—with red light, which is strongly absorbed by chlorophyll, via the formula:\n",
        "\n",
        "*NDVI = (NIR – Red) / (NIR + Red)*\n",
        "\n",
        "**The index ranges from –1 to +1:**\n",
        "\n",
        "Low (near 0 or negative): water, bare soil, or built-up areas\n",
        "\n",
        "High (0.6–0.9): dense, healthy vegetation\n",
        "\n",
        "**NDVI is widely utilized in agriculture, forestry, land monitoring, and climate studies to track plant vitality, detect drought, and optimize resource use.**"
      ],
      "metadata": {
        "id": "4mlP8uVnVNjX"
      }
    },
    {
      "cell_type": "code",
      "source": [
        "def ndvi_est(path: str) -> dict:\n",
        "    file = Path(path).name\n",
        "\n",
        "    try:\n",
        "        with rasterio.open(path) as src:\n",
        "            red, nir = (src.read(i).astype(float) for i in (1, 2))\n",
        "            ndvi = (nir - red) / (nir + red + 1e-5)\n",
        "\n",
        "        return {\n",
        "            \"file\": file,\n",
        "            \"ndvi_mean\": np.nanmean(ndvi),\n",
        "            \"ndvi_std\":  np.nanstd(ndvi)\n",
        "        }\n",
        "\n",
        "    except Exception as e:\n",
        "        return {\n",
        "            \"file\": file,\n",
        "            \"ndvi_mean\": None,\n",
        "            \"ndvi_std\":  None,\n",
        "            \"error\":     str(e)\n",
        "        }\n"
      ],
      "metadata": {
        "id": "_dAXLPtcVgls"
      },
      "execution_count": 37,
      "outputs": []
    },
    {
      "cell_type": "markdown",
      "source": [
        "# Parallel execution with Joblib"
      ],
      "metadata": {
        "id": "a88VP-_fWWge"
      }
    },
    {
      "cell_type": "code",
      "source": [
        "start_time = time()\n",
        "\n",
        "ndvi = Parallel(n_jobs=-1)(\n",
        "    delayed(img_preprocessing)(path) for path in routes\n",
        ")\n",
        "\n",
        "elapsed = time() - start_time\n",
        "print(f\"Parallel preprocessing in  {elapsed:.2f} s.\")\n",
        "\n",
        "# Results to DF\n",
        "df_ndvi = pd.DataFrame(ndvi)\n",
        "df_ndvi.head()\n"
      ],
      "metadata": {
        "id": "5MZjXL7NWbKY",
        "colab": {
          "base_uri": "https://localhost:8080/",
          "height": 224
        },
        "outputId": "696b5b97-d2ec-46d1-ae3d-a70789efbfa2"
      },
      "execution_count": 38,
      "outputs": [
        {
          "output_type": "stream",
          "name": "stdout",
          "text": [
            "Parallel preprocessing in  111.34 s.\n"
          ]
        },
        {
          "output_type": "execute_result",
          "data": {
            "text/plain": [
              "                                     file       mean       std        min  \\\n",
              "0  234-ethiopia_2020-02-07_2021-02-01.tif -15.134761  1.798779 -21.686744   \n",
              "1  245-ethiopia_2020-02-07_2021-02-01.tif -15.291374  1.384763 -20.250263   \n",
              "2  538-ethiopia_2020-02-07_2021-02-01.tif  -9.775265  1.785382 -16.077098   \n",
              "3  698-ethiopia_2020-02-07_2021-02-01.tif -12.070617  2.255461 -20.197721   \n",
              "4      246-togo_2019-02-06_2020-02-01.tif -12.455573  2.140130 -17.560089   \n",
              "\n",
              "         max     shape error  \n",
              "0 -10.121315  (17, 17)   NaN  \n",
              "1 -11.684926  (18, 17)   NaN  \n",
              "2  -6.173658  (18, 17)   NaN  \n",
              "3  -7.952914  (18, 17)   NaN  \n",
              "4  -6.417751  (17, 18)   NaN  "
            ],
            "text/html": [
              "\n",
              "  <div id=\"df-ea0c07ab-3577-4a5b-9d22-aa66af102a81\" class=\"colab-df-container\">\n",
              "    <div>\n",
              "<style scoped>\n",
              "    .dataframe tbody tr th:only-of-type {\n",
              "        vertical-align: middle;\n",
              "    }\n",
              "\n",
              "    .dataframe tbody tr th {\n",
              "        vertical-align: top;\n",
              "    }\n",
              "\n",
              "    .dataframe thead th {\n",
              "        text-align: right;\n",
              "    }\n",
              "</style>\n",
              "<table border=\"1\" class=\"dataframe\">\n",
              "  <thead>\n",
              "    <tr style=\"text-align: right;\">\n",
              "      <th></th>\n",
              "      <th>file</th>\n",
              "      <th>mean</th>\n",
              "      <th>std</th>\n",
              "      <th>min</th>\n",
              "      <th>max</th>\n",
              "      <th>shape</th>\n",
              "      <th>error</th>\n",
              "    </tr>\n",
              "  </thead>\n",
              "  <tbody>\n",
              "    <tr>\n",
              "      <th>0</th>\n",
              "      <td>234-ethiopia_2020-02-07_2021-02-01.tif</td>\n",
              "      <td>-15.134761</td>\n",
              "      <td>1.798779</td>\n",
              "      <td>-21.686744</td>\n",
              "      <td>-10.121315</td>\n",
              "      <td>(17, 17)</td>\n",
              "      <td>NaN</td>\n",
              "    </tr>\n",
              "    <tr>\n",
              "      <th>1</th>\n",
              "      <td>245-ethiopia_2020-02-07_2021-02-01.tif</td>\n",
              "      <td>-15.291374</td>\n",
              "      <td>1.384763</td>\n",
              "      <td>-20.250263</td>\n",
              "      <td>-11.684926</td>\n",
              "      <td>(18, 17)</td>\n",
              "      <td>NaN</td>\n",
              "    </tr>\n",
              "    <tr>\n",
              "      <th>2</th>\n",
              "      <td>538-ethiopia_2020-02-07_2021-02-01.tif</td>\n",
              "      <td>-9.775265</td>\n",
              "      <td>1.785382</td>\n",
              "      <td>-16.077098</td>\n",
              "      <td>-6.173658</td>\n",
              "      <td>(18, 17)</td>\n",
              "      <td>NaN</td>\n",
              "    </tr>\n",
              "    <tr>\n",
              "      <th>3</th>\n",
              "      <td>698-ethiopia_2020-02-07_2021-02-01.tif</td>\n",
              "      <td>-12.070617</td>\n",
              "      <td>2.255461</td>\n",
              "      <td>-20.197721</td>\n",
              "      <td>-7.952914</td>\n",
              "      <td>(18, 17)</td>\n",
              "      <td>NaN</td>\n",
              "    </tr>\n",
              "    <tr>\n",
              "      <th>4</th>\n",
              "      <td>246-togo_2019-02-06_2020-02-01.tif</td>\n",
              "      <td>-12.455573</td>\n",
              "      <td>2.140130</td>\n",
              "      <td>-17.560089</td>\n",
              "      <td>-6.417751</td>\n",
              "      <td>(17, 18)</td>\n",
              "      <td>NaN</td>\n",
              "    </tr>\n",
              "  </tbody>\n",
              "</table>\n",
              "</div>\n",
              "    <div class=\"colab-df-buttons\">\n",
              "\n",
              "  <div class=\"colab-df-container\">\n",
              "    <button class=\"colab-df-convert\" onclick=\"convertToInteractive('df-ea0c07ab-3577-4a5b-9d22-aa66af102a81')\"\n",
              "            title=\"Convert this dataframe to an interactive table.\"\n",
              "            style=\"display:none;\">\n",
              "\n",
              "  <svg xmlns=\"http://www.w3.org/2000/svg\" height=\"24px\" viewBox=\"0 -960 960 960\">\n",
              "    <path d=\"M120-120v-720h720v720H120Zm60-500h600v-160H180v160Zm220 220h160v-160H400v160Zm0 220h160v-160H400v160ZM180-400h160v-160H180v160Zm440 0h160v-160H620v160ZM180-180h160v-160H180v160Zm440 0h160v-160H620v160Z\"/>\n",
              "  </svg>\n",
              "    </button>\n",
              "\n",
              "  <style>\n",
              "    .colab-df-container {\n",
              "      display:flex;\n",
              "      gap: 12px;\n",
              "    }\n",
              "\n",
              "    .colab-df-convert {\n",
              "      background-color: #E8F0FE;\n",
              "      border: none;\n",
              "      border-radius: 50%;\n",
              "      cursor: pointer;\n",
              "      display: none;\n",
              "      fill: #1967D2;\n",
              "      height: 32px;\n",
              "      padding: 0 0 0 0;\n",
              "      width: 32px;\n",
              "    }\n",
              "\n",
              "    .colab-df-convert:hover {\n",
              "      background-color: #E2EBFA;\n",
              "      box-shadow: 0px 1px 2px rgba(60, 64, 67, 0.3), 0px 1px 3px 1px rgba(60, 64, 67, 0.15);\n",
              "      fill: #174EA6;\n",
              "    }\n",
              "\n",
              "    .colab-df-buttons div {\n",
              "      margin-bottom: 4px;\n",
              "    }\n",
              "\n",
              "    [theme=dark] .colab-df-convert {\n",
              "      background-color: #3B4455;\n",
              "      fill: #D2E3FC;\n",
              "    }\n",
              "\n",
              "    [theme=dark] .colab-df-convert:hover {\n",
              "      background-color: #434B5C;\n",
              "      box-shadow: 0px 1px 3px 1px rgba(0, 0, 0, 0.15);\n",
              "      filter: drop-shadow(0px 1px 2px rgba(0, 0, 0, 0.3));\n",
              "      fill: #FFFFFF;\n",
              "    }\n",
              "  </style>\n",
              "\n",
              "    <script>\n",
              "      const buttonEl =\n",
              "        document.querySelector('#df-ea0c07ab-3577-4a5b-9d22-aa66af102a81 button.colab-df-convert');\n",
              "      buttonEl.style.display =\n",
              "        google.colab.kernel.accessAllowed ? 'block' : 'none';\n",
              "\n",
              "      async function convertToInteractive(key) {\n",
              "        const element = document.querySelector('#df-ea0c07ab-3577-4a5b-9d22-aa66af102a81');\n",
              "        const dataTable =\n",
              "          await google.colab.kernel.invokeFunction('convertToInteractive',\n",
              "                                                    [key], {});\n",
              "        if (!dataTable) return;\n",
              "\n",
              "        const docLinkHtml = 'Like what you see? Visit the ' +\n",
              "          '<a target=\"_blank\" href=https://colab.research.google.com/notebooks/data_table.ipynb>data table notebook</a>'\n",
              "          + ' to learn more about interactive tables.';\n",
              "        element.innerHTML = '';\n",
              "        dataTable['output_type'] = 'display_data';\n",
              "        await google.colab.output.renderOutput(dataTable, element);\n",
              "        const docLink = document.createElement('div');\n",
              "        docLink.innerHTML = docLinkHtml;\n",
              "        element.appendChild(docLink);\n",
              "      }\n",
              "    </script>\n",
              "  </div>\n",
              "\n",
              "\n",
              "    <div id=\"df-3ffe0c88-bc98-4bcf-90a8-697794dca453\">\n",
              "      <button class=\"colab-df-quickchart\" onclick=\"quickchart('df-3ffe0c88-bc98-4bcf-90a8-697794dca453')\"\n",
              "                title=\"Suggest charts\"\n",
              "                style=\"display:none;\">\n",
              "\n",
              "<svg xmlns=\"http://www.w3.org/2000/svg\" height=\"24px\"viewBox=\"0 0 24 24\"\n",
              "     width=\"24px\">\n",
              "    <g>\n",
              "        <path d=\"M19 3H5c-1.1 0-2 .9-2 2v14c0 1.1.9 2 2 2h14c1.1 0 2-.9 2-2V5c0-1.1-.9-2-2-2zM9 17H7v-7h2v7zm4 0h-2V7h2v10zm4 0h-2v-4h2v4z\"/>\n",
              "    </g>\n",
              "</svg>\n",
              "      </button>\n",
              "\n",
              "<style>\n",
              "  .colab-df-quickchart {\n",
              "      --bg-color: #E8F0FE;\n",
              "      --fill-color: #1967D2;\n",
              "      --hover-bg-color: #E2EBFA;\n",
              "      --hover-fill-color: #174EA6;\n",
              "      --disabled-fill-color: #AAA;\n",
              "      --disabled-bg-color: #DDD;\n",
              "  }\n",
              "\n",
              "  [theme=dark] .colab-df-quickchart {\n",
              "      --bg-color: #3B4455;\n",
              "      --fill-color: #D2E3FC;\n",
              "      --hover-bg-color: #434B5C;\n",
              "      --hover-fill-color: #FFFFFF;\n",
              "      --disabled-bg-color: #3B4455;\n",
              "      --disabled-fill-color: #666;\n",
              "  }\n",
              "\n",
              "  .colab-df-quickchart {\n",
              "    background-color: var(--bg-color);\n",
              "    border: none;\n",
              "    border-radius: 50%;\n",
              "    cursor: pointer;\n",
              "    display: none;\n",
              "    fill: var(--fill-color);\n",
              "    height: 32px;\n",
              "    padding: 0;\n",
              "    width: 32px;\n",
              "  }\n",
              "\n",
              "  .colab-df-quickchart:hover {\n",
              "    background-color: var(--hover-bg-color);\n",
              "    box-shadow: 0 1px 2px rgba(60, 64, 67, 0.3), 0 1px 3px 1px rgba(60, 64, 67, 0.15);\n",
              "    fill: var(--button-hover-fill-color);\n",
              "  }\n",
              "\n",
              "  .colab-df-quickchart-complete:disabled,\n",
              "  .colab-df-quickchart-complete:disabled:hover {\n",
              "    background-color: var(--disabled-bg-color);\n",
              "    fill: var(--disabled-fill-color);\n",
              "    box-shadow: none;\n",
              "  }\n",
              "\n",
              "  .colab-df-spinner {\n",
              "    border: 2px solid var(--fill-color);\n",
              "    border-color: transparent;\n",
              "    border-bottom-color: var(--fill-color);\n",
              "    animation:\n",
              "      spin 1s steps(1) infinite;\n",
              "  }\n",
              "\n",
              "  @keyframes spin {\n",
              "    0% {\n",
              "      border-color: transparent;\n",
              "      border-bottom-color: var(--fill-color);\n",
              "      border-left-color: var(--fill-color);\n",
              "    }\n",
              "    20% {\n",
              "      border-color: transparent;\n",
              "      border-left-color: var(--fill-color);\n",
              "      border-top-color: var(--fill-color);\n",
              "    }\n",
              "    30% {\n",
              "      border-color: transparent;\n",
              "      border-left-color: var(--fill-color);\n",
              "      border-top-color: var(--fill-color);\n",
              "      border-right-color: var(--fill-color);\n",
              "    }\n",
              "    40% {\n",
              "      border-color: transparent;\n",
              "      border-right-color: var(--fill-color);\n",
              "      border-top-color: var(--fill-color);\n",
              "    }\n",
              "    60% {\n",
              "      border-color: transparent;\n",
              "      border-right-color: var(--fill-color);\n",
              "    }\n",
              "    80% {\n",
              "      border-color: transparent;\n",
              "      border-right-color: var(--fill-color);\n",
              "      border-bottom-color: var(--fill-color);\n",
              "    }\n",
              "    90% {\n",
              "      border-color: transparent;\n",
              "      border-bottom-color: var(--fill-color);\n",
              "    }\n",
              "  }\n",
              "</style>\n",
              "\n",
              "      <script>\n",
              "        async function quickchart(key) {\n",
              "          const quickchartButtonEl =\n",
              "            document.querySelector('#' + key + ' button');\n",
              "          quickchartButtonEl.disabled = true;  // To prevent multiple clicks.\n",
              "          quickchartButtonEl.classList.add('colab-df-spinner');\n",
              "          try {\n",
              "            const charts = await google.colab.kernel.invokeFunction(\n",
              "                'suggestCharts', [key], {});\n",
              "          } catch (error) {\n",
              "            console.error('Error during call to suggestCharts:', error);\n",
              "          }\n",
              "          quickchartButtonEl.classList.remove('colab-df-spinner');\n",
              "          quickchartButtonEl.classList.add('colab-df-quickchart-complete');\n",
              "        }\n",
              "        (() => {\n",
              "          let quickchartButtonEl =\n",
              "            document.querySelector('#df-3ffe0c88-bc98-4bcf-90a8-697794dca453 button');\n",
              "          quickchartButtonEl.style.display =\n",
              "            google.colab.kernel.accessAllowed ? 'block' : 'none';\n",
              "        })();\n",
              "      </script>\n",
              "    </div>\n",
              "\n",
              "    </div>\n",
              "  </div>\n"
            ],
            "application/vnd.google.colaboratory.intrinsic+json": {
              "type": "dataframe",
              "variable_name": "df_ndvi",
              "summary": "{\n  \"name\": \"df_ndvi\",\n  \"rows\": 549,\n  \"fields\": [\n    {\n      \"column\": \"file\",\n      \"properties\": {\n        \"dtype\": \"string\",\n        \"num_unique_values\": 549,\n        \"samples\": [\n          \"407-tanzania-ceo.tif\",\n          \"116-ile-de-france_2019-02-06_2020-02-01.tif\",\n          \"2020-tanzania-ceo.tif\"\n        ],\n        \"semantic_type\": \"\",\n        \"description\": \"\"\n      }\n    },\n    {\n      \"column\": \"mean\",\n      \"properties\": {\n        \"dtype\": \"number\",\n        \"std\": 4.201289209426997,\n        \"min\": -27.783990791203173,\n        \"max\": -2.995981785570844,\n        \"num_unique_values\": 548,\n        \"samples\": [\n          -16.365827201617847,\n          -11.683092071038125,\n          -10.51391185875378\n        ],\n        \"semantic_type\": \"\",\n        \"description\": \"\"\n      }\n    },\n    {\n      \"column\": \"std\",\n      \"properties\": {\n        \"dtype\": \"number\",\n        \"std\": 0.5519137913462719,\n        \"min\": 0.8417552814154597,\n        \"max\": 4.6787601980074385,\n        \"num_unique_values\": 548,\n        \"samples\": [\n          1.995247401419537,\n          1.4246436216805765,\n          1.772310687315356\n        ],\n        \"semantic_type\": \"\",\n        \"description\": \"\"\n      }\n    },\n    {\n      \"column\": \"min\",\n      \"properties\": {\n        \"dtype\": \"number\",\n        \"std\": 4.854866450839777,\n        \"min\": -39.4341302134132,\n        \"max\": -8.189201613779233,\n        \"num_unique_values\": 546,\n        \"samples\": [\n          -11.259575997822422,\n          -10.124624902981296,\n          -10.212089202179511\n        ],\n        \"semantic_type\": \"\",\n        \"description\": \"\"\n      }\n    },\n    {\n      \"column\": \"max\",\n      \"properties\": {\n        \"dtype\": \"number\",\n        \"std\": 4.673451464317344,\n        \"min\": -23.23066343851319,\n        \"max\": 7.4327629540448665,\n        \"num_unique_values\": 547,\n        \"samples\": [\n          -2.7262894233547135,\n          -3.8308673099733226,\n          2.14419612333588\n        ],\n        \"semantic_type\": \"\",\n        \"description\": \"\"\n      }\n    },\n    {\n      \"column\": \"shape\",\n      \"properties\": {\n        \"dtype\": \"category\",\n        \"num_unique_values\": 18,\n        \"samples\": [\n          [\n            17,\n            17\n          ],\n          [\n            18,\n            17\n          ],\n          [\n            17,\n            32\n          ]\n        ],\n        \"semantic_type\": \"\",\n        \"description\": \"\"\n      }\n    },\n    {\n      \"column\": \"error\",\n      \"properties\": {\n        \"dtype\": \"category\",\n        \"num_unique_values\": 1,\n        \"samples\": [\n          \"Read failed. See previous exception for details.\"\n        ],\n        \"semantic_type\": \"\",\n        \"description\": \"\"\n      }\n    }\n  ]\n}"
            }
          },
          "metadata": {},
          "execution_count": 38
        }
      ]
    },
    {
      "cell_type": "markdown",
      "source": [
        "# This scatter plot compares the minimum (min) and maximum (max) pixel values from each GeoTIFF file after preprocessing.\n",
        "\n",
        "**Strong Positive Correlation**\n",
        "\n",
        "The points form an upward-sloping cloud, indicating that files with lower minimum pixel values tend to also have lower maximum values, and vice versa.\n",
        "\n",
        "**Narrow Vertical Spread**\n",
        "\n",
        "For each minimum value, there's only modest variation in maximum values—this suggests internal consistency within each image.\n",
        "\n",
        "**All Pixel Values Are Negative**\n",
        "\n",
        "Seeing both min and max in the negative range (e.g. –25 to –5) hints at unusual data scaling—perhaps it’s raw satellite indices, fractional values, or data centered around zero.\n",
        "\n",
        "**One Outlier at max ≈ +7**\n",
        "\n",
        "A point significantly above the trend suggests one image has much higher pixel values relative to others. It could be an anomaly or include bright features (e.g. desert, clouds).\n",
        "\n",
        "![descarga.png](data:image/png;base64,iVBORw0KGgoAAAANSUhEUgAAAj4AAAGwCAYAAACpYG+ZAAAAOnRFWHRTb2Z0d2FyZQBNYXRwbG90bGliIHZlcnNpb24zLjEwLjAsIGh0dHBzOi8vbWF0cGxvdGxpYi5vcmcvlHJYcgAAAAlwSFlzAAAPYQAAD2EBqD+naQAAixhJREFUeJzt/XmcXFWdP/6/zl1r630NWSEhICEomzEJKswM2zAjIxo/oyYa8KeCAb+IjIB+RkWHcR2ZGRBEH0oYA6I4+AEVmImOoGZjCwQYlgSSdLbet1rvds7vj1u3UlVdXV3VXd21vZ/z6JF0V1Wful2deuec98KEEAKEEEIIIXVAKvcCCCGEEELmCgU+hBBCCKkbFPgQQgghpG5Q4EMIIYSQukGBDyGEEELqBgU+hBBCCKkbFPgQQgghpG5Q4JNFCIHx8XFQeyNCCCGk9lDgkyUcDqOpqQnhcLjcSyGEEEJIiVHgQwghhJC6QYEPIYQQQuoGBT6EEEIIqRsU+BBCCCGkblDgQwghhJC6QYEPIYQQQuoGBT6EEEIIqRsU+BBCCCGkblDgQwghhJC6QYEPIYQQQuoGBT6EEEIIqRsU+BBCCKlbCcvBYMRAwnLKvRQyR5RyL4AQQgiZawNhA1t2HsATL/chbjnwqzIuPb0b61cvRntIL/fyyCxiQghR7kVUkvHxcTQ1NWFsbAyNjY3lXg4hhJASGwgbuO5nu7GvPwyfIkNTJJg2R8J2sKyzAXd+5EwKfmoYHXURQgipK1t2HsC+/jA6QjpaghqCuoKWoIaOkI59/WFs2XGw3Esks4gCH0IIIXUjYTl44uU++BQZipz5FqjIEnRFxuOv9FLOTw2jwIcQQkjdiBg24pYDTcn99qcrEuKmg4hhz/HKyFyhwIcQQkjdCOkK/KoM0+Y5v27YHH5NRkin2p9aRYEPIYSQuuFTZVxyehcStgPbyQx+bIfDsB1cuqIbPlUu0wrJbKOQlhBCSF3ZsHoJdu0fwb7+MHRFhq5IMGw36Dm5swHrVy8u9xLJLKJy9ixUzk4IIbVvMGJgy46DePyVXsRNB35NxqUrqI9PPaDAJwsFPoQQUj8SlpvIHNIVOt6qE3TURQghpG75VJkCnjpDyc2EEEIIqRsU+BBCCCGkblDgQwghhJC6QYEPIYQQQuoGBT6EEEIIqRsU+BBCCCGkblDgQwghhJC6QYEPIYQQQuoGBT6EEEIIqRsU+BBCCCGkblDgQwghhJC6QYEPIYQQQuoGBT6EEEIIqRsU+BBCCCGkblDgQwghhJC6QYEPIYQQUmMSloPBiIGE5ZR7KRVHKfcCSumrX/0qbr311ozPnXLKKXjttdfKtCJCCCFk7gyEDWzZeQBPvNyHuOXAr8q49PRurF+9GO0hvdzLqwg1FfgAwIoVK/C73/0u9WdFqbmnSAghhEwwEDZw3c92Y19/GD5FhqZIiBo2tuw6iJ37h3HnR86k4Ac1GPgoioLu7u5yL4MQQgiZU1t2HsC+/jA6QjoU2c1kCeqA7XDs6w9jy46DuP7C5WVeZfnVXI7P3r17ccIJJ+Ckk07CRz/6UfT09OS9vWEYGB8fz/gghBBCqknCcvDEy33wKXIq6PEosgRdkfH4K72U84MaC3xWrVqFzZs344knnsDdd9+N/fv3493vfjfC4fCk9/nGN76Bpqam1MfChQvncMWEEELIzEUMG3HLgabkflvXFQlx00HEsOd4ZZWHCSFEuRcxW0ZHR7F48WJ873vfwyc+8YmctzEMA4ZhpP48Pj6OhQsXYmxsDI2NjXO1VEIIIXMgYblv/iFdgU+Vy72ckklYDi6/cxuiho2WoDbh68NREyGfgkc2ra2p5z0dNZfjk665uRnLly/Hvn37Jr2NruvQdUr2IoSQWlbr1U4+VcYlp3fh/l09sB2ecdxlOxyG7WDdigV1H/QANXbUlS0SieDNN9/EvHnzyr0UQgghZeJVO92/qwdRw4YisVS107UP7MZgxJj6QarAhtVLsKyzAQMRA8NRE1HDxnDUxEDEwMmdDVi/enG5l1gRairwufHGG/HUU0/hwIED2L59O97//vdDlmV8+MMfLvfSCCGElEl6tVNLUENQV9AS1NAR0lPVTrWgPaTjzo+cifWrFiPkU2BzgZBPwfpVi3EHlbKn1NRR1+HDh/HhD38YQ0ND6OjowHnnnYedO3eio6Oj3EsjhBBSBoVWO119/tKaOAZqD+m4/sLluPr8pTWZy1QKNRX4PPjgg+VeAiGEkApSTLVTLQUIPlWuqedTSjV11EUIIYSkC+kK/KoM0+Y5v27YHH5NRkivqX0AkgcFPoQQQmqWV+2UsB3YTmbw41U7Xbqiuy53R+p1kCmFuIQQQmrahtVLsGv/CPb1h6ErMnRFgmG7QU89VjvVemn/VGq6geF0jI+Po6mpiRoYEkJIDRmMGNiy4yAef6UXcdOBX5Nx6Yr6ebP35BpkatocCdvBss6GuhhkSoFPFgp8CCGkdtVq5+ZC3b71ddy/qydjkCngHvsNRAysX7W45geZUo4PIYSQuuFTZbSH9IKCnlrLgaFBpi7K8SGEkApX77sUc61Wc2Bmq7S/2l6fFPgQQkiFqtU34EqWKwfGG2+xc/9wVefAeKX9UcNGMMdTMGyOkE8puLS/Wl+fdNRFCCEVqF7mS1WaWh5vUcrS/mp+fVLgQwghFaiW34ArVT3kwJRqkGk1vz4p8CGEkApTD2/AlaiYHJhqVYpBptX++qQcH0IIqTD1Ol+q3EqdA1OpZjrItNpfn7TjQwghFYbmS5VHvY23KKa0P121vz4p8CGEkApTb2/AlaRUOTC1rNpfnxT4EEJIBaI34PIoRQ5MPajm1yeNrMhCIysIIZWC5kuVV7U15ptr1fr6pMAnCwU+hJBKQ2/ApJJV2+uzMjOPCCGEpPhUuSreUEh9qrbXJ+X4EEIIIQWqtcGl9Yh2fAghhJAplGouVbUdC9UiyvHJQjk+hBBC0uUaXGraHAnbwbLOhoIGl1brQM9aREddhBBCSB4znUtVzQM9axEFPoQQQmpGqXNwSjGXqlIHetZrvhLl+BBCCKl60z1KmirnZqZzqQoNnK4+f+mc5fzU+7EbBT6EEEKqWq4cHO8oaef+4Zw5OIW++c90cGmlDfSczrWqNXTURQghpKoVe5RUTM7NTOdSVdpAz0o9dptLFPgQQgipWtPJwSn2zX8mc6kqaaBnKfKVagEFPoQQQqpWMUdJwNRv/pos4dd7jmIsZqY+n29w6Xc/dEbqcSdTKQM9i71WtYpyfAghhFStYnNwJnvztxyOoYiB0bgFIYAP3L0df3PGCamcn/aQjusvXI6rz1+KiGEjYTl46NlDuOreZ6dMEPYCp/SBniGfgnUrFsxpQvFM85VqRW0/O0IIITXNO0q6f1cPbIdn7OJ4R0nrVixIHSXlevO3HI5DwzEkbA4IAUliiFlOzoRfnyojnLBx40N7ikoQzg6cytG5udhrVavoqIsQQkhVK+YoKVfOzVDEQMLmUBjAGENLQENbUJ8052cmCcI+VUZ7SJ9WcFGKvjuVcuxWTjSyIguNrCCEkOozGDEyjpL8moxLV+Q+ehqMGLj2AbekW5MlDEQMcC7AGIOuSFjUFoAiufsCw1ETIZ+CRzathU+VkbAcXH7nNkQNGy1BbcI60m8PoCS7O6Xuu1PMtSq1SphVRoFPFgp8CCGkehX6xuq9+f96z1EcHIqBMbg7PSEtFfQAQNSwYXOBhz+zBu0hHYMRA1fctR2KxBDMkQsTNWwYNsdfr+zCH98YmvFA04NDUfzjI6/grYHItOeE5Xv8uQpCKqlpIgU+WSjwIYSQ+jEWM/GBu7cjZjloy5HxW+yOz2DYTZAOaBL8qjLjgabHxuKIGg5aAio6GvVUUGY7HAMRA+tXLcb1Fy4vzcWYJaUY8lpKlONDCCGkbjUFNFx2xjyYNi+oz85UfXnGEhYAgc4G34wHmkYSFuKWA0BgNG6hZygGm7vfs5r67lRa00QKfAghhNS1YhN+J7t9f8SAEECzXyvJQNNGvwoGBlmSoEgMhs0xFDneX6ga+u5UYtNECnwIIYTUtXwNCu+YpDQ91+0/cOZ8tAY1+LXc+TJTBSrZQYIkMTAGCLiJ14wBY3ELPJmhMtfjLqajEpsmVu7VIoQQQkpkqkTeYvvs5Lo9ADz1xiCihg2/JsC52xNIYgxA8QNNJcbQ6FMwHLMghBv8CAFw4T52NfTdqcSmiRT4EEIIqXjTrUAqtprIp8pFPX727d99chvu39XjlsgLkQpemv3qlIFKriChNaghajow0porjsUtmDbHyZ0NWHfOAgxGjLKWh+dTiU0TKfAhhBBSsWZSBp2rmmiqDsszXevuQ2OwHAGbewXTAgMRE0NREyvnNxU00PT+XT1ImDZG4xbGEzY4F4AQ4AIIqDIafCrec3I7AIGrNk89MqPcNqxegl37R7CvPwxdkaErEgzbDXrK0TSRcnwIIYRUpPQKp6hhQ5FYKnC59oHdGIwYee8/k2qi6XRJ3rLzAPYPRqHKDBLL/BoXQH84/3oBN0hY1BrE/qEYhqImbC7AISAAyBJwYnsQ3/3g2/HSkXH8avfRaV2XuVZsDtVsoz4+WaiPDyGEVIbbt76O+3f1oCOkTzgimaqHTTEdltOPWaa7w+R9v6NjccRNB4rEgLTgx3YEBASuec9S3HjJqXmf922//V/cv7MnWbruJjU3+VU0+RWMxCws7QjizYHotK5LuVVC52ba8SGEEFJxZloGPZ1qopnsMEUMGzHTndrOkjO/0v/PTXBmU5ZuJywHf3xjEK1BDSd3NWBpZxDLOkPoavTBl2yIuPvQGHRZqpjy8GLMZFZZqVDgQwghpOLMtAzaSxQ2bZ7z67lKwTdv2483+sJoC2pFH42FdAW6IoFzN+jJJiAgMcC0ed7S7fTnLTEGRZJSVWEAoMoMnIsJQY+nGnr7lFtNBj7f//73sWTJEvh8PqxatQpPP/10uZdECCGkCNMJXNJN1WE5vSPzQNjAd554FT/6836MxSwcGIqhbzxRVJdknyrj4hXdAADOM7+fSCYm+xQZAT1/6fZUz9ty3Mqu7OdU6HUhNRj4/PznP8cNN9yAr3zlK3j++efx9re/HRdffDH6+/vLvTRCCCEFKiZwAXInIxfSkdk73vrZ04fgcAEmuX1yhqNmxoiIQnZSrjzvRHQ363A4YDkcDhewOYfFBXRFgiqzjDVP53mbNseZC5tgOIWN2CAT1Vxy86pVq3DuuefizjvvBOBG3gsXLsR1112Hm2++ecLtDcOAYRw/tx0fH8fChQspuZkQQspsMGLg2gd2T1oGfcdHzoQQmDQZOaQr6BmO4dHdR7D1tX7ETQd+TcalK44nK3sJ1G1BDQeGYuBCQJEkCOGWpLcGNXQ1+iZNhs72Rl8YV977DHrH4wDc6i6fIkOVGU7pbiyoimmq533r5Svw5UdeyXtdKq2kvZLUVOBjmiYCgQB++ctf4u/+7u9Sn//4xz+O0dFRPPLIIxPu89WvfhW33nrrhM9T4EMIqSeVUG2Ty2DEwJYdB/H4K70TAhchkHPqd8xy4Nck+BQZliPgV2VceFon3veO+VjUGsjYJUqv/Oodi2M4ZkGVGBhjsDmHxBiWtAUwFDULrpYajBjY/Of9ePyVXpg2R0BXMoKtmT7v9pA+5dfJ5Goq8Dl69Cjmz5+P7du3Y/Xq1anPf+ELX8BTTz2FXbt2TbgP7fgQQuZaJQUZM2kQOJdyXbNc5e62w3FwKIq4xRHSFXQ06DBtjoTtYFlnQ0bTwsGIgSvu2g5FYvBrMkzbwZHRBAybQ2KAAMAdgcaAilM6G/D99WcVdU1K8XOe6jEq6bVULeo++0nXdeh65fxyE0JqV6UFGXPd2XgmskdDTFbuPhQ1YToCssRgOm6ib1BXYDs8VZnl7dqEdAWqzNAfNmDaHO42gJuPYzscluPuC3AuMBR1d1iK+VkVO/5iOo9Riu8xU9UWfNVU4NPe3g5ZltHX15fx+b6+PnR3d5dpVYQQUplBRnpnYy94COrIGSRUmlzl7lwIjMUtt48OkgM9uYAks4zKrKvPXwqfKiOccPvuRBI2ZAmQJAlCAIblQAi3/2BIV9Ae0pGweEUGhOVUaYF8oWqqqkvTNJx99tn4/e9/n/oc5xy///3vM46+CCFkrs1kfMJsmGmDwHLLVfbNhXADFsYgIMAYIKXNjsiuzNqy80AqP0aAuRPQwcAFwOGOiFjQ6i/7z6oSzXScSDnVVOADADfccAN+9KMf4b777sOrr76Ka665BtFoFFdeeWW5l0YIqVOVGGTMtEFgueUq+5aYO96Bcw4u3DEP6c3/0nvceD+TgKZgcWsAbUENEnODH8Dd7ZGzmgdWQ0A4VyotkC9GTR11AcD/+T//BwMDA/jyl7+M3t5evOMd78ATTzyBrq6uci+NEFKnigky5ipHwtsxiRo2gjlOJQybI+TL32yv3HJN/dYUCZEEh1+T0JY2o8vrcbNuxQL4VBmDESP1M1FkCV2NPjcR2nJwYDgGAbhHZUJkBD+z+bOqllyZQgN570ix0lTuK3oGrr32Wlx77bXlXgYhhACYuyCjmDdOb8fk/l09sB0+YdhlepBQqbyp3+ll3V0NOhp9KuKmjfGEPaHHzfrViwHk/plIjEFTZUjM7YzMZJYR9ACzExBWW65MJQbyxajJwIcQQirJbAcZ033jzLVjkitIqGTtIR3XX7gcV5+/NBX0RQw7IxgK+RSsW7Eg43qk/0xM24HEGCTJDXRCuozhKEeDrmQEPrMREFZi0vtUqn23sKb6+JTC+Pg4mpqaqI8PIaSkCulCPJ03uFxvnJP1rZlsXbXaCM/bAVMlBouLCTthr/eO46rNz6B3PIH0LsuyBHDhHtv41dntjJyrFxHgBlkDEaPgpolzrVrXDVDgMwEFPoSQ2TIbQUap3oCKOSarllyUfDthXtfnN/rCsByOhOXAmy06r9mHf/nQ27Fj39CsBoTZnaOzFTomoxxmK5CfCxT4ZKHAhxAy20oVOMz1G2c15aJMtRO2cn4jfrX7SCpg5EK4H1xkjKeY6c8q3/3TO0cHcxwLRQ0bNhd4+DNrKu76AtW7W1iZB3CEEFLDStVtdy6TTKstFyVfc8a9fePY2xeGXz1elSSxZCKzhAlVSdO5doUEidWeK5Mrv6rSdqZyqbk+PoQQUi9yNfFLl963ZqYqrW9LwnIwGDFy9tOZqtxalWWMJyyoCptwX2DmPYwKbe6XqxeRx0ukvnRFd8UHEz5VRntIr/h1eijwIYSQKjVXb5yV1IBxIGzg9q2v4/I7t+GKu7bj8ju34V+3vpHRKXiqnTCf6n4+YZUuYEwPxIoJEjesXoJlnQ0YiBgYjpqIGjaGoyYGIkbVVNZVm8rcPyOEEFKQuShJr5S+LYUet011hGQ5Ag0+BabNZ9xeIPtIy6dKGIqY0GSpoOZ+uXoR5Sq/J6VDgQ8hhFSxuXjjrJRclEKHqhbSN+mDZy3AniPjMwoYcwVi4YSNkZgb+DQH1AnBT64gcSa5MtVSYVdJKPAhhJAqN9tJppXQ5Xmy4zaeLEzWZCljJ2WqnbBPvXcpAOQMGNedsyD1PfM9py07D2Bv3zhaA1qq47NfkzEUMWA6HENRE12Nvoz75AsSi0mkrqYKu0pDgQ8hhNSIUlWL5VLuLs/Zx22WwzEUMTCesCEEICAQMWz0DMewvKuh4J2w9IAxYTl46NlDuGrzs1MGE4dHYvjpjoMYT7ijMSTG0OhT0B7S0RzQMBgxMBa30NGgp7o/lypIzN5pUmSG8biFn+48UJEVdpWG+vhkoT4+hBCSWzn7tqT3LAr5FBwajiFhc0gMYGBwOAfAcPaSFtz10bMy1lPIcVAxHbAHwgau3vIcdveMJIOu41SZYUGLH8dGEzAdjs4GHwKaXNLmfl7Tyha/itG4lQr+GAMkBmx412J88bLTpv34tY4CnywU+BBCSH7lyivx3vCFEBiNu6MoGGMQQsDmAs1+FWCY1riEYjpg3771dfzHjoMYiVkAAK8o3nszVSWGlqAGhwu0hjQYFi9ZkOgFgONxC+MJCwmbg0GAgUFAgAtAV2X87nPvwfyWwLS/Ty2joy5CCCFFmc0jtXw2rF6CHW8O47meYUAAjgAE5xDCXVNHo47xuJ2R61OIQsv1rz7fzQt64uU+2FxAYu5MLwAAcwMgIQCLC4zHTVz93mUlz7vyjvzilvu/DO518MIuxoCE6eC+7QfwxctOo+TnHCjwIYQQUhXaQzr+6f2n4wN3bUPEcOC47/iQJTepGGJ6pfXFlOsDQMx084HkZOTDBcAmnJ0wrDt3QcmDxJCuQE9WjwkBZHci8s5w/ut/+6DKDL97dSAjX2nduQugK3JdB0IU+BBCCKkaAU2Gzd2dDVlikODudYzELMRNBw0+FU0BddLS+lw7IMWW6+uKBM4BWWbQFAbbEXD48chHYkBrUIOulD6w8Kkyzj+lHXv7I6nPsbSzNgF35+nwcAw/e/oQApoCTZEwHrdwzx/fxD1/fAutQQ0hXanbKjDq3EwIIaRqPPTsITC4b+4KY5AlCYokQZUYEhbHWNzM2a06X8fnYjpg+1QZF6/oBgBwzsHAoMoSdFWCpjDIEkNQU9Dgnzz4mqkPr1qUyitigBvtJIMeKfkFRwBtIQ1NARUSA8biJkxbwLAdxEw75wiNekGBDyGEkJLLN0trJo/5xMt9aAqo8KkybC5gcw5HCDhCQCT3O9aduyDjfoXMzipmdMSV552I7mYdDnfL6h3u7vjY3N0NUmVWshlbua5jo09DyKcge9KYIrlBmLf3NBQxsa8/grcGo4hZHICblxQzHTQF1LLNWSs3OuoihBBSsKmSZYttrFdM8q2Xi+NXZTQHVAxFTIzFLQjhTlcP+hQEdWXCEVOhHZ8L7YDdHtJx78Z34sp7n0HveByOcHdaAqoMVWY4pbtxQl+jYpOM813HkK6gq0GHYTlwhLvr4yVapw+sHY5ZGQnYTjIXiUGAC5FzhEY9oHL2LFTOTgipJnNVtVNIQFNsL5xiOw+n9/JpCWoA3M7NXAhIjGE0ZiHkU/DIprWpa5HrPumGo2bO+3jXFMCk13cwYmDzn/fj8Vd6YVgOdNUtWd943okzep6HR2L4/x58AQcGI/CrSs7r+IMn38T9uw7CsDl4ke/iEgPeNq8REnN3vmwu8PBn1tRNrg/t+BBCSBWay5EFhQ4HLXRnpdDHy5ZrdIbEGCTGJu2KPJ0Bqz5VRjhh4+4n9+W9viFdwd++4wRYnOP3r/bDsDm2vtoPRZawfvViCIFJn+f2N4fwT+8/HYtaA6nv6/1Mt+zswUjMhCpLkCUJDcmdLO863vPkm9h9aBSWI4oOegB3B8h2ODRFnrM5a5Wkfp4pIYTUiOkGDtNVSEBz9flLC+6FU2iAlMuHzl2IP+8bwoHBCHyqMuXojOkMWJ3q+t76vtPw2EvH8JsXj+HwaBy2IxDQZbQGtYzbrZzfMOF5agpHPGzjuZ5hrLt7O7qb/Lj09G5curIbX3n0f7G3L4yxuAXG3N2soWS+0aLWQOo6/ufuw2BgaPDJGI25JfbFxj9DERMdDfqczFmrNBT4EEJICeQ7cir1cVQxgcNMv3ehzf3WnbugoJ2VoahRcICUvt70HS63nw5DwnIghIBfk/H+d5yQccTkmc6A1XzX943ecXzivmeRsBwYllsFxhgQNx0McgOL2gJoEAr29oexty8Mv3r8eVoOT43agABiloOwYWHLroN46LlDiFscbUEV4YQNMAY52ZU6YR8feKrKDP1hG21BDSMxDkVmkBhg2MWFPiMxEwICy7sm5iPVOgp8CCFkBvIdOQmBkh9HFRqIfPCcBXjo2UMz/t6FHhVBoKCdFQgUffSUvQPj9tERGI1biJo2WqFlHDFlPz9vwOrevnGosgyfKsFyRM5doqmur+lwjI0mcFJHAD3DNiSJQZGkVIAyEDbQ1eiDJksYjBho8B1/mx2KGEjYHKrEwMEAATT5VXAusG8gkuy5I6d2e8DckRwSE6mBpwnLTV7WFAlcCLe0n7kDKzzpIVB65ZfEcDwZWmL4wFkL8Kn3Lq2b3B4PBT6EEDJN+Y5E/rh3EIwBB4eiJT2OKiQQiSRs/H8PvlCS713oUVFbSC9oZ6UtpBd99JS9A2M7HH3jCZi2AwG3PFtibNLnJwSwcn4j9vaFMRR1e9Y0+lR84Kz5E974811fLgSMtKopIdwBqd6sMIcLDEVMhBM2/KoMIQDD4mjwufd1p7i7gYrgPJWf5EYnLFWy3uRXMRw1IYRIBjUMQgCm5cByHIR0BcMRA7aTLOB3RDJYmng9vU9JboSEgCohpCtoDqi44aJTMna66mW8BfXxIYSQaUp/Q24JagjqClqCGjpCOl49NoZXj47n/NpMeqd4gUh62XI6w+ZIWA4ODEZK8r2Lae5XSC+cqR4vYTt478ntqc/l2oEZipowbJ5M/mWIW5P3pfGC01/tPgK/KmNBiz8V6Ow5Mp7xfQYjBlSJTXp9eXI8hSS5uz/ezozpcNjJqEMkbzeecAeYes+Tc5ERKInkbo/EGCTJPa7i3H28tpAGXZEy+hRxITAcM7GkLQSfKiNqpgVgyAx6svv7MACqLKEtqGF+kw9cCPz16fMydtQma+5Yi2jHhxBCpiHfkYgkMViO205XkjLfhmbaO2WqnJWE7e4a+FWlqByafLyjon39YejJo6ZcCcXtIT1vL5yQrmAwYuBD5yyc8Hhx08FYwu3J89uXevHkGwM4f3kH3vf2EzJ2YLgQqeRfxhiYcHdeOM/dlyZXvk4oLR/qnqfeRECTM44EmwMKBsIJBHU5LTBh7vETBHyqAkWS0OhTMBg1kwHNcZIEcIdBkRiCuoKBiAFNltzp6VyAMwZdkdAWcsvrpeSf46YbIGmKjEVtAQxFTIzG3J2fpoCKDe9agqhpY//zUfhVKVXKnn20JXnjPCQGBqDBpyKgybAcgZG4lfEzm+tE+UpAgQ8hhExD3iORtH9+ez1m0k1nkGa6fIHIkrYgescSReXQTGWqgCa7ud/1Fy7PmEoeTtj46Y7MXKf3Lm/HGfMb8dTeQUQSNkbjFgCBBl1FzLTRN57Avv4I/mPHQQQ0GboqI6gr4MndEpa8pgIiFZxkPz8AefN1VEnClp09CGhSql9O1LDRF04gZtgYi1sAc3djfIrbnLC70Ye4xWE7HM0BFYMRM7kOl8QAmwM+VUKDT4WuSPi7d5yAra/2I2LYiBoOmv0qOhp1KJK7Jtvh0GQJzc0ahqImdEWGIrm5UE4yoGvyq7Adjj+81o+AKqOrUU8FRnZyNwkMUCWGq9aeiCvOXoCgJuOhZw/n/ZnNpMKuWlHgQwgh05Av9yV9lyc76AFy57EUyssD+ZcPnYGHnpn4prbunAW4avOzReXQFCJXQJMvcPLmWk22o/Dw7iNY1tmAn2w8B5u37cfDzx9Ba1DD0dEEDNutlJIZg+lwWHEOybAR0uWM5F8O9+ipJaACAGzu7ng1+Nw5WVPlQ8UtB4btYEGzDz7NvR6awjEcM2E5AqrMkkdXbh7RvGYf/uVDb8e3Hn8drx4bg5XMsfF4R0pNfhVtQQ2GzWE5AhvXnohr/+Jk9AzH8H//38t4ayCC8bidEbCe0t2IWy9fgcf2HMNv9hzFoZE4bM4R0BS0BjVYtsADT/cgajrobvJBkSR0NfrQ0aAnd6KAmOGAC4H/33tOSgU2+X5mhSbK11pXZwp8CCFkGvIdOXHuvmkyMHAuIMnHg5/JSqinMln12E8+fg50Vc54Uyu2fLvY513MfafaUfjZzh489cYgNEXGaMyCYXMoEkvt6MCtfwIXwOGROBRZguUc71asSCz5WBE4nEMIYH6TP/VGP1lwyoVAxLAhMQYt7fkMRQwYNk8lAy9tD7qBFnd76vzulb7kNHSG7O45PlXCotYAtOTIjPGEnQoyfaqM5V0NuOujZ+XdOVt+YQMsx8HPnj6EjobjjwUAfk3C2EAUwxETjT432EslSAOwuZ0zqJ3sZxYxbMRMG7LMZmVnslJR4EMIIdOU78hpxQlNEHCrurTk4ErLETBtnrPRXj6F5GGkvzEVmpMz26baUVAlCfc/3YNwwk7mvyAtqHCx5H83+xSMJiyYto1knRMEAJsLDMesjDDkuZ4RXH7nNtx75bmTBoGm7e6ONPrU1Bu+YTsYjppwvNlWNsfe/ghaAio6GnToioxfPncICVvAdtydN4m5OUaqzGA6AiMxC12N8oQgM71iaqpdmN+9OpAqbQfc/j9DEQPjCRuOAMKGjaOjcXRmHZcVE9QOhA1s3vYW+sIGHEdAkZm7UxXSUo9Zq12da+vZEELIHJoq92UoYuLLj7yE3YfG3J0fieHMhc249fIVRSWMFpuHUUxOzmzKd9RkOxwjMbc6S5YYINxQRgjATOa8MMZSOTwW5+BCYHGr331jZsCRkXhy6rgb9DAGKAwQYDg6GsdVm5/BTzaemzMITNgOdEWGXz0eXBwajqWCHo/DBQYjJmKmgxa/ipG4nfO5mo47+XwkZkKR3CO6kzsbcOnKbty+9fWC+yllX7P0podu0jLgcHfGWDhhYV6zD7aDooLa9EBalxliyQnzXiXeorYAIFCzXZ1pSGkWGlJKCJmO7B4omW8uUqr/jOHwCQM7p3rcYods5lvXbMse8DnZ2vvGE275uOzOohqJWXDSksIVya2KsrhAa0BN7cRoitsskAETcmyAiQ37rjl/KTauPTEjCPRr7jDRqGnhV7uPoiOkYzBiYCCZqJz9eF5QJQPI1yCZwa2mWtwWwN+ecULaGIpxaLIMXZVgOyLn0Nb065d+zXrH4hiOWVCTx38258lKLQWjcQshTUF3sx+Xrii8OeXtW1/H/bt60JG8bU8ysGIAhBAI6O4okJM7G3AHVXURQgjJJTuPItcuDVB8tcx0hmzmW9dsmSwH6T3L2/Cr3Uczjpq4EBiNuUGGlwgcNx3ELAfeP8Vt7gY1PkWCpkipnZjJ+hd5ksVNEHC7FP96zzFc+xcn5zxeGowYeOlIGHv7xjGWYyfHO3XzSubTb5GeDpO+fbC4LYCHr1mDpoCGWx99CS/0DCe7NDtgzH2+LX414zXgBYtqMtD7q7d14OfPHoZpO5lND5MVbS1BDV2NPuiKAb8m4xefeheaAhOD4lxyHT8uag1gKGpiLG7B5u4R18dXL8bGtRNHgNQCCnwIIaTESlktM50hm3MtXw7S4rYgFrcFcXAoerxnj+XA5gJasqmeIrtJwX3jCQzHrNTjci4gIHB0NJH63MSU4onSv35oOIbv/ffrqQ7N6dfbOxL84VNv4ifbDuR+nKxvxtI/nwx+WDLPRwB47/J2mI7ArY++jM3be+C1NZSTwYs3dLTBp+LXe47CcjieeLkXA8lxFn5FQktQgyZLODYWh+VwSJK70yMEMvr/+FS3N49VxIj2XIG0Ih+vEIskbHAhajboAahzMyGElFwxuzRTKaZzcrnk62B9cCiKsxc1Y/2qxQj5FNhcoMGnoCWgoSWgZQSGqWqqJMaAmMkzYo9iczO4AH753GFc+8DunJ2I20M6brjoFCxpD0KRGFSZwadIbmUZJnZBllgyodlbjPeRvO0Fp3Tiup/txs+ePpRaK4O7+8SFgMKAhM0RM20cHonj/qd7cGg0jqhhw3E4woaNQ8Mx9I4nEDUdcAE4jnu01xrUsKgtkJF87NfkVNDrdZ/2Wh7kkq/zt8QYbO4eddVaQnO62n1mhBBSJqXepamUKq1cCtndemrvIB7ZtDbjqOnuJ/dlVFulxlBIDLYAWgMqWoMa3hqIwMp/upWXxIC2kJb3eNGnyrhsZTd+9Mf9MGwHssygyhIUSUAIAcsR0BQ3x8YbleEkZ3Olawmo2PnWEPb2jcNbcvpxGRfuER5jQDh5hCVBhsMF1OS1Mx2eGiTKAGjJakBZYu7uWI4qrnDCxt1P7sPjL/ciajgI6jL++vR5OXN+JmvDwIWAaTlIWDbWnV17Cc3paMeHEEJKrNS7NN6RTPquScinYP2qxWVPPi02B8k7bkqf6zUUNTCSHM1gCzevpz2kJ3cgZrY+RWKQJDdP6PFXenPuhiQsBxee1o2TOt2ePabDYToOLO4eI0kSw+nzm/GBsxZATvYNYgypWWHufzP83Znz8btXB6DJMiAAObkz5B2DAe7Oj83dP2syQ9R0Ujk8dnIWmIclE5p9CkPC4jg8Ep8w/+zSld24estz+NEf9+OtgSj6xhN4ayCKH/7xLXz6p8+ldoDSd4LSr/1A2MCh4She7w3jzcEoYqa7G1Wrc7oA2vEhhJBZUepdmmI7J8+V6e5upZfc/2bPUQjhdrxuCWipvB+b84KPtiQAuWIk0xHY1xeGJDFEEzZ6hmNY3tUAwM1NuuepfXj4+SMIGzaEcHepINwu0IwBjX4tNcUdAF7tDePVY+MwbQ6vpsynynjbvEb8/TsXYev/9kGR3UwgJjGwHJVnnrjtnpPJDODM3UHKqEqDGzQtaAugd9xIdoLmGa0JfvDkm9hzeDTVLsFLgjZsBy8eGsWn/uMZRA0+oZT+zo+ciXuefBNbnu6BYbnT7Zv8KnyqjId3H8GeI+OTVp1V0utvOqicPQuVsxNCSmUwYuQso57LXjpzIb08OruCbSBiYP2qxXkr2MZiJq64ezsSpoPWtOuSMG3sHYhO+f2946Cp3sxkBpy9uBV3rT8LCcvBNVuex/8eHUuWq7vBChfuqIxTuhvwrQ+sxLLOhow3eO9n+tjLxzKOlS5dOQ8PP38IP9l2IHUEVkTOcUbSthf8yDKDzBiWdYYQNx1YDsePN56LRa2BVFPEtd/8H4zEzFTfIw8XAkZyu6y7QYdPkyeU0v90xwFs2dmD1qAKTZGPd4DO8XObrGqvGl/LFPhkocCHEFJqtfCv5HwGIwaufWA39vaHockSfIoE0xGp3a1CjuNyBU/HxuKpIaCTkQB0N/lg2ByjMTOjAaGXX+O9y/lVCX5VxsmdIewbiGI4akLADYgUicERbsNCr2DrnSe24vsfPQvtIX3Cz3AsZqIvbKCrQcexsQSuvPcZ9I4nCtqh8o62snOEsp8XkxhaAyq6m/w5+zUdGYnh/O8+CS6Ee7yWxrSd1LVQZZba0WnyKRiJW/j7cxdi6//2F9QfKpywJ1TtmckmkMX0pKoUdNRFCCGzbK566ZSLEMDK+Q3Y2xdO5YY0+tTUEVEhb4rZR4OqzDCaVtouSyxZ3p6FuYHPly57G/7hly/i8HAcpuMVkSOj4sp2OCIcePbgSLIrtMtJVk55t/Pu9uyBYXzyvmdxzpIW/PGNQcQtB6rM0B7SMBhJDjKVWKoCqxBSMjcIQO7nk8QBgAuMxS0I4f55QtIxm/Af7n0Fn9CBmguRUUr/xMu9MGxeUG5WrU1wp+RmQgghBZVC5+L18PnV7qPwqzLmN/vRHtQBCOw5Mg7DLuxxsxO4LUckG/4pCGgyGJBR6p5ud88oPv6TZxAzODobfKnbeZVRMnP/1+LHq6Z4nsOO9G/z0pEx3L+zB1HDBoPbF+jp/SM4NByHEALHxuIFBz2Ae/xl2DyZI5Qfg7sDNRQ1YTscf33GvIyvtwV1NOhKsrHh8Uezs6IeWWJQJAmqxJCwORKWkwp6JmsI6ZXKqxIrqCdVsa+bcqIdH0IIqWMzzd3ItRvQ4HPzc148NIL33bENwWQC9FSPm57APRQ1cOW9zyBmOGjwKxiKmOgPZ1YaMbgjLDgXiBo2bM7R6FMydm0ATNj9ACbPv8noGSQADgGbc/hUCUdGj+8mmQ7HoZH4lNdnMunfR1fc8vhU8JI8BhNwg5YWnwouBB7bcwzLL2xI3c+nyvjA2fNx77aDsBwBSXLLx9Kfr9uPiCUflkFi7lT6jkYdF72tEz9/9vCEAa7ppfIWFzPqHF6JamrHZ8mSJWCMZXx885vfLPeyCCGkInm7Nffvcnc0FImlOi5P1vAv3WQ9fCyH4+hYAobNMRa3IEso6nF9qoz5zQFceno3ErYDCLcXjxfQpJJ/JQbbEanE5oTF0R82cwY608GB5NBUgX0DUcRn0lAoD288BxiDJDFosgRNdpspntgexLxmP/yagsdf6cVYzMzYQfv0e5fh7QuboSnMDdTExN2edAzubS5Y3oErzzspVdbuDShNL5Vfv3px3oaHwMQmitWgpgIfAPja176GY8eOpT6uu+66ci+JEEIqUr6Oy17uRj6T9fAZSo5fkCU3qdanykU9riej10/ETO2SCLjHXlwI2MWUTlUohwtoipRKega858hSAaXE3GTm99+1DVfctR2X37kN/7r1DQDAPRvOxqffsxQndgTR2aBDlRmCmoyA5jZHtDmHI9z/tbmArsj4+NolBfWHqobO4cWqnhCtQA0NDeju7i749oZhwDCO/+tjfHx8NpZFCCEVpRTzxHL18OFCpAZrAu7YCa9Mutg5ZRm9fl46mjrqUiQ3Mdnre1P9oQ9wQpMPh0ficDhPVXy1hDQ4XKA3HMdQ1E30TlhxhHQFls2xZddB7Nw/jDs/ciY++q7FsBwHT7zSB59hI2ZyNAXc/Khwwu1RxODupq1ftQjzmwMACusPVcmdw6ej5nZ8vvnNb6KtrQ1nnnkmvvOd78C288/C+cY3voGmpqbUx8KFC+dopYQQUj6lmCeWazeAc5F6kxXCnUYupfWXKWZOGXD8jfk3170bp5/gthix08ZF1ELQAwAjURMQwp2O7rjX0HI4eoaiGE4GPe6gUyBs2BhPWKkp7/c8+Sau+9lu/PzZwzAsjtagDllmGIlaGI9b6GzU0RbS0OBX8fYFzalmjOnSu2pnq+TO4dNRUzs+n/3sZ3HWWWehtbUV27dvxy233IJjx47he9/73qT3ueWWW3DDDTek/jw+Pk7BDyGk5pVqnliuMnQuBLgQ8KtyapJ4sY+bLZywIU1W1lUD0qfSA26AMxqzMpoaqooEBrczc8LmGEvY0BUZ/7n7MBgYOhuOJ5gHNBkDYQMjcRPjMQvdzf4ZNc+s1M7h01Hxgc/NN9+Mb33rW3lv8+qrr+LUU0/NCGDOOOMMaJqGT3/60/jGN74BXc/9g9Z1fdKvEUJIrZpsWCWQWdVTzHGU16G60a8gYXKc0OxLDdVMf9z3v+2E1I5PoW+eW3YewNHROE5sC6BvPIHYLCUal4KbfzSzx0if78Xg9v7Jrs4ai1voatQRTthoz+qarcgS5jX7oSkS/JqMX3zqXWgKTGxUWKxa6ElV8Z2bBwYGMDQ0lPc2J510EjRt4g/0lVdewemnn47XXnsNp5xySkHfjzo3E0IqwVx0e/Y6Lk+Wu1HsMYa3ZsNy8PmH9kx43LjlIKC5eT6WIwounc810uLoSBTDMRuqBJgVFgMpEmY8XDU7eFIkQE3rzuwd9TX5VYzGTSxo8SOkqxMexy3zF3j4M2uq7khqtlT8jk9HRwc6Ojqmdd8XXngBkiShs7OzxKsihJDZMZczkXLt1qQPwCz2+6XvBmQ/rl91dyNihg0IBk2RUiXuXoJu9vfzrsVv9xzDwaEYGAMsLtAW1NDZ6EfCjiFegY3zZhL0pHoQeXlSOJ4vJYRIq/oSkBiDwx00+lRYtgDSLh8XApwLJCwHDX61qsrNZ1vF7/gUaseOHdi1axcuuOACNDQ0YMeOHfjc5z6HSy+9FPfdd1/Bj0M7PoSQcvH66pRjJtJUO0yF7EDluo33uXv//BZ+/uzhggeZpl8LTZEwEDbAuQAYg65IWNjiB+cC+4diNVHS7mFpZWqyxFLPza8wWDz5dSRL4GWG0+c3Y+WCRvz6xWPoCOkQcNsJjCfsVK7VOYuPzxwjVbDjUyhd1/Hggw/iq1/9KgzDwIknnojPfe5zGXk/hBBSySpxJlIhO1CF3OZ3rw4UVTqffS1Mm2MoakJwgZjpYF9/JNXxuFal53I3+DWYNkfEsOFwAUkCApqCY2MJjMZM6IqMY2NxxCwOJ63fjiwx7O2P4NoHdlfdMNHZUjOBz1lnnYWdO3eWexmEEDItpeirMx35ghYhMGEHKvt4qpDbAChq7EH2tbAdjpjpZNSuOwIVneA8Xd4ZjMTc56jJEoK6jKaAmixVVxG33HlbAU2BpkhIWG7+lMMFHIdDSnaAbvKrblWdQFUOE50tNRP4EEJINSumr06pAp9cR2vpQcvK+Y1T7kAJiClvc/X5S4sqnY8YNmKmW75uOhzDEROGzaEm53LV0tFWLl4VV4OugAuBj61ekiojv/fP+/HzZw+hu9GXcb2DtoN9AxEEdAULWvxu8JPRP2l2AudqRIEPIYRUgFL11SlGvqO1vX3j2NsXhl+dfAfqty8fc7sBF7BLVWjp/EDYwPf/8AaOjsYnzNziyYBHYm73XS7ceVq1JKTJaA6q4MlJ8qd0NWL96sWpYOV3r/bnvN5ukMOQsJwJQQ9QncNEZ0vNdW4mhJBKk7CcjMGSuXh9deKWjYRpZwybnI2ZSFMdramyjPGEBVXJ3TRQVyTEDAdRo7BdqvS5W5MNxBwIG/j0T5/Dlp2Hcg4aFckPLgC7BoMemQEntPghMQkNfnVCZ+R8u4KSxNwSeD5xUClQncNEZwtdAUIImSXFlKYPhA3ETAcxk2MkFoXEWKo6yua85DORpjpa8yXLzxMWR658WMPmCOgyGICY4WTsUnnVRAnbQYNPTT2PqUrn/+k3r+CFnpGaC2gKxRjDDzachUaflrN6Lt+uoJSsdoub3N0ZS/uxFtOQsh5Q4ENIDZiLZnekOFPlz6RX2KTftjmgImFJCCfceUyGw7Fh1SJ86r1LS1qRM9XRmmlzBDUZps0nP546ewEEROoICwCGoibG4hY4F+ACWNgSSB2vtId0XLl2Cf7qtC4oEtDgV9EWdOdD7Tk8inu3Hai7oIfBrbwSEGDMDSJPaMr9e+ztCm7ZeRB+U4KmyqkjLdvh0GQJzc0ahqJmTQwTnS0U+BBSxeay2R0pTjGl6bluy4WAaTsYjlkIaErJf56TjaywHI6BcAKjcQsBVYZhOzg4HEOTX4VflXO+ke7aP4I3+sKIJKyM8nJZlrC3L4xrH9iN6/9yGb639Q28cGgUVnKQqSYzzGv246K3deHRF4/mPN6qdd6Om2kLgAlcs+V5BDQl5+/xVLuCp3Q34tbLV+CxPcdK0pCyVtVMA8NSoQaGpFqUs9kdyS9hObj8zm2IGjZaghPH6QxHTYR8Ch7ZtBYACr5tqXfzskdWyBJD73gCls2hJoMS0+IYjZsAGFqDGkI+ZcKwy8GIgU33P4dnD46kEmub/Craks/H6y9j2XzCNHW3ggkwK68B85xQ0poUhjQZnY2+nL/H6b/vqiwhYTkIJ5sU6qo8YVeQdoEnRzs+hFSpSmx2R1zFlKYDxfW4KaXskRXHRuNwHHckREej7g4Y9QHNARX94QQuW9mNGy46JdVrZzBiIKS7lWajMRvdDT6EfG4JttdLRmIMUcOGxd1qrOx/agvUb9ADAE7ygvhVCQtbA1BkKefvcbG7grUwTHS2UOBDSBUqV7M7UphiS9Pnuow9XXtIx/UXLseVa5fgA3dvR8znoC1rIYoswacqeGrvID62ZgkeevZQxvHqe5e3YyxuIWpY6B1PpI6sZAY0+RR4fQbpfGEiRWLwKRK6G32Q0lo1p/8eX7l2Sc7fd4kx+FQFPoXT73sRqJydkCpU7I4CmVte/kzCdlJJv57s0vRibluMQkro01lcwHQEfEru76MrEsJxC5+5/3ls2dmDqGFDkdzdnF88exi94wmEDScjT8cRwHD8+GuQ4p6JBBdI2BwHh+PY1x9B33gi9Trwfo/7wgb9vpcQ7fgQUoXK0eyOFGfD6iXYtX8klT+Tr8KmmNtOpdCE9+wckHyvKW+QaMywcWwsAVVmkCWGBr8CXZFwbCw+4+tVr2wByFxAlhi4EBhK9jha1BpI/R53Nej0+15CdJUIqUKTVeQA1LOjUmTnz+SrsCnmtpNJWA4ODkXxj4+8grcGInlna00WGOV6TdkOx4HBCOK2u1/jll4j1YTQp8p1WY1VUsxtPsiYBCHcHaCBsAEwYN2KBWgKaPT7XkJU1ZWFqrpItciuyMneJbiDqroqRjEVNsVW46Tv8BwbiyNqOGgJqMeTk3F8x+b975iPl46OT1oJ+LXLV+DLj7ySUeV1bCwOyxFgcI+qJOYOzgTc4zEIQYHPDEjM/YeMaXMw5jYxdBwOMOCcRa34/vqz0B7S6fe9hKaV47N58+acn7dtG7fccstM1kMIKZC3S7B+1WKEfApsLhDyKRPa3JOZKTZXJheveV8hgUwxt/VKnO/f1YNIwkLccgAIjMYt9AzFYHM3V8RLlP3P3Yext8+tDGoJagjqClqCGjpCOvb1h/HYnmOp15RPldA3nkgFPYrsJt5y4c6QAo5PEC8Eg5vsXMjtsm8mFXC/aiUEsLA1gNag5jYjFO74iZCm4OvvPz31e0y/76UzrR2fxsZGXHzxxfjhD3+IlpYWAMDrr7+Oj3zkIxgaGsKBAwdKvc45Qzs+pBpRz47Sq4bmkLdvfR337+pBR3I9bw5EAbiBgs0FWoMauhp9AIBwwsKR0TjaQ3rO9Wf3C/rOE6/h/qfdgEqSJMiMwXJ4queMIjEwBlgFRj4MbhJuwi6+N7MqATafmBzt7UJVu1O6Q9BkOTXqYyxuocGnTtq7iX7fZ2ZaOz67d+/G4cOHsXLlSmzduhXf//73cdZZZ+HUU0/Fiy++WOo1EkKmUMwuAZla+k5KevXSll0Hce0DuzEYMcq9xAktDaRkIOKOPnD/eyxuwUnu+iSSNeXeDK5s6ZVBCcvB717tR0CTIUtu3gngBjve7ovNRcFBD+AGKF7QU+wGjpUj6PEes1plXIPkE/F2fEyb563ko9/3mZlWcvPSpUuxbds2XH/99bjkkksgyzLuu+8+fPjDHy71+gghZM5VQ3PI7JYGEmNo9CkYjlowuQMu3CDozYEoGnQFjhBo9KmwbAFMURnkPbZPkdHkVzEcNSGEG1BpsgTL4UXn9aTvznj/61MYTMed6VXofb0/+xQgXkXV28z7fyKZKyUxONw9RgwnbPhUQXO15si0+/j89re/xYMPPojVq1ejubkZP/7xj3H06NFSro0QQuZcoc0hZ5LzUwpe+bmZdnTU5Fch4CYbe4GC7XAMRU04XODS07sL6heU/thtIQ26IsHmAjbn4MgMQhSJQZNZzjwcX1rfmVyxTcKeOujx7pv++ALVE/Q0+dz9BZH6fy6HCygSw5mLmtHgVylnZw5NK/D59Kc/jXXr1uGmm27Cn/70J+zZsweapmHlypX4xS9+Ueo1EkLInKmW5pC5Gh+OxS0Ax5OIJeYGa21BDYrEENBkLOtswEDESJWjD0dNDESMCbsM71ne7iZLC2BR2/HkW5EcMAoAqsSgyhJkSUpWGrnfmCW/Zjm583kKSXLOVkiAVGk0WUJno46AJiePIY/HPgzAihMa8cOPnYNHNq3Fw59Zg0c2rcX1Fy6noGeWTeuoa9u2bdi1axfe/va3AwC6u7vx2GOP4fvf/z6uuuoqfOhDHyrpIgkhZK5UU3PIDauXYMdbw9jXH4GuMIzGLbcqijEEFIb5LX5oigyJMQxHTTy1dxB3f/QsPPh0D558YwAJi2f0CxLCTZh+4uU+RAwbMfP4ZPaQrkCRGRKmg5jlwLL5hGQdiUmQmHvMZuWJVKq9/L3QpGqLcxwdTWB+sw9jcRtjcQtcuIFjk1/FXR89KxXkUL7O3JnWb+5zzz0HXZ/4N8KmTZvwV3/1VzNeFCGElEu1NIccCBvYvG0/+pMjDsIJB06yA3BzQEOzX4WmSG7CLABFAo6NxvHJ/3gWliOgKxIuWdGFj69dgvnNgYzp375kn5hmv4rRuInRmAUpyNDgU/E3K+fhty/1ImbaCCfsVO6PR2JuB+JCVHJVFgPQFtIwGDEnfG2qNXvHcgzu0elY3EZXow8dDTpMy8FwzMSGdy3G/JZAqZdNCjCtwCdX0OM55ZRTpr0YQgipBKUcITEbXjs2jk/8xzPoHXWryyQJ0GSGOBfgXGA8bmEsZoExd2ehya/i2FgCjhBoMBXoqoy46eDh3Uew58i42zU6K6GbCwFVZgjoEkaiJi4+rROfeM9JCGkKnnpjMDkZnMOwORhzgx8hRKrcvRCyxIq6/VzyazLmNfnBwDAUNcAAaIqUqo5LP7Ly/luWGJRk6X2LX0XcchC3HAxHTQQ1GaYjYNgOlnc1lv01VM+m3bn5l7/8JX7xi1+gp6cHppkZET///PMlWVw5UB8fQgjgdsZOHyHh12RcuqL8fXwGwgYuv/NPODpmQGaALLvl5ly4CbNAMsdGcT8vklm1DgfaghrmNfvdfjFcpGZD/f05C7H11X5EDRshn4L+8QRG41ZGXo3EgO5GHxp8Kpr9CvYORNEWVDOOcADATp5jqYoECHfw6WT0ZOfoSgx9gpqMrkYf4skGlkIArUEN43ELRnLN3j6Xt35FZhDCTepe1Oru5hwbSyBq2uhs8CHkUyriNVTvprXj8+///u/40pe+hI0bN+KRRx7BlVdeiTfffBPPPPMMNm3aVOo1EkLInGsP6bj+wuW4+vylFdMsbiBs4Jotz+LomLvTwwUAh0ORGNLTiAUALgQkMAgI2NwNXJoDKnrH4hhP2BACYMnxE79+6Rg4FxAA9vWFYeeIRLgABqMmhAAGwgnYXGAoakGXJfhVGRHDdvNX4AYE3OHI16pQVySYTmmCHgagNahiLGblXHsx/KoEBgaLC1gOR6Nfxd+eMQ8A8NTeQaiylKroU2UJpuNgLGYBjEFmDE0B1U0mT7VBUNDRqGPzxnPRRr13KsK0dnxOPfVUfOUrX8GHP/xhNDQ04MUXX8RJJ52EL3/5yxgeHsadd945G2udE7TjQwipRANhA5seeB7PHRieMjlYYm6ZuZ2swPJurkoMXLhHYywZFHEuoMgSOht0HBmN562eYgA6GnS0BTX0jSewpC2IV3vDMGwHEmMI6TLCCTvZQ+j4fdL718wGTWZo8msYihh5g62ptAZVzG8OIGrYsByOH288F4taA6lgJb1jMoDUf9/x+zfws6cPoaNBh6YcD2y8GWnrVy0ue98ncty0ytl7enqwZs0aAIDf70c4HAYAbNiwAT/72c9KtzpCCCEAvKaKEbACSsEViUFOZthKaX/LW8njLZmxZD6KBMbc4ynLdqYsGRdwS+YlicGvKTgwHIVflbC0PYhTuhuwsDWItpA+cY15gh6Gmc/iEgDChgWtwDr59PZMDO71UmSGqOGAC7eRYEBXMoIeILNjcvp/X3neSVje3YihqDllmwBSftMKfLq7uzE8PAwAWLRoEXbu3AkA2L9/P2jYOyGElFaqqaIqQRQw8EGW3I7ImixBlTL/mhdAKqHY/fuawa9JGIpOrF7KxcsPUmWGcMKGrsrwaUqqeqwlqELPalyY/q6QPTFDwD32UqTiR1ksaQtgeWfQnRsGYF6Lv6AgSpWk1O1URYIiM/dYUACm5SBh2Xjvye0Fr4MGiFaXaeX4/MVf/AUeffRRnHnmmbjyyivxuc99Dr/85S/x7LPP4oorrij1GgkhpCYVOmzSa6qoT9JUMZs7CsGdpZVrF8fhAoxxCOEeEzX4FMQMB3IB09YlxiBJDAnLzc9RkxVgDhcYihgYT9gZ5ewyS+YiMUBPbrVYyflhuuKObXCEWwlVDAbgyGgcEmMwHQ6ZMfTmOaqT2PEmiAJINWE00+aHSRLDoZEYGJPwm5eO4X9e68clp3dj49oTpwxeKjEnjOQ2rRwfzjk451AUN276+c9/jm3btuHkk0/G1VdfDVVVS77QuUI5PoSQ2Vbs5PeE5eDyO7dhPGFhMGLAdsTkR0cF5tNoMoMisWTQ4QYuqszyDh71cnyafAoOjcSSt2WQmEgmVLu7TQxu12ZvN8dxuDvhXWKpoySJAboiw/FGYUzjsECV3XbIXrNEiblr9J5Ceql5rnlfssTg5ocf/4ovuQNk2BzJ+Azzmn34ycZzsbyrofhFkooz7XL2RCKBPXv2oL+/H5wfD9UZY/jbv/3bki1wrlHgQwiZTdmNArVkSXfCdrCsswF3TnI0cvvW17FlZw/CCSu1Y+Hw4wFQQJUR8ilwuHCHiuZZA4M7pd103IMzIdzGh17QM9l9dUVCo0/FSMwEY26ydMzK3KqRmRtQOAJgyTJ6wN1NkRhS1WRcuPe3hYDjCEgF7DZlc5O4AdM5/ry8arFcgZQmu4GXzb1J88kE7+Ra3c+7j8SY+37GOYfDgROa/Xjk2rV0bFUDpnXU9cQTT2DDhg0YGhqa8DXGGBynvMP7CCGkUk138rvXVHHP4VEkLAeKxIBk3xhdkTC/yYeRuIUPn7sQP962H3Fr8rMjASBu8VRisU+VcUKzH0dGYohbHKrkBiFe8CAxoMGnIKSriFs2NFlCV5OOvnFjwmM7AnCSEUxrUINpO4ibDjgXkGWGlqCGJr+Ko6NxJCzneJDF2PHzpwJxcTzo8Z6XgJvb5O1ieQNOQ7qCuz56Fr786MsYGDfdUnrhHt01+RWMx61U8KMrLJWzJMsyAI7e8Tg2/3k/brzk1KLWSCrPtJKbr7vuOnzoQx/CsWPHUsde3gcFPYQQkttMJr8fT6BdBF2R3QRlATToirsLE7dwcmcDLjm9O+9xVToB9x+rJzT74FNlLG4PIuRTwCQJJzT5cGJ7AFetWYw/3XQBdn3xr/CLq9+F9pCO1qCGSMKGYfNJK6kkBozHLdiOQEeDjpULmtDgV6HKEhwu0OhXoatuV2w5mdg8rTekLIYtkjlMbiwVUCV0hHTMa/bjxPYgbMc9rlvWGcLiVj8afW7QY+Y5PnSDIDbpz4ZUl2nt+PT19eGGG25AV1dXqddDCCE1JT2BuZjJ77kSY9tDOr542Wn4+NoluG/bAfzhjQEYFs/oKm3Yxb0xO0JgLG7DpypQJDdIyNXDxl2fjITFocgMAxEbEnOPsHKdUYlkvyDD4bAcgbvXn4WHnjmc6oTd6Ffxf85ZiHXnLMDm7fvxn88dSTVBBFjGMV669CTl9OtmpR1vOVxAVSS0hDQ0+RSMxC1cuqIbbSE9NYBWVyQcHUvAsDmyD/csh0NT3EaGgLuLJDE3EXqynw2pHtMKfD74wQ/iySefxNKlS0u9HkIIqQm5EpgvfFsnNNmtiJrJ5Pf5zQF88bLTcMNFE6vCEpaDkC5jNG4XtE4h3N48HQ06JMZSa8gOeoDjk+vH45abq5OnAF0AqXEVMdNdy2RVT59+7zK8dCScdowHQMLx/CDmZi37FLdrcnbSsvc8PBzHj6u8nbD1qxdnDKBNhB0Yttv1mjEJXBzvY8SF29tIlVlqHEhAlRHQp/7ZkMo3rZ/gnXfeiXXr1uFPf/oTVq5cOaGK67Of/WxJFkcIIdUoVwJz1LDx4LOH3F0di6OhBJPfvUZ62Z97/5nzce/2gwWvNzW7CyLvGrzAYcvOg8kEZQEINuWU9YTF8dmfvYB7NpydavqXzjvG++FTb+KnO3tSnaA1xQ3EnGT7aV2VwYXIyF9izA0YvUaEPBmohBMOLA5sWLUIn3rv0lRS8obVS7DjrWE8d2AEgAAXDEIcL2n3nofNBZAs+dcVCarMcOmKbtrtqQHTqur68Y9/jKuvvho+nw9tbW1gaW06GWN46623SrrIuURVXYSQmbp96+u4f1dPRgIz4AY3feMJBHQFCcvJOfm9FA3vBiMG/ubf/4TeHMnHnvQ3eVVm6AjpMB2eWoN3NJfdj2YwYuDaB3bjxUMjMGy3f441SS26IrnfRZYkhHQZG961ZMrRDW8NhHHXH97Eb/Ycg+m4AQ1jLNUbyBvF4VZiuUdfXj8hiTHYnENiDAtafBiN29iQY1zEG31hfPDu7YhbDliygqvJryKoyTg8Ek89H1Vm8CkyVJnhlO5GakZYI6YV+HR3d+Ozn/0sbr75ZkhSKdLRKgcFPoSQmfB67kQNGy1BbcLXh6MmfKqES0/vxtZX+2dl8vtA2MC//e4NPPjMoVSX5nRuGbiUCiwafArmNftx6Ypu/OXbuvDoi4fx5OuDMGyes8fQYMRwd2d29cBIVmalv5NIcIMGlgyKWgIqNEVCg0/FI5vWAsCEoCr9aPDYWByRhI3mgIqORh0SGIaiJsbilpt/I0tgjKG7yYejo3FwIaBI7jR6iwu0BTV0NfowHDUR8il4ZNPajODN+xlFEhYa/Wqy1N79B7ztcBwajsFwOLoadAR9Kk1UrzHTCnxaW1vxzDPP1GSODwU+hJCZGIwYuOKu7VAkhmCOfJCoYcPmAg9/Zs2kuyozkX7MpsruEdt4IjPfJ9n3D7LEsHJ+E775gTMQ0GRs3nYA9+/qSRs66ub0WJzn7DF0ZCSG+7YfwO9f68ehkTjMtCMnAaSOqBTpeI7O5e+Yj2cOjGQ0brx05Tx85dFXsK8/DF2W0B8xwLkAYwy6ImFRWwCK5HaIHoqY8OsSOkI+7OuPYCxmgSWrwrhwv8ei1gCU5HP3rnV20JJvV24gYuDvz1mIjeedSB2Ya9C0tms+/vGP4+c//3mp10IIIVXPCxbMSWYwGLZbheW9oebKeZmJ9D5B7SEdi9vcAaLNATV1NCRJDC0BDVeuWYIffuwctAQ03PjQHjyQDHrchF8gbNgYT1ho8aupHkPp5re4Sda//ey78fDVq9EaUN3hqCzZDVm4A0GZxOA4AmHDwYPPHMJ4woIiMUQNG1t2HcRV9z2NN3rH0RHS0ehXwcAgSxIUyc3xGYq4c8QkxhDQZDgO8E9/dzo+8s6FkJO9jCTG0BbUUkGPd619qgTDdiaUoW9YvQTLOhswEDFyDhbdeN6JJf/ZkMowreRmx3Hw7W9/G//1X/+FM844Y0Jy8/e+972SLI4QQqpNeuWQXYIE5mJM1idIkyUsbAkgoBnwqzJ+9LGzcULz8aqt27e+jr19YdicQ5bcoANwOzonbI6xhJ3qMXT1+UtzJlSfvqAZG1YvxpadByEEMBq3oMpSaoQGB1Jdoh0uENQVBHXAtB3s648ioLlr5kKkEqcZk8CYmLTq7MaLT4UQAj97+hA6GnRoSvpxlo2RmImEJePDP9w14cjOS6jesuNgqsQ+5FOwbsUCOtaqcdMKfF566SWceeaZAICXX34542vpic6EEFLLJhsy6nVZ3tcfzpnAvH714llZz1R9gnyKDMsRaPRrGeXvT7zcl7yPu9PjYcydwzUWtzCvyZe3xxDgPu8/7h3ECz2jEECyR07ysZCc48Uyy+el5Jj0hO2ACwGJMTT6FAzHLAjhHncJcbzyLDtwvPK8k/Bcz1jGtY6bDgajBoQAmnxqxu7Szv3DqSM7Gixan6YV+PzhD38o9ToIIaRqTDVktFy7Cd4xW9SwC+4T5AVLPtXdnXE4TxWtMOYOHBXCLUlvCqh5+9hkzw/LJrklWqlARmIsGfy4+TmcC0gyQ3tIR8x0kLA5IAQkiWEsbsG0+YTAMde1Nh23P8+CZj98mrvefGNBcrUFILWLOjERQkgRJuvRUwm7CdM5ZktvSigzwOBu8AO4OzReObrlOLh0xcK8z2HLzgM4MhJzJ7JzDiXtyMxwBGwuIEtIBTyA+98+VUbMtI+XrMtugvJA2MBI3ERAldGQp7oq/VoPRQxsvPcZ+FU5FfR40seC5DqyI/WhamrRb7vtNqxZswaBQADNzc05b9PT04PLLrsMgUAAnZ2d+Id/+AfYdmHdSwkhpBDpycMtQQ1BXUFLUENHSM+ZAOxT5VT11lzMeZoqaTf7mM2nynj3yW0YiBipRoAi+WFzd2gng8DyrsbUfROWg8GIkfF8vCMzv6qg0adAJHsqM8YgSVKq6srhAk1+NaN8XJUldDf6MRQ1U2seT9gAA85Z1IqHrlmDRzatxfUXLs+7W+ZTZeiq7M4QK2AsCKlPVbPjY5om1q1bh9WrV+PHP/7xhK87joPLLrsM3d3d2L59O44dO4aPfexjUFUV//zP/1yGFRNCak2hQ0a93YSpjsRmw1THbCFdwWDEyNiBYoylhqMrMgPnyVL0pNNOaMIdHzkTQriJ0LmeD4BUflGDT0kdVTEICHH8+IsLd4TFeMKE7QCG7eCUrgbcevkKPLbn2IyPBqdz3Efqy7T6+JTT5s2bcf3112N0dDTj848//jj+5m/+BkePHk0NT/3BD36Am266CQMDA9C0iY3EcqE+PoSQyRTTo0cITDgSM22OhO3k7IkzG9KTr8MJO2cQtu6cBbhq87MYT1hwuJvILIQ7CqLB5w4ubQqo+PHHz8GND+2Z9Pn8y4fOwFX3Pptq3Gg7HANhA0NRM2OuVkCTkbAdKJKEhS1+/M0ZJ2QEN5MljBdjqh4963N0cyb1o2ZC3h07dmDlypUZE+MvvvhiXHPNNXjllVdSVWjZDMOAYRxv6z4+Pj7rayWEVKd8uwlcCMRMBw1+dzfh7if3YW/fOFoDGjRVhsRY3gTbycwkEPCSdifLS/rpzoP4w+v9CCcs+FUZQV1BR4OekXgcNWzETQf3bd+fOuLzgon05/PQM4cn5Be5HZHdhom2cHejuhp9MG0HA2EDl6zonnANSpFoXK6qOlIdqibHZyq9vb0ZQQ+A1J97e3snvd83vvENNDU1pT4WLlw4q+skhFQvL3k4YTuwk6PDLYejdyyOff0R9IcTGI6Y+PYTr+K+7QcwFrdxcNj9Wt94IhUQeEdi+XJ+BsIGbt/6Oi6/cxuuuGs7Lr9zG/516xsYjEw+f2sy2XlJuuKOqwgnLLx0ZAy94wkMRIzUnCsvKdnm7o6OT5Xw5OuDUx7xfeichan8oqGogZGY23jQAYNfldGWHOGhKTL8moKtr/XPSt6Td9y3ftVihHwKbC4Q8ilYv2oxzdsi5d3xufnmm/Gtb30r721effVVnHrqqbO2hltuuQU33HBD6s/j4+MU/BBCJpW+m6BIEkZjJsxkEKTJEmSJ4T929LgVTMztYsyFwFAyaXdRayAjwTbX7kahlWOFyM5Lsh2OnuGYm8jMkOyTIxBO2Dg4GMX8lgDG4hbG4pY7sV0A3Qt96Bs3oE+RMKyrciq/6Dd7jrodlZNdotuCWkbQNNU1mCnq0UMmU9bA5/Of/zw2btyY9zYnnXRSQY/V3d2Np59+OuNzfX19qa9NRtd16DpF/4SQwqQnD//HzgOpnjHNAQ1tIQ2DYQNe6qRIloIDLNUFeShqQpWlvAm26Ts0uY6VCj0mAyY2NRyKmjBsnhxLwdy+OwzQJYa4xfHWQCTj/rIsYf9gBAlLoDmg5sxtSk8Y9qkyrr9wOa5cuwRX3L0dCdNBa44gba6SjKlHD8lW1sCno6MDHR0dJXms1atX47bbbkN/fz86OzsBAFu3bkVjYyNOO+20knwPQggB3ODn6vOX4rGXj0FXZLQGNUiMgQuB8YQNSWIQyd0SL18mvQtySJex7uzcYyuKrRybKgcoPS/Jr7nf39vpAdzgTGIMi1oDeGswCssRUGWW6qDcnJxe3jMcw1jMQrNfLag/UFNAw9+cMa8sozsIyadqkpt7enowPDyMnp4eOI6DF154AQCwbNkyhEIhXHTRRTjttNOwYcMGfPvb30Zvby/+7//9v9i0aRPt6BBCSiI9yHD78nD4k4nLgNt5WAiAgUGRACvZtE9i7ugFnpxTdWJ7E9avXpwzaJlq7IR3RLS3L4JHXzyMJ18fdAefTlIqn97U0G9LyYqt5HoFB+dAc1CBIkvuiAgAJzT7EE24vXTG4jYYcyesO0KgP2LAN0XCsPe8PnTOQkoyJhWnasrZN27ciPvuu2/C5//whz/g/PPPBwAcPHgQ11xzDZ588kkEg0F8/OMfxze/+U0oSuHxHZWzE0Ky5erHc+FpnXj85V4YFkdLMmmXC4F9/ZFUB2J310TFeMJKjWlo8qvYfNW5+N3/9uXshxPSFVx+57ZUWXiutRiWjYTtzq2SGEvt6lic5yyVH4wYuPaB3djbH8ZYcgaWgNtThwFQZQY5edQFuJ8DA+RkZZeAOydLlhj+z7kL8fSBEcRNB35NzuimnOs6vXd5OwDgqb2DOe9DyFyrmsBnrlDgQwhJlyvR2Otfo6sS4oaDrkZf6iindyyO4agFQKAtWb7NhYBpOxiOWbjiHfPx0tHxvP19frrjQM4+NAnTxv6hGAA3iFIklgpgfIqEE5p8GIlbOfvUDEYMbN62H1t2HsRo3O1anCo158g5X0tibsI24FavCQF85oKluPYvTp6wU5XvOnl9fnRFpiRjUnY1U85OCCGzId+IirjJ4deUjPEQsuQO+5QkdxclatgYjVkYiVlY3tkAMEw58mKysROHR+MAkgGLxCBLEhRJgioxJGyOsYSds1R+IGzgpzsOYOv/9sNyjk9Md/OScgc9gBtQuUdTHI4AwICfPX0IQxED7SE9I4CZapTHQ88cnnAfQsqBAh9CCJlErkRjLgRsh0OS3N40flXC35+zMNUvpimg4qq1S3DlmiVo9KsZPWS++6Ez8Mc3pu6HE9KVCX1oArqMgKYke+GwVJ4OkJyHxYCxuAVVZhmzqLydmPt39SCSsGA6AjJzgydHCDegycOb28WSHyMxE5998IWMfkKFJmTPxawyQqZSNcnNhBAy19ITjS2HYyhiYDxhp0Y6+FUZgIKN552Ia/9y4vHPDVnJy4MRo6DE5YhhT+hDY1gOPvyjXZAlYDRuuXlE6cEPGIQAEhZHU0BNlYmn78QAwEDEhJzsqGxxAZ7M9/GGk+aiSAyK7Ja+MwAHhqIZJfWFJmTPVs8eQopBOz6EkIqUawL4XPOShuOmg0PDMQzHrFTislu6bmE4ZsKwHPhUecJRTvbnvMczbZ7z+xk2h1+TM3rbeI/RFtLdBGbbTZAWAkhP0RQQYAywHAeXruhOlbqn78RIUnIYKdwqMwlpwQ7DpBSZAcIdYtoc0ODL2sGZzvMipFwo8CGEVJRSjmqYKa8UfDRuImFxqJI7zkGWGGTGUsc/Dz17uKjHSx954fF623hBS777NvkV6IoEmwvYnMPmHA4XkBiwvKsxVSaevRPj9ebhyaAp/bjMi6FkNjEGspNl+boioS2kZezgzPR5ETLXKPAhhFSM9HyUqGFDSSYHb9l1ENc+sLsswc+Hzl0IwC3pdnNivGBDwKfKaPKrReWvTJa4PBAxpuxt4913OGYhqLtdj4UAHC6gqzI2vCtzFlWunZj2kA5dZjAdPiFIYUBqsGg6WWJoDWpY1BaAIkk5d3Bm8rwImUsU+BBCKsZUlUFbdhyc8zV5nZmb/KrbqFC4OydeIOAdhXm7H1OZyQBNIYCV8xsAAQxHTUQMG40+BR9dtQi/+9x78MXLTsvZvNDbibEcjsGIkUpo5nB3eCQAflWCKjO3+aIswa9IYABagyqWdYbckn1JmnQHhwaDkmpBfXyyUB8fQsojYTl5G/cNR02EfAoe2bR2To9M0tfVFFBTIyi8bs0zWddU4ybSebthb/SFYTkccdMGT27YnNDix082novlXQ0T7uc1L3yjdxwR04GTtssjSwx+TYHDBRSZIaDKUBUGyxFImA5sLtwgSJ3YdTlfMFPM8yJkrtGODyGkIhRTGTSX0ndNOBdQJCkV9Hi7Hxe+rTM5wqK4ROxcCdGT2bLzAN7oCyNh2oibDhhjUBQJkgQcGYnjynufyXkU6O3EnNwZguO4QZsiS2gL6VjcFoQqMcRNGzHDxmDUxGjUQkCV8bHVS/DLa9bgY+8qfgenmOdFyFyjFHtCSEVIH6YZzPGeOlfTvHPZsHpJzplTcctBQJPw+Mu9ePTFY5POy5oub+dElRieeLkPlsNhOiI1WR0AZFkGwNE7HsfmP+/HjZecOuFxQrqC0biNriYdTX4VDO4csSOj8VT+jwDQEVCRsDlag3rqOSw6P4B15y4ABNBGwQypART4EEIqQvowzUqb5u3tmmzZcRCPv9LrzpxS3fXFDBsQDJoipRKxd+4fnjAvqxjZM680maE/bCBu2mAss3kh4OYcOQJ4/JVeXPuXJ0+4Rt5umipJGIqYGItbsBwOLtwePbLk1qc1BTQ0AXhrMIJ7nnwTAV3OOU+M8nVINaPAhxBSMSbbWamEad7ZDQXv/fNb+PmzhzPmdAV1N0jzErGz52UVItfMq5jlIGrYcASQK+4TcEvZTZvnbBIY0hWoMsOh4Rgc4XZt9rI77WRTQk1hyYout2R/y9M9CKgy/Kpc0qCOkHKjHB9CSMWohsogn+qWcf/u1YFZGdGwedt+vNEXRltQS1W2tQV1NAfchG87a8aEECI5pFRGQM99FBhO2IibNkxHwOECtnO8WzPgHnPJ0vGE7YTldopuDao5q+s2/3l/2ZtLEjJdtONDCKko2Tsr5awMmqw6qdBE7KGoUfBE8oGwgc3b3sKP/nwAjiPcKjK/iraQBkWS0NmoYzRmwhGAaTuQJQkCbtCjK24peq4mgQNhA5vufx6948cTn0XW/zK4O1VeV+qI4UBiDJqS+VgieU1++Of9eOTFowhoCh1/kapDgQ8hpCL5VLlsAU92jk12fstUidgx04HpOLjy3meQsPiU+TGpUvXecXceluSOxPAaAXqNA+c1+XFsPAGRbKQoMbgl6DLDKd2NOY8Cvd5IssQgJyexO1xkBD1KMseHc5EKgFJ9i5Ish+PQcCy5y+Mei9HxF6lGdNRFCCFpCukenW9EQ8K03WMgkyNmOAV1n041bmzQ3YotAIokQZEYDJtjKGICcIOWE9sC+NR5J2JJWwDdjT6c0OLHx1YvyXkU6M3q8quyG8QwQJUl6IoEXWGpx3QHlQqMxd3ZY7oyMegcihhI2ByMubO7QhXQXJKQ6aAdH0IISZPePTpf0vJkidjDUQOMAfNbfPCpyqT396QPEtUUGY0+BcMxKzVLizE3IGkJqG5l29kLcP2Fy3H9RaekSt0tLnLm9nhHcrqa43HBoMk8lTPkV2U0+FV8aMVCRE0bv9p9JFVd5w5ktZM5QSxjNyg9p+nq85dSuTupeBT4EEJIUvY083TZb/C5StwDuoyEpUBTpFTQM9n9vQAhO1+oPaQjZjpI2BwSc4+kbEdgIGLilK7jlW3hhJ33OA7I7I2U/bgMzD1WYwxnLWrGbVesxKLWAHyqjMGIgZeOjKeCOkVisN3JpvCpMtpCmZ2105tLUuBDKh0ddRFCSFKx3aO9ROxHNq3Fw59Zg80bz0UwGWwUcn9g4iBRRZawqDWAtqAGiTEIAcgyw0feuTB1nFXoMNf0IzkAmY8LATDgnCUtuHvD2Vje1ZAKWrKr67gQkCWGgK6k8o3S5RpaSkilosCHEDJtCcupqbLmXNPM0032Bu+NaGgL6UXfP1e+kCJL6Gr0YUlbAE0+BZ8670TcePGpqZ2cYoa5pk9NH0+4FWptQQ0NuoJzFrXi+x89K2dScnpQ96tNa/HJ806ErkjHS8GSJhtaSkilosCHEFK0gbCB27e+jsvv3IYr7tqOy+/chn/d+kbOxN1qki9puZA3+OnePz048Sq5hqMmhqImTuluxMbzTkzdttDjOC8YzdUbqcGv4mOrl+D763MHPdnPqT2k48rzTsy5xoGIUfbmkoQUg6azZ6Hp7ITkl6uzsGlzJGwHyzobqr6s2ZtmPln36KkaKU73/oMRI3Mkhibj0hUTS+AHIwbe//1tkBhDyKdklJwDQNSwYXOBhz+zJmeV10x6IxW6RkIqGQU+WSjwISS/27e+jvt39WRUPQHujsZAxMD6VYunNaqhksz0DX4m988XnLhNDvfjh396Cw53h5U2BzS0BbXUz2I4aiLkU/DIprWzdvQ00wCKkHKiwCcLBT6ETC5hObj8zm2IGjZagtqEr8/Fm+5cmukbfCkDhIGwgU//9Dm8emwMhu0OGAXcBoR+VcLitiC4EBgIG/jIOxflnNJOCKFydkJIEYqpeqqFwGem3aNL2X36nqf2Yc/hUQgBSBKDSM7bEgBiFsfe/jAE3MaHT7zSC0WW6AiKkBwouZkQUrDpVj2RmUlYDh5+/gi4EFBlBlWSoKtSctSEy+ZuE8LuJh8SFs/bKZqQekaBDyGkYDOteiLTMxQ1EDbsZCdnr38ygypnBj/zm/1o9Kk0SoKQPCjwIYQUZbLS62LKmmut/8+sExP+I/knAYfnTtPMVdpOCKEcH0JIkXKNagj5FKxbsWDKnJKppp7PhlqoQGoL6Wj0qRiJmalZW9lkiU3o61NrOVeElAJVdWWhqi5CCldMUDHX/X/KEWTNptt++7/YvP0AOBeQJPfISwgBKzlktD2oYV6zP+M+tVZlR0gp0FEXIWTavK6+hbypFjNmYaYKnWVVTT793qU4Y0EzdFWGEADnAkIAqsSgSAwtATXj9pRzRUhuFPgQQmZdsWMWZmoug6y50h7Scc+Gs/Gpd5+EkzqC6Gr04aSOIK5cuwRvX9iMkbhFoyQIKQDl+BBCZt1c9v8pNMi6+vylVbcT4g0Ovfr8pRlHjNmdogvNuSKkHlHgQwiZdV7/n6hhI5jjfdiwOUI+pST9f+qhyWJ2Y8TJAiJCyER01EUImXVz2f+nkCaLuirBsJwZH61VWll+MTlXhNQr2vEhhMyJDauXYNf+kUmnlpcqF8ULsu7f1QPb4RnHXQnTxnDUQMJS8OEf7Sqq0iu9gi2csGuqYoyQekLl7FmonJ2Q2TPTqefFfJ9rH9idEWTFTHd3hjH3aMjbFZqqnD67LF6VGAyHI2Y6CKizX5ZPCCktCnyyUOBDyOybSVPBQu+bHWRFDAsJk2N+iw8+9fhmt+1wDEQMrF+1GNdfuDzjMXL1HhoIJxAxHHciensQiiRN+TiEkMpBgU8WCnwIqUzTbUiYsBwMRQ1cee8ziBkOWoLahNtM1ujv9q2v4/5dPegI6VBkCTbneGsgmhoT0RrU0NXom/JxCCGVg5KbCSEVbyYNCX2qDF2RkbB4QZVenvSyeAGgdyyON/sjMGwOmwtwITAWt8CT/3bkQkCRgZhhZzwOIaSyUOBDCKl4M21IWEill1+TM8rpvbJ4SWI4NBzDcOx4kAMAXACmzRE3HfSNJ7CvP4LDwwn0hQ1s/vP+quwOTUg9oMCHEFLRStH1eTrl9F6wNBI1kLA5VIlBlWXIafNBBYBDIzEMR004nAMQ0GUJDz57qGpHYxBS6yjwIaRKVFrPmLlSTEPCfDasXoJlnQ0YiBgFjXbwqTL+6m0diFkOvFhHQECVpYy/OL0hoQIMPlXGghZ/VY/GIKTWUR8fQipcrU0Z9xRanVWqrs/tIR13fuTMokY7vGd5B37wx/2wuYDNBRgAxgAwQGUMVjLJWZYYmvwq2oJaalfK24m6cu0SWFxQN2VCKkTVVHXddttt+O1vf4sXXngBmqZhdHR0wm0YYxM+97Of/Qx///d/X/D3oaouUklylVNXe8+Y6QRy2dVVHq+E/O/PWYiN551YcHBRSNA1EDaw6f7n8dzBYSTjG3h/Waoyw8KWAA4MRiFJwMldDamyds943MRIzEJHgw7LETUTsBJS7aom8PnKV76C5uZmHD58GD/+8Y8nDXzuvfdeXHLJJanPNTc3w+fzTbjtZCjwIZVkqjf8ausZM91ALldDQsPmiJs2/JrsJi6XOLjwrr0QAqNxG4rk/h0jBOBwgSa/itGYhYAmY1FbAJwLSBKDxBhsh+PNgQgcIdDd4INeYLNEQsjsq5ocn1tvvRWf+9znsHLlyry3a25uRnd3d+qjmKCHkEpSiqTeSjPd6izvmGr9qsUI+RTYXMCnSgjoCuIWR8LiRZW4TyX92nc2+OBTJNjcDXiEgBsMxSx0NGiwHAf7+iN4cyCKff0R9I0n0DeegOUItPg1tIb0oqvQCCGzp2oCn0Jt2rQJ7e3teOc734mf/OQnmGpDyzAMjI+PZ3wQUglKldRbKWYayHkTyB/ZtBYPf2YNLlnRjYTloKtheiXu+aRfe0WWsKg1gLagBil5nC5JDAFNRmtQgyMAy+FwhNvfZzBiYDhmQZEZOhoyd3WqNWAlpJbUVODzta99Db/4xS+wdetWfOADH8BnPvMZ3HHHHXnv841vfANNTU2pj4ULF87RagnJbzq9ZypZqQI5n+o+59+92j9ru2HZ116RJXQ1+rCsM4SlHUF0hHRoioS+8QSWtAXQHtKhSBJkxqBIDAxAQJ24tmKeJyFkdpQ18Ln55pvBGMv78dprrxX8eP/4j/+ItWvX4swzz8RNN92EL3zhC/jOd76T9z633HILxsbGUh+HDh2a6dMipCSm03umkpUykJvt3bDJrr2342MkP+dXFfhU5XhQ1BnEss4QZIkhajoZDQ891RawElJryvqb9/nPfx4bN27Me5uTTjpp2o+/atUqfP3rX4dhGND13ImEuq5P+jVCym3D6iXYtX9kQlKvYTs5e89UMi+YuH9XD2yHT0jWNmwH61YsgE+Vp6y6KrTEXZUYBiPGtErJ8137JW1B9I4lMgIvibFUYBTSFYwnLJiWA5+WORA1/XkSQuZeWQOfjo4OdHR0zNrjv/DCC2hpaaHAhlSt6fSeqWRTBXKXruzG7Vtfn7LUfaogKm45WNDiw4fu2Tnt3kf5rv26cxbgqs3PThp4+TUZhs0xHDPhs3hVB6yE1JqqKWfv6enB8PAwHn30UXznO9/Bn/70JwDAsmXLEAqF8Otf/xp9fX1417veBZ/Ph61bt+LGG2/EjTfeiFtvvbXg70Pl7KRSFdrwr9INRoyMYMKvybh0RTcuXdmNrzz6vwWXuk9a4m65x1OKxBDQlJL0Psp17adqNXDFmfMR0JQJz7MaA1ZCaknVBD4bN27EfffdN+Hzf/jDH3D++efjiSeewC233IJ9+/ZBCIFly5bhmmuuwSc/+UlIUuGpTBT4EDI3soOJ6fQs8oKox14+hqjhIKjLaAmo2NsXQVejb8rHmUkwOVng5e3q3JEMsGolYCWkVlRN4DNXKPAhZO4lLAeX37kNUcNGS1Cb8PXhqImQT8Ejm9ZmBA9eF+jHXupFzHTg1ySMRC1osoT2hom7Kt7j/Pjj5+ChZw9lHKldeFon3veO+VjUGig4QJls94p2dQipXBT4ZKHAh5C5NxgxcMVd26FIDMEc1U5Rw4bNBR7+zJpUQJGrC3TcctA3noAmSzixPTihnDxq2DBsju4mHw4OReFTZMgSw3DMRMxwoMgMC1r8+NszTigqeKFdHUKqR0318SGEVKfplLrn6gLdGtSgSAymwzEUNXM+TtyycWAwio6QjgafgsGIgbjpgDEB2+HoHzeK7v7sU2W0h3QKegipAhT4EELKrtieRZN1gZYYQ3PAPSobi1sZfXRshyNh2WBg8CebCw5FTRi2mwityjKkZNDUFtRotAQhNYoCH0JIRdiwegmWdTZgIGJgOGoiatgYjpoYiBgTSsDzNTBsC2nQZAmWwzEUyXycE9tD8KnusRgXAmNxC4y5w0cBgMEdQioxRqMlCKlRFPgQUuMSloPBiFHxb+C5BpGGfArWr1qcqpDy5DsaUyQJLUENLQENDf7Mx/m3D78DIV2BaXNw4Q4c9YIeABAQYMydxUWjJQipTdQznZAa5VU8TdUMsJJ4g0ivPn9p3mThqRoYWg7Hhnctzvk43v2CXAZjcI/DGIMQAlwALQEVEmMwbI6gLsOwHSQsh/J3CKkRVNWVhaq6SC3IVfE00yZ+QGVVLxXaRyff/QybI2bYYIxBAPAp7iR2m3McGU3Ar8oIJneXKj1oJIQUhgKfLBT4kFownWaA+VTq7tF0++h49/vNnqM4NBKHzTkCqlsVZtocg1EDQgAdIR1+TS5J0EgIqQwU+GShwIdUu+k2A5zMbO0elVK+naipvtYzHMOju49g62v9iJsOooaNmGljQbN/woDR6QSNhJDKQjk+hNSYfBVPAKArEmKGjZ7hWEFditP75Xi7R0HdDQS8ku9yBwI+VZ7wPArZpfKpMpZ3NeDGS07FtX95MoYiBjbe+wz8qpwR9ACAIkupSq+rz19a9qM+Qsj0UFUXIRVqutVY+SqeLIejP5xAX9jAJzY/g8vv3IZ/3frGpI36JuuXA2QGApVWMebtUt2/qwdRw4YiMUQNO29jQp8qQ1fdqer5gkaq9CKkutGODyEVZqb5NJNVPFkOR89wDHHTQcinQJWlVDCwc/9wziOrQnaPvECgknZAprtL5QWNUcNGMMelNmyOkE/J6CBNCKkutONDSAVJ36kIG25zvbBhTdipmGo3KFczwMMjbtDjVyUsaPEjqCtoCWroCOkZXYrTH3s6oyTKbSa7VMV2kCaEVJ/K+duKEIItOw/gjb4wJABDETPZYA9o0BW80RfGPU+9iYAmT7kb5DUD9CqeYoYN03Eb+S1o8UORjgcEXjDw6z1HYTkcv3u1P+Ox37O8Db/afTRnvxzDdrBuxYKKCgRmuku1YfUS7No/MmmZfHoHaUJI9aGqrixU1UXKJWE5uOzf/4RDwzHwZMDDko313DEKgCwxBDQZflUpuLrKq1z6xOZnoMpSzunnY3ELfeMJBHUFATWzcmtxWxAAcHAoWlS/nHIpRVXbdMvkCSGVj3Z8CKkQEcPGQNiAwwVUWTo+SiEZ/Bg2h+WIjDLrQvJWfKqMRa0BBDRl0tyV4agB2xHoCGnQFDnjsQ8ORXHFmfPx7mXtqUAg5FOwbsWCVCBQSY0Np+rqXMguVaEdpAkh1YcCH1KVKumNtlRUiSGRzKVJnx/lfgLwtmYVZfK8lcnKrPMFA6btIG45COhKKujJfuyn9g7ikU1rJwQCA2EDt299vahE7PSfHYBZ+TmW6rgqV5k8IaS6UeBDqkqldhAuBYsL+BQJUYdDCJE5PDN5Is2A4xFQmkJ680wWDMRNG4okoTXHsZD32F5OTHtITz12rsaG+arE0n92EcNG3HRHRfhUNzm6lD/H7BynXLtUhJD6RDk+WSjHp3JVQwfhXArdnUrl+IzE4XABiQEMDALu8EyHC8gMOHVeI6S0oMhyOA6PxGA6Al0NOgLa5EFErtyVC0/txBOv9CJh8aJyYooZi5H+s1MlCSMxE2ayakqT3WnqlsNn5edYi7uDhJDpox0fUjWqoYNwumJ3p3yqjL85Yx5+uuMgJMYQNuxkUjNDk09B1HSb5nEuIMlu4FNsb57JcldkmRWVE5OvZFySGFRZwmMvH0sdvaX/7AbCCZgOhyoxMMZgcwGHi4yy+lL+HOm4ihCSjvr4kKpQbR2Ep9M5GHCPo5Z3NwIMaAtqmNfkQ1tQAxhw2glNOO2Epmn15snmU+WMY6tcfX+GoyYGIkbOnJhcJeO2w9E3nsC+/ggGwgb2D0bxvf9+HUdGY3ji5T6okoSBiIGhqAUuANMRsLkAIDAWtyBJDJoi4Td7jmIsZpbmB0EIIVko8CFVoZjeLJUgfYejJagVHJB4uSnrVy1Gg1+FANDgV7F+1WLcs+Fs3LPhbKxftRghnwLL4anePIvbgzl78xQaDKZ/35BPgc3dx12/anHOcvXsxoZ2cudpOGqCCwEBQAjgP58/jM/+7AWMxS2MxEyMRK1UipIAkrs9gMPdoGkgbODAUAxX3L097ygNQgiZLsrxyUI5PpWp1BPHZ1Op1lrIVPF8vXmihg2bCzz8mTVF5cwUmhOTnuMzFDUxHDWhSMkjOC7QFtTQFtTQH04gajju8ZbMYNrJv3KYGxx5ZMn9hCQxdIZ0GLOU80MIqW+040OqQjWNEijV7lT2cVT217zePKUeJ5Hv+6bzjsf6k8djAgKOEKnqtLagltp5shwOATdZW5aYu+sjklVqSTLcro0tAQ2tIX3K3TFCCJkOCnxI1Sg2D6Vc5mq+VbmDQe947ANnzne7TINBYgxtQQ2LWgOpXCxVlgDGoMlSMqfHDXgEMivzbYFUwARUZu4WIaT6UeBDqkaxeSjlMpcBSSHB4FQDTWeiPaTjhotOwZK2IDpCOpZ1htDV6MtIQLccDllK7uQENcgSgyK7Oz+ydHzPJztgAiovd4sQUv0oxycL5fhUh0rvzTIYMXDtA7sn7RxcykBtsrlSl66ch8deOjonzR6n6umztD2INwej6AjpkCQGLgQkxmDZDt4ciCKgyVjSHkrdjwsBzt1qrwa/WhG5W4SQ2kCBTxYKfEipzPWgy/RgMJyw57TZ41SB3q2Xr8CXH3kl59d9qoSY4aCr0QcBYChiYDxhu8GPEDhncSu+/9GzKmZHjxBS3SjwyUKBDym1cuxOFdNVuVSmCvQm+/pfnzEPX37kFbzRO46I6cBJOx6UJYaQT8XyLqruIoSUBgU+WSjwIdWu3KX/YzETfWEDXQ06mgITv3+uQHAwYmDTlufw7MFRSMzt/tzkV9EW0gCBWQvWCCH1h0ZWEFJjiimnL2XgU+iIjlwjJEK6gtG4ja4mHU1+FRJjGfPIppo+TwghhaKqLkJqzFyV06eb7ogOjxes+RQZiiRlBD0AVXcRQkqHAh9C0sxm6fdcKUd/n+mO6PCUI1gjhNQn+luEEBw/pnnspV7ETAcBTcZlK+fNWgXWbNuwegl27R+ZtMqqlM0eCx0gm++YygvWipkQTwgh00GBD5kTldx3ZyBs4NM/fQ6vHhuD5RzP9b/nj2/iT/sGcc+Gs6su+PGaPaZXUYV8CtatWFDyYK5UOUVzGawRQuoXVXVloaqu0io04bWc/uk3r2Dz9oMQApAkd/SCgADnAGPAVWuX4IuXnVbuZU7bbAedpawim+veR4SQ+kOBTxYKfErHS3idqyZ605GwHKz5xu8xGregyRJYWlKtEAKmw9ES0LDt5r+ouJ2qSlLqvkGVvENICKlulNxMZs1ME17nwlDUQNiwwRjLCHoApD43nrAwFM1flVTvSj1AttAJ8YQQUiwKfMisKDThtezVU2LCf+S+wQz2RWuhUmwq1TJAlhBCKLmZzIpyNdErVltIR6NPxUjMhBBiwlGXEECjX0XbNN64qyG/qZTaQzquv3A5rj5/KR1TEUIqFu34kFlRLX1ZfKqMK86aD1lisBwOm3M4QsDmHJbDIUsMHzhrftFv4DNt6FfN6JiKEFLJKPAhs6IcTfSm69PvXYozFjRDV2UIAXDu7vToqowzFjTjU+9dWvRjVkN+EyGE1CMKfMisKXXC62xpD+m4Z8PZ+NS7T8JJHUF0NfpwUkcQn3r3SdPq4VM1+U1FqodcJUJI7aNy9ixUzl5a1daXpRRl1IMRA1fctR2KxBDMcZQXNWzYXODhz6zJuAaVWsJdb7lKhJDaVhWBz4EDB/D1r38d//M//4Pe3l6ccMIJWL9+Pb70pS9B0443TNuzZw82bdqEZ555Bh0dHbjuuuvwhS98oajvRYHP7KjUN/XZUGxDv0oOLKqhFxMhhBSjKo66XnvtNXDOcc899+CVV17B7bffjh/84Af44he/mLrN+Pg4LrroIixevBjPPfccvvOd7+CrX/0qfvjDH5Zx5cRTTwmvxeQ3TZUEfWQ0VtbjJcpVIoTUmqrY8cnlO9/5Du6++2689dZbAIC7774bX/rSl9Db25vaBbr55pvx//7f/8Nrr71W8OPSjg8phcGIgWsf2D3p3Cmvt81kHY8Tpo3Do3EENAXBZIXcbOwC5duJK+UoCkIIqRRV28dnbGwMra2tqT/v2LED73nPezKOvi6++GJ861vfwsjICFpaWnI+jmEYMIzjpcXj4+Ozt2hSNwoZEjpZErTlcBwdS8CwOSzHQqNfSe0C7dw/XJLjpUKO18rRi6mejkQJIeVRlYHPvn37cMcdd+C73/1u6nO9vb048cQTM27X1dWV+tpkgc83vvEN3HrrrbO3WFK3pmroN1lgMRQxkLDdHkIMDD5VRkiXYDs8dbxUzNyrbLnydnIFVl4vpqhhI5gjzjJsjpBPKUkvpkrOcyKE1Jay5vjcfPPNqXlIk31kH1MdOXIEl1xyCdatW4dPfvKTM17DLbfcgrGxsdTHoUOHZvyYhKSbLL8pV5NHLgTGEzakZANpxgAp2U26VKXwhebtzFUvpnpu9kgImXtl3fH5/Oc/j40bN+a9zUknnZT676NHj+KCCy7AmjVrJiQtd3d3o6+vL+Nz3p+7u7snfXxd16Hr9C9KMve8wOL+XT2wHQ5FllLNExkALoCmgJoKfICZHy8V2mPo6vOXwqfK2LB6CXbtH5k0V6kUvZjSAzFvTUEdJdvhIoSQdGUNfDo6OtDR0VHQbY8cOYILLrgAZ599Nu69915IUuZf2qtXr8aXvvQlWJYFVVUBAFu3bsUpp5wy6TEXIYXKzj0pVS5KdmChygxcCHAh4FdltIUyk4pnerxUbN5OIblKM1FsIEYIITNVFTk+R44cwfnnn4/Fixfju9/9LgYGBlJf83ZzPvKRj+DWW2/FJz7xCdx00014+eWX8W//9m+4/fbby7VsUgOyc09UmaE9pGEwYsJyxIxzUXIFFo1+BQmT44RmH5S0AN87Xlq3YsG0g4Dp5O3M5vDRahlmSwipHVUR+GzduhX79u3Dvn37sGDBgoyvedX4TU1N+O///m9s2rQJZ599Ntrb2/HlL38Zn/rUp8qx5LKiypjSyE4CliWGQ8MxvDUQhapImNfoK0m1VXZgYVgOPv/QnuQuEC/p8VKu4zXPVIGVT5VL/nqaywRqQggBqriPz2yp5j4+VBlTWtk9dvrGExiOmpAZYAugxa+iq8kHzgUGIgbWr1pcslyU2Rz1UWiPobkyWS8j2+Elv66EEEKBT5ZqDXxotEBpZTfv40JgX3/ETT4GYHP310aTGZoDGiTG0BRQS97Mb7Z27ypphlqlBWKEkNpG+8c1gipjSis798RLOLaTgY+HC4GhqAlVYpAlVvJclFIeL6UHUbOZt1Os2U6gJoSQdBT41ACqjCm97NwTiTFwAQi4pebe/3rJx6bDkbCcisxFmeoItBJeE5UUiBFCaltVDCkl+RVTGUMKk695n7fjI0tuk81KVm3NAetpmC0hpDwo8KkBuToApzNsDr8mV+RuRCXbsHoJlnU2YCBiYDhqAmmHXAxuV2Wbc9hcQJMl+FS5ooLLhOXgh398E3v7aLo6IYR4KPCZIwnLwWDEmNGogcnM1WiBeuPlnqxftRgNPgUSY1AkhoDmNhpkYJAYQ2tQQ0tQq5iy64Gwgdu3vo6/vePP2Lz9AMbiFoaiJmx+/LVRqvEXhBBSbcr/t3SNm6sS87kYLVCP0nNP/uW/X8PDzx9BZ4MPkuR2WJYYS5WzV0JwmV7dp0oShAAEBIajJqKGjUVtgVReEjUHJITUI9rxmUVzmV+RvjsR8imwuUDIp2D9qsVUDlwCPlXGp9+7DCd3NWIgYmA0ZsGwOEZjFgYiRsUEl+nVfa0hDbLEUjtVhs0xFDFTt6UjUEJIPaI+PllK2cenXI3ZqHPz7Kmk/jfZsnsPAUDvWBzDMQuqxOAkd6iWdYZmpekiIYRUA/qn3iwpZ4n5bIwWIK5KLrvOVd3XHtIRMx0kkonvQrjHXpbDK2aXihBC5hIFPrOkkocv0o7QzFVicJlr7pUiS1jUGsBQ1MRw1ARjQINPwV+fPq8idqkIIWSuUeAzSypx+CLN8qptkw0gVWQJbUENDuf4wFkLcMNFp1Rc0EYIIXOFkptnSaWVmFdbIzsyPdm9h6KGjeGoiYGIgeVdjfjUe6l7NyGkvlHgM4vyvQnNdX5FerUPNbKrXVTdRwgh+VFVV5ZST2evhCqgXNU+6YajJkI+peSTxUl5US4XIYRMRDk+s6wSqoAqOdGazJ5KTMAmhJByo8BnjpTzTagSE60JIYSQcqAcnzpQaYnWhBBCSLnQP/HrBM3yIoQQQii5eYJSJzdXkkpItCaEEELKiQKfLLUc+Hio2ocQQki9oqOuOkTVPoQQQuoVJTcTQgghpG5Q4EOmlLAcDEYMJCyn3EshhBBCZoSOusikaKgpIYSQWkPJzVnqIbm5EN5Q0339YfgUGZoiwbQ5EraDZZ0NuJPmPhFCCKlCdNRFcqKhpoQQQmoRBT5kgoTl4ImX++BTZChy5ktEkSXoiozHX+mlnB9CCCFVhwIfMkExQ00JIYSQakKBD5nAG2pq2jzn1w2bw6/JNNSUEEJI1aHAh0xAQ00JIYTUKvonO8mJhpoSQgipRVTOnoXK2Y+joaaEEEJqDQU+WSjwmYiGmhJCCKkVdNRFpkRDTQkhhNQKSm4mhBBCSN2gwIcQQgghdYMCH0IIIYTUDQp8CCGEEFI3KPAhhBBCSN2gwIcQQgghdYMCH0IIIYTUDQp8CCGEEFI3KPAhhBBCSN2gzs1ZvAke4+PjZV4JIYQQQorV0NAAxtikX6fAJ0s4HAYALFy4sMwrIYQQQkixppq1SUNKs3DOcfTo0Skjxmzj4+NYuHAhDh06RMNNc6Drkx9dn/zo+kyNrlF+dH3yq6XrQzs+RZIkCQsWLJj2/RsbG6v+RTOb6PrkR9cnP7o+U6NrlB9dn/zq4fpQcjMhhBBC6gYFPoQQQgipGxT4lIiu6/jKV74CXdfLvZSKRNcnP7o++dH1mRpdo/zo+uRXT9eHkpsJIYQQUjdox4cQQgghdYMCH0IIIYTUDQp8CCGEEFI3KPAhhBBCSN2gwKeEDMPAO97xDjDG8MILL2R8bc+ePXj3u98Nn8+HhQsX4tvf/nZ5FlkG73vf+7Bo0SL4fD7MmzcPGzZswNGjR1NfP3DgABhjEz527txZxlXPnamuD1C/r58DBw7gE5/4BE488UT4/X4sXboUX/nKV2CaZsZt6vX1U8j1Aer39eO57bbbsGbNGgQCATQ3N+e8Ta7X0IMPPji3Cy2TQq5PT08PLrvsMgQCAXR2duIf/uEfYNv23C60RKhzcwl94QtfwAknnIAXX3wx4/Pj4+O46KKL8Fd/9Vf4wQ9+gJdeeglXXXUVmpub8alPfapMq507F1xwAb74xS9i3rx5OHLkCG688UZ88IMfxPbt2zNu97vf/Q4rVqxI/bmtrW2ul1oWU12fen79vPbaa+Cc45577sGyZcvw8ssv45Of/CSi0Si++93vZty2Hl8/hVyfen79eEzTxLp167B69Wr8+Mc/nvR29957Ly655JLUnycLAmrNVNfHcRxcdtll6O7uxvbt23Hs2DF87GMfg6qq+Od//ucyrHiGBCmJxx57TJx66qnilVdeEQDE7t27U1+76667REtLizAMI/W5m266SZxyyillWGn5PfLII4IxJkzTFEIIsX///gnXrJ5lXx96/WT69re/LU488cTUn+n1kyn7+tDr57h7771XNDU15fwaAPGrX/1qTtdTaSa7Po899piQJEn09vamPnf33XeLxsbGjNdVtaCjrhLo6+vDJz/5Sfz0pz9FIBCY8PUdO3bgPe95DzRNS33u4osvxuuvv46RkZG5XGrZDQ8P4/7778eaNWugqmrG1973vvehs7MT5513Hh599NEyrbC8cl0fev1kGhsbQ2tr64TP0+vHlX196PVTuE2bNqG9vR3vfOc78ZOf/ASC2twBcF9DK1euRFdXV+pzF198McbHx/HKK6+UcWXTQ4HPDAkhsHHjRlx99dU455xzct6mt7c34wUDIPXn3t7eWV9jJbjpppsQDAbR1taGnp4ePPLII6mvhUIh/Mu//Aseeugh/Pa3v8V5552Hv/u7v6urN69814deP8ft27cPd9xxBz796U+nPkevn+NyXR96/RTma1/7Gn7xi19g69at+MAHPoDPfOYzuOOOO8q9rIpQa68hCnwmcfPNN+dMdkv/eO2113DHHXcgHA7jlltuKfeS51Sh18fzD//wD9i9ezf++7//G7Is42Mf+1jqX1Pt7e244YYbsGrVKpx77rn45je/ifXr1+M73/lOuZ7ejJXy+tSiYq8PABw5cgSXXHIJ1q1bh09+8pOpz9PrxzXZ9alV07lG+fzjP/4j1q5dizPPPBM33XQTvvCFL9Tda6heUHLzJD7/+c9j48aNeW9z0kkn4X/+53+wY8eOCfNNzjnnHHz0ox/Ffffdh+7ubvT19WV83ftzd3d3Sdc9Vwq9Pp729na0t7dj+fLleNvb3oaFCxdi586dWL16dc77rlq1Clu3bi3lkudUKa8PvX6Ao0eP4oILLsCaNWvwwx/+cMrHr7fXT77rU4uvH6D4a1SsVatW4etf/zoMw6jK+VWlvD7d3d14+umnMz5Xza8hCnwm0dHRgY6Ojilv9+///u/4p3/6p9Sfjx49iosvvhg///nPsWrVKgDA6tWr8aUvfQmWZaXyNrZu3YpTTjkFLS0ts/MEZlmh1ycXzjkAt/x/Mi+88ALmzZs3rcevBKW8PvX++jly5AguuOACnH322bj33nshSVNvVNfT62eq61OLrx9gZr9jhXjhhRfQ0tJSlUEPUNrrs3r1atx2223o7+9HZ2cnAPc11NjYiNNOO60k32NOlTe3uvbkqjAZHR0VXV1dYsOGDeLll18WDz74oAgEAuKee+4p30LnyM6dO8Udd9whdu/eLQ4cOCB+//vfizVr1oilS5eKRCIhhBBi8+bN4oEHHhCvvvqqePXVV8Vtt90mJEkSP/nJT8q8+tlXyPWp59fP4cOHxbJly8Rf/uVfisOHD4tjx46lPjz1/Pop5PrU8+vHc/DgQbF7925x6623ilAoJHbv3i12794twuGwEEKIRx99VPzoRz8SL730kti7d6+46667RCAQEF/+8pfLvPK5MdX1sW1bnH766eKiiy4SL7zwgnjiiSdER0eHuOWWW8q88umhwKfEJiutffHFF8V5550ndF0X8+fPF9/85jfLs8A5tmfPHnHBBReI1tZWoeu6WLJkibj66qvF4cOHU7fZvHmzeNvb3iYCgYBobGwU73znO8VDDz1UxlXPnUKujxD1+/q59957BYCcH556fv0Ucn2EqN/Xj+fjH/94zmv0hz/8QQghxOOPPy7e8Y53iFAoJILBoHj7298ufvCDHwjHccq78Dky1fURQogDBw6ISy+9VPj9ftHe3i4+//nPC8uyyrfoGWBC1HAGJSGEEEJIGqrqIoQQQkjdoMCHEEIIIXWDAh9CCCGE1A0KfAghhBBSNyjwIYQQQkjdoMCHEEIIIXWDAh9CCCGE1A0KfAghhBBSNyjwIYTUlSeffBKMMYyOjpZ7KYSQMqDOzYSQumKaJoaHh9HV1QXGWLmXQwiZYxT4EEIIIaRu0FEXIaSqnX/++bjuuutw/fXXo6WlBV1dXfjRj36EaDSKK6+8Eg0NDVi2bBkef/xxABOPujZv3ozm5mb813/9F972trchFArhkksuwbFjx8r4rAghs4UCH0JI1bvvvvvQ3t6Op59+Gtdddx2uueYarFu3DmvWrMHzzz+Piy66CBs2bEAsFst5/1gshu9+97v46U9/ij/+8Y/o6enBjTfeOMfPghAyF+ioixBS1c4//3w4joM//elPAADHcdDU1IQrrrgC//Ef/wEA6O3txbx587Bjxw4kEglccMEFGBkZQXNzMzZv3owrr7wS+/btw9KlSwEAd911F772ta+ht7e3bM+LEDI7aMeHEFL1zjjjjNR/y7KMtrY2rFy5MvW5rq4uAEB/f3/O+wcCgVTQAwDz5s2b9LaEkOpGgQ8hpOqpqprxZ8ZYxue86i3OecH3p81wQmoTBT6EEEIIqRsU+BBCCCGkblDgQwghhJC6QVVdhBBCCKkbtONDCCGEkLpBgQ8hhBBC6gYFPoQQQgipGxT4EEIIIaRuUOBDCCGEkLpBgQ8hhBBC6gYFPoQQQgipGxT4EEIIIaRuUOBDCCGEkLpBgQ8hhBBC6gYFPoQQQgipG/9/jC0L8teC730AAAAASUVORK5CYII=)"
      ],
      "metadata": {
        "id": "XcXLHKcB-LFH"
      }
    },
    {
      "cell_type": "markdown",
      "source": [
        "To download plant village dataset, we need a token from Kaggle API\n",
        "\n",
        "# Steps needed in both environments: locally and cloud\n",
        "\n",
        "\n",
        "1.   pip install kaggle\n",
        "2.   go to: https://www.kaggle.com/settings\n",
        "3.   “Create New API Token” It'll download a kaggle.json file\n",
        "\n",
        "# Execute this if locally\n",
        "\n",
        "To add the API in a safe place for MAC or linux systems:\n",
        "\n",
        "mkdir -p ~/.kaggle\n",
        "\n",
        "mv /ruta/del/archivo/kaggle.json ~/.kaggle/\n",
        "\n",
        "chmod 600 ~/.kaggle/kaggle.json\n",
        "\n",
        "\n",
        "for windows:\n",
        "\n",
        "mkdir %USERPROFILE%\\.kaggle\n",
        "\n",
        "move \"C:\\ruta\\a\\kaggle.json\" \"%USERPROFILE%\\.kaggle\\\"\n",
        "\n",
        "\n",
        "note: if done in colab or cloud: proceed with the code line: #from google colab ...."
      ],
      "metadata": {
        "id": "2Pbrr6fvY-ZI"
      }
    },
    {
      "cell_type": "markdown",
      "source": [
        "This is done in colab so if you are running it locally, ignore the #from google colab import files code line"
      ],
      "metadata": {
        "id": "XK8HgHQmcSlR"
      }
    },
    {
      "cell_type": "code",
      "source": [
        "from google.colab import files\n",
        "files.upload()"
      ],
      "metadata": {
        "colab": {
          "base_uri": "https://localhost:8080/",
          "height": 90
        },
        "id": "cyVJ_YpCVQQS",
        "outputId": "f8d05ae9-6b69-4277-d01c-bef812ea7438"
      },
      "execution_count": null,
      "outputs": [
        {
          "output_type": "display_data",
          "data": {
            "text/plain": [
              "<IPython.core.display.HTML object>"
            ],
            "text/html": [
              "\n",
              "     <input type=\"file\" id=\"files-9dbbfa7f-f23b-4799-9dc6-873c1429bb15\" name=\"files[]\" multiple disabled\n",
              "        style=\"border:none\" />\n",
              "     <output id=\"result-9dbbfa7f-f23b-4799-9dc6-873c1429bb15\">\n",
              "      Upload widget is only available when the cell has been executed in the\n",
              "      current browser session. Please rerun this cell to enable.\n",
              "      </output>\n",
              "      <script>// Copyright 2017 Google LLC\n",
              "//\n",
              "// Licensed under the Apache License, Version 2.0 (the \"License\");\n",
              "// you may not use this file except in compliance with the License.\n",
              "// You may obtain a copy of the License at\n",
              "//\n",
              "//      http://www.apache.org/licenses/LICENSE-2.0\n",
              "//\n",
              "// Unless required by applicable law or agreed to in writing, software\n",
              "// distributed under the License is distributed on an \"AS IS\" BASIS,\n",
              "// WITHOUT WARRANTIES OR CONDITIONS OF ANY KIND, either express or implied.\n",
              "// See the License for the specific language governing permissions and\n",
              "// limitations under the License.\n",
              "\n",
              "/**\n",
              " * @fileoverview Helpers for google.colab Python module.\n",
              " */\n",
              "(function(scope) {\n",
              "function span(text, styleAttributes = {}) {\n",
              "  const element = document.createElement('span');\n",
              "  element.textContent = text;\n",
              "  for (const key of Object.keys(styleAttributes)) {\n",
              "    element.style[key] = styleAttributes[key];\n",
              "  }\n",
              "  return element;\n",
              "}\n",
              "\n",
              "// Max number of bytes which will be uploaded at a time.\n",
              "const MAX_PAYLOAD_SIZE = 100 * 1024;\n",
              "\n",
              "function _uploadFiles(inputId, outputId) {\n",
              "  const steps = uploadFilesStep(inputId, outputId);\n",
              "  const outputElement = document.getElementById(outputId);\n",
              "  // Cache steps on the outputElement to make it available for the next call\n",
              "  // to uploadFilesContinue from Python.\n",
              "  outputElement.steps = steps;\n",
              "\n",
              "  return _uploadFilesContinue(outputId);\n",
              "}\n",
              "\n",
              "// This is roughly an async generator (not supported in the browser yet),\n",
              "// where there are multiple asynchronous steps and the Python side is going\n",
              "// to poll for completion of each step.\n",
              "// This uses a Promise to block the python side on completion of each step,\n",
              "// then passes the result of the previous step as the input to the next step.\n",
              "function _uploadFilesContinue(outputId) {\n",
              "  const outputElement = document.getElementById(outputId);\n",
              "  const steps = outputElement.steps;\n",
              "\n",
              "  const next = steps.next(outputElement.lastPromiseValue);\n",
              "  return Promise.resolve(next.value.promise).then((value) => {\n",
              "    // Cache the last promise value to make it available to the next\n",
              "    // step of the generator.\n",
              "    outputElement.lastPromiseValue = value;\n",
              "    return next.value.response;\n",
              "  });\n",
              "}\n",
              "\n",
              "/**\n",
              " * Generator function which is called between each async step of the upload\n",
              " * process.\n",
              " * @param {string} inputId Element ID of the input file picker element.\n",
              " * @param {string} outputId Element ID of the output display.\n",
              " * @return {!Iterable<!Object>} Iterable of next steps.\n",
              " */\n",
              "function* uploadFilesStep(inputId, outputId) {\n",
              "  const inputElement = document.getElementById(inputId);\n",
              "  inputElement.disabled = false;\n",
              "\n",
              "  const outputElement = document.getElementById(outputId);\n",
              "  outputElement.innerHTML = '';\n",
              "\n",
              "  const pickedPromise = new Promise((resolve) => {\n",
              "    inputElement.addEventListener('change', (e) => {\n",
              "      resolve(e.target.files);\n",
              "    });\n",
              "  });\n",
              "\n",
              "  const cancel = document.createElement('button');\n",
              "  inputElement.parentElement.appendChild(cancel);\n",
              "  cancel.textContent = 'Cancel upload';\n",
              "  const cancelPromise = new Promise((resolve) => {\n",
              "    cancel.onclick = () => {\n",
              "      resolve(null);\n",
              "    };\n",
              "  });\n",
              "\n",
              "  // Wait for the user to pick the files.\n",
              "  const files = yield {\n",
              "    promise: Promise.race([pickedPromise, cancelPromise]),\n",
              "    response: {\n",
              "      action: 'starting',\n",
              "    }\n",
              "  };\n",
              "\n",
              "  cancel.remove();\n",
              "\n",
              "  // Disable the input element since further picks are not allowed.\n",
              "  inputElement.disabled = true;\n",
              "\n",
              "  if (!files) {\n",
              "    return {\n",
              "      response: {\n",
              "        action: 'complete',\n",
              "      }\n",
              "    };\n",
              "  }\n",
              "\n",
              "  for (const file of files) {\n",
              "    const li = document.createElement('li');\n",
              "    li.append(span(file.name, {fontWeight: 'bold'}));\n",
              "    li.append(span(\n",
              "        `(${file.type || 'n/a'}) - ${file.size} bytes, ` +\n",
              "        `last modified: ${\n",
              "            file.lastModifiedDate ? file.lastModifiedDate.toLocaleDateString() :\n",
              "                                    'n/a'} - `));\n",
              "    const percent = span('0% done');\n",
              "    li.appendChild(percent);\n",
              "\n",
              "    outputElement.appendChild(li);\n",
              "\n",
              "    const fileDataPromise = new Promise((resolve) => {\n",
              "      const reader = new FileReader();\n",
              "      reader.onload = (e) => {\n",
              "        resolve(e.target.result);\n",
              "      };\n",
              "      reader.readAsArrayBuffer(file);\n",
              "    });\n",
              "    // Wait for the data to be ready.\n",
              "    let fileData = yield {\n",
              "      promise: fileDataPromise,\n",
              "      response: {\n",
              "        action: 'continue',\n",
              "      }\n",
              "    };\n",
              "\n",
              "    // Use a chunked sending to avoid message size limits. See b/62115660.\n",
              "    let position = 0;\n",
              "    do {\n",
              "      const length = Math.min(fileData.byteLength - position, MAX_PAYLOAD_SIZE);\n",
              "      const chunk = new Uint8Array(fileData, position, length);\n",
              "      position += length;\n",
              "\n",
              "      const base64 = btoa(String.fromCharCode.apply(null, chunk));\n",
              "      yield {\n",
              "        response: {\n",
              "          action: 'append',\n",
              "          file: file.name,\n",
              "          data: base64,\n",
              "        },\n",
              "      };\n",
              "\n",
              "      let percentDone = fileData.byteLength === 0 ?\n",
              "          100 :\n",
              "          Math.round((position / fileData.byteLength) * 100);\n",
              "      percent.textContent = `${percentDone}% done`;\n",
              "\n",
              "    } while (position < fileData.byteLength);\n",
              "  }\n",
              "\n",
              "  // All done.\n",
              "  yield {\n",
              "    response: {\n",
              "      action: 'complete',\n",
              "    }\n",
              "  };\n",
              "}\n",
              "\n",
              "scope.google = scope.google || {};\n",
              "scope.google.colab = scope.google.colab || {};\n",
              "scope.google.colab._files = {\n",
              "  _uploadFiles,\n",
              "  _uploadFilesContinue,\n",
              "};\n",
              "})(self);\n",
              "</script> "
            ]
          },
          "metadata": {}
        },
        {
          "output_type": "stream",
          "name": "stdout",
          "text": [
            "Saving kaggle.json to kaggle.json\n"
          ]
        },
        {
          "output_type": "execute_result",
          "data": {
            "text/plain": [
              "{'kaggle.json': b'{\"username\":\"avahlava\",\"key\":\"6467628ab9e86baeea796e58501bf9c2\"}'}"
            ]
          },
          "metadata": {},
          "execution_count": 6
        }
      ]
    },
    {
      "cell_type": "code",
      "source": [
        "!mkdir -p ~/.kaggle\n",
        "!cp kaggle.json ~/.kaggle/kaggle.json\n",
        "!chmod 600 ~/.kaggle/kaggle.json"
      ],
      "metadata": {
        "id": "5-IuNcnPVa1v"
      },
      "execution_count": null,
      "outputs": []
    },
    {
      "cell_type": "markdown",
      "source": [
        "This code line will download de .zip file and unzip it."
      ],
      "metadata": {
        "id": "uHNUDSQacdO4"
      }
    },
    {
      "cell_type": "code",
      "source": [
        "!kaggle datasets download -d emmarex/plantdisease\n",
        "!unzip -q plantdisease.zip -d plantvillage"
      ],
      "metadata": {
        "colab": {
          "base_uri": "https://localhost:8080/"
        },
        "id": "TIv-4Z6hV3FC",
        "outputId": "48ee41ae-5323-462c-aea5-69cf9800b02f"
      },
      "execution_count": null,
      "outputs": [
        {
          "output_type": "stream",
          "name": "stdout",
          "text": [
            "Dataset URL: https://www.kaggle.com/datasets/emmarex/plantdisease\n",
            "License(s): unknown\n",
            "Downloading plantdisease.zip to /content\n",
            " 97% 641M/658M [00:06<00:00, 172MB/s]\n",
            "100% 658M/658M [00:06<00:00, 101MB/s]\n"
          ]
        }
      ]
    },
    {
      "cell_type": "code",
      "source": [
        "import os\n",
        "\n",
        "base_path = \"plantvillage\"\n",
        "classes = os.listdir(base_path)\n",
        "\n"
      ],
      "metadata": {
        "colab": {
          "base_uri": "https://localhost:8080/"
        },
        "id": "SRFknaJlV6Mx",
        "outputId": "62e5c82d-b747-493e-fe04-0687b780a870"
      },
      "execution_count": null,
      "outputs": [
        {
          "output_type": "stream",
          "name": "stdout",
          "text": [
            "Clases disponibles: 2\n",
            "['PlantVillage', 'plantvillage']\n"
          ]
        }
      ]
    },
    {
      "cell_type": "markdown",
      "source": [
        "The Dataset will download in different files depending on the plant/vegetable, this DF can be use to train, but for testing purposes, the next code will create a flat dataset that contains all the images."
      ],
      "metadata": {
        "id": "3fBFJ8QrcmBs"
      }
    },
    {
      "cell_type": "code",
      "source": [
        "# File route\n",
        "source_dir = \"plantvillage\"\n",
        "\n",
        "# Destined file\n",
        "dest_dir = \"flat_dataset_PlantVillage\"\n",
        "os.makedirs(dest_dir, exist_ok=True)\n",
        "\n",
        "# Lista para guardar: [nuevo_nombre, clase_original]\n",
        "records = []\n",
        "counter = 0\n",
        "\n",
        "# create a loop to check every file\n",
        "for img_file in os.listdir(class_path):\n",
        "    src = os.path.join(class_path, img_file)\n",
        "\n",
        "    if os.path.isdir(src):\n",
        "        continue\n",
        "\n",
        "    new_filename = f\"image_{counter:05d}.jpg\"\n",
        "    dst = os.path.join(dest_dir, new_filename)\n",
        "\n",
        "    shutil.copy2(src, dst)\n",
        "    records.append([new_filename, class_name])\n",
        "    counter += 1\n",
        "\n",
        "# Safe labes to: labels.csv\n",
        "df = pd.DataFrame(records, columns=[\"filename\", \"label\"])\n",
        "df.to_csv(os.path.join(dest_dir, \"labels.csv\"), index=False)\n",
        "\n",
        "print(f\"Images copied {counter} to  {dest_dir} and labels saved to: labels.csv\")\n"
      ],
      "metadata": {
        "colab": {
          "base_uri": "https://localhost:8080/"
        },
        "id": "MYEFfDQ0WKOe",
        "outputId": "6a2af1b0-8529-48e8-897b-ef6f432069f8"
      },
      "execution_count": null,
      "outputs": [
        {
          "output_type": "stream",
          "name": "stdout",
          "text": [
            "Images copied 0 to  flat_dataset_PlantVillage and labels saved to: labels.csv\n"
          ]
        }
      ]
    },
    {
      "cell_type": "code",
      "source": [],
      "metadata": {
        "id": "AERBhFwSdcy2"
      },
      "execution_count": null,
      "outputs": []
    }
  ]
}