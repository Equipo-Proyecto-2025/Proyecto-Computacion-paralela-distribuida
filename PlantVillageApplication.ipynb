{
  "cells": [
    {
      "cell_type": "markdown",
      "metadata": {
        "id": "6qmSkpnQXbLW"
      },
      "source": [
        "# Librerias y Preparacion"
      ]
    },
    {
      "cell_type": "code",
      "execution_count": null,
      "metadata": {},
      "outputs": [],
      "source": [
        "import os\n",
        "import time\n",
        "import shutil\n",
        "import pandas as pd\n",
        "from tqdm import tqdm\n",
        "import tarfile\n",
        "import random\n",
        "import os\n",
        "import pandas as pd\n",
        "import numpy as np\n",
        "from PIL import Image\n",
        "from joblib import Parallel, delayed\n",
        "from sklearn.preprocessing import LabelEncoder\n",
        "from tensorflow.keras.utils import to_categorical\n",
        "from sklearn.model_selection import train_test_split\n",
        "from tensorflow.keras.models import Sequential\n",
        "from tensorflow.keras.layers import Conv2D, MaxPooling2D, Flatten, Dense, Dropout\n",
        "import matplotlib.pyplot as plt\n"
      ]
    },
    {
      "cell_type": "markdown",
      "metadata": {
        "id": "2Pbrr6fvY-ZI"
      },
      "source": [
        "Para descargar el dataset de PlantVillage, necesitamos un token de la API de Kaggle\n",
        "Para ejecutarlo localmente:\n",
        "\n",
        "    pip install kaggle\n",
        "\n",
        "    Ve a: https://www.kaggle.com/settings\n",
        "\n",
        "    Haz clic en “Create New API Token”. Esto descargará un archivo llamado kaggle.json.\n",
        "\n",
        "Para agregar la API en un lugar seguro en sistemas MAC o Linux:\n",
        "\n",
        "mkdir -p ~/.kaggle\n",
        "mv /ruta/del/archivo/kaggle.json ~/.kaggle/\n",
        "chmod 600 ~/.kaggle/kaggle.json\n",
        "\n",
        "Para Windows:\n",
        "\n",
        "mkdir %USERPROFILE%\\.kaggle\n",
        "move \"C:\\ruta\\a\\kaggle.json\" \"%USERPROFILE%\\.kaggle\\\"\n",
        "\n",
        "\n"
      ]
    },
    {
      "cell_type": "markdown",
      "metadata": {
        "id": "XK8HgHQmcSlR"
      },
      "source": [
        "This is done in colab so if you are running it locally, ignore the #from google colab import files code line"
      ]
    },
    {
      "cell_type": "markdown",
      "metadata": {
        "id": "_1SiwDVGF4Qu"
      },
      "source": [
        "## Cargar token de kaggle descargado"
      ]
    },
    {
      "cell_type": "code",
      "execution_count": 2,
      "metadata": {
        "colab": {
          "base_uri": "https://localhost:8080/",
          "height": 90
        },
        "id": "cyVJ_YpCVQQS",
        "outputId": "6a1d7084-fc08-4b7f-b48a-f947624d0ee0"
      },
      "outputs": [
        {
          "data": {
            "text/html": [
              "\n",
              "     <input type=\"file\" id=\"files-2ae42a4b-1dc4-4aa0-a385-32c4c8620a22\" name=\"files[]\" multiple disabled\n",
              "        style=\"border:none\" />\n",
              "     <output id=\"result-2ae42a4b-1dc4-4aa0-a385-32c4c8620a22\">\n",
              "      Upload widget is only available when the cell has been executed in the\n",
              "      current browser session. Please rerun this cell to enable.\n",
              "      </output>\n",
              "      <script>// Copyright 2017 Google LLC\n",
              "//\n",
              "// Licensed under the Apache License, Version 2.0 (the \"License\");\n",
              "// you may not use this file except in compliance with the License.\n",
              "// You may obtain a copy of the License at\n",
              "//\n",
              "//      http://www.apache.org/licenses/LICENSE-2.0\n",
              "//\n",
              "// Unless required by applicable law or agreed to in writing, software\n",
              "// distributed under the License is distributed on an \"AS IS\" BASIS,\n",
              "// WITHOUT WARRANTIES OR CONDITIONS OF ANY KIND, either express or implied.\n",
              "// See the License for the specific language governing permissions and\n",
              "// limitations under the License.\n",
              "\n",
              "/**\n",
              " * @fileoverview Helpers for google.colab Python module.\n",
              " */\n",
              "(function(scope) {\n",
              "function span(text, styleAttributes = {}) {\n",
              "  const element = document.createElement('span');\n",
              "  element.textContent = text;\n",
              "  for (const key of Object.keys(styleAttributes)) {\n",
              "    element.style[key] = styleAttributes[key];\n",
              "  }\n",
              "  return element;\n",
              "}\n",
              "\n",
              "// Max number of bytes which will be uploaded at a time.\n",
              "const MAX_PAYLOAD_SIZE = 100 * 1024;\n",
              "\n",
              "function _uploadFiles(inputId, outputId) {\n",
              "  const steps = uploadFilesStep(inputId, outputId);\n",
              "  const outputElement = document.getElementById(outputId);\n",
              "  // Cache steps on the outputElement to make it available for the next call\n",
              "  // to uploadFilesContinue from Python.\n",
              "  outputElement.steps = steps;\n",
              "\n",
              "  return _uploadFilesContinue(outputId);\n",
              "}\n",
              "\n",
              "// This is roughly an async generator (not supported in the browser yet),\n",
              "// where there are multiple asynchronous steps and the Python side is going\n",
              "// to poll for completion of each step.\n",
              "// This uses a Promise to block the python side on completion of each step,\n",
              "// then passes the result of the previous step as the input to the next step.\n",
              "function _uploadFilesContinue(outputId) {\n",
              "  const outputElement = document.getElementById(outputId);\n",
              "  const steps = outputElement.steps;\n",
              "\n",
              "  const next = steps.next(outputElement.lastPromiseValue);\n",
              "  return Promise.resolve(next.value.promise).then((value) => {\n",
              "    // Cache the last promise value to make it available to the next\n",
              "    // step of the generator.\n",
              "    outputElement.lastPromiseValue = value;\n",
              "    return next.value.response;\n",
              "  });\n",
              "}\n",
              "\n",
              "/**\n",
              " * Generator function which is called between each async step of the upload\n",
              " * process.\n",
              " * @param {string} inputId Element ID of the input file picker element.\n",
              " * @param {string} outputId Element ID of the output display.\n",
              " * @return {!Iterable<!Object>} Iterable of next steps.\n",
              " */\n",
              "function* uploadFilesStep(inputId, outputId) {\n",
              "  const inputElement = document.getElementById(inputId);\n",
              "  inputElement.disabled = false;\n",
              "\n",
              "  const outputElement = document.getElementById(outputId);\n",
              "  outputElement.innerHTML = '';\n",
              "\n",
              "  const pickedPromise = new Promise((resolve) => {\n",
              "    inputElement.addEventListener('change', (e) => {\n",
              "      resolve(e.target.files);\n",
              "    });\n",
              "  });\n",
              "\n",
              "  const cancel = document.createElement('button');\n",
              "  inputElement.parentElement.appendChild(cancel);\n",
              "  cancel.textContent = 'Cancel upload';\n",
              "  const cancelPromise = new Promise((resolve) => {\n",
              "    cancel.onclick = () => {\n",
              "      resolve(null);\n",
              "    };\n",
              "  });\n",
              "\n",
              "  // Wait for the user to pick the files.\n",
              "  const files = yield {\n",
              "    promise: Promise.race([pickedPromise, cancelPromise]),\n",
              "    response: {\n",
              "      action: 'starting',\n",
              "    }\n",
              "  };\n",
              "\n",
              "  cancel.remove();\n",
              "\n",
              "  // Disable the input element since further picks are not allowed.\n",
              "  inputElement.disabled = true;\n",
              "\n",
              "  if (!files) {\n",
              "    return {\n",
              "      response: {\n",
              "        action: 'complete',\n",
              "      }\n",
              "    };\n",
              "  }\n",
              "\n",
              "  for (const file of files) {\n",
              "    const li = document.createElement('li');\n",
              "    li.append(span(file.name, {fontWeight: 'bold'}));\n",
              "    li.append(span(\n",
              "        `(${file.type || 'n/a'}) - ${file.size} bytes, ` +\n",
              "        `last modified: ${\n",
              "            file.lastModifiedDate ? file.lastModifiedDate.toLocaleDateString() :\n",
              "                                    'n/a'} - `));\n",
              "    const percent = span('0% done');\n",
              "    li.appendChild(percent);\n",
              "\n",
              "    outputElement.appendChild(li);\n",
              "\n",
              "    const fileDataPromise = new Promise((resolve) => {\n",
              "      const reader = new FileReader();\n",
              "      reader.onload = (e) => {\n",
              "        resolve(e.target.result);\n",
              "      };\n",
              "      reader.readAsArrayBuffer(file);\n",
              "    });\n",
              "    // Wait for the data to be ready.\n",
              "    let fileData = yield {\n",
              "      promise: fileDataPromise,\n",
              "      response: {\n",
              "        action: 'continue',\n",
              "      }\n",
              "    };\n",
              "\n",
              "    // Use a chunked sending to avoid message size limits. See b/62115660.\n",
              "    let position = 0;\n",
              "    do {\n",
              "      const length = Math.min(fileData.byteLength - position, MAX_PAYLOAD_SIZE);\n",
              "      const chunk = new Uint8Array(fileData, position, length);\n",
              "      position += length;\n",
              "\n",
              "      const base64 = btoa(String.fromCharCode.apply(null, chunk));\n",
              "      yield {\n",
              "        response: {\n",
              "          action: 'append',\n",
              "          file: file.name,\n",
              "          data: base64,\n",
              "        },\n",
              "      };\n",
              "\n",
              "      let percentDone = fileData.byteLength === 0 ?\n",
              "          100 :\n",
              "          Math.round((position / fileData.byteLength) * 100);\n",
              "      percent.textContent = `${percentDone}% done`;\n",
              "\n",
              "    } while (position < fileData.byteLength);\n",
              "  }\n",
              "\n",
              "  // All done.\n",
              "  yield {\n",
              "    response: {\n",
              "      action: 'complete',\n",
              "    }\n",
              "  };\n",
              "}\n",
              "\n",
              "scope.google = scope.google || {};\n",
              "scope.google.colab = scope.google.colab || {};\n",
              "scope.google.colab._files = {\n",
              "  _uploadFiles,\n",
              "  _uploadFilesContinue,\n",
              "};\n",
              "})(self);\n",
              "</script> "
            ],
            "text/plain": [
              "<IPython.core.display.HTML object>"
            ]
          },
          "metadata": {},
          "output_type": "display_data"
        },
        {
          "name": "stdout",
          "output_type": "stream",
          "text": [
            "Saving kaggle.json to kaggle.json\n"
          ]
        },
        {
          "data": {
            "text/plain": [
              "{'kaggle.json': b'{\"username\":\"axlsaalss\",\"key\":\"302aa7324809b53d3a3687a5b15b28bd\"}'}"
            ]
          },
          "execution_count": 2,
          "metadata": {},
          "output_type": "execute_result"
        }
      ],
      "source": [
        "from google.colab import files\n",
        "files.upload()"
      ]
    },
    {
      "cell_type": "code",
      "execution_count": 25,
      "metadata": {
        "id": "5-IuNcnPVa1v"
      },
      "outputs": [],
      "source": [
        "!mkdir -p ~/.kaggle\n",
        "!cp kaggle.json ~/.kaggle/kaggle.json\n",
        "!chmod 600 ~/.kaggle/kaggle.json"
      ]
    },
    {
      "cell_type": "markdown",
      "metadata": {
        "id": "uHNUDSQacdO4"
      },
      "source": [
        "This code line will download de .zip file and unzip it."
      ]
    },
    {
      "cell_type": "code",
      "execution_count": 26,
      "metadata": {
        "colab": {
          "base_uri": "https://localhost:8080/"
        },
        "id": "TIv-4Z6hV3FC",
        "outputId": "2ecadf5b-950d-4e65-b648-6a5740ebacdd"
      },
      "outputs": [
        {
          "name": "stdout",
          "output_type": "stream",
          "text": [
            "Dataset URL: https://www.kaggle.com/datasets/emmarex/plantdisease\n",
            "License(s): unknown\n",
            "plantdisease.zip: Skipping, found more recently modified local copy (use --force to force download)\n",
            "replace plantvillage/PlantVillage/Pepper__bell___Bacterial_spot/0022d6b7-d47c-4ee2-ae9a-392a53f48647___JR_B.Spot 8964.JPG? [y]es, [n]o, [A]ll, [N]one, [r]ename: "
          ]
        }
      ],
      "source": [
        "!kaggle datasets download -d emmarex/plantdisease\n",
        "!unzip -q plantdisease.zip -d plantvillage"
      ]
    },
    {
      "cell_type": "code",
      "execution_count": 27,
      "metadata": {
        "colab": {
          "base_uri": "https://localhost:8080/"
        },
        "id": "SRFknaJlV6Mx",
        "outputId": "16903641-dff0-4a7b-899f-60b58f6bc677"
      },
      "outputs": [
        {
          "name": "stdout",
          "output_type": "stream",
          "text": [
            "15 clases encontradas.\n",
            "Ejemplos: ['Tomato_Late_blight', 'Potato___Late_blight', 'Potato___Early_blight', 'Tomato_Spider_mites_Two_spotted_spider_mite', 'Tomato_Septoria_leaf_spot']\n"
          ]
        }
      ],
      "source": [
        "source_dir = \"plantvillage/PlantVillage\"\n",
        "classes = os.listdir(source_dir)\n",
        "print(f\"{len(classes)} clases encontradas.\")\n",
        "print(\"Ejemplos:\", classes[:5])"
      ]
    },
    {
      "cell_type": "markdown",
      "metadata": {
        "id": "3fBFJ8QrcmBs"
      },
      "source": [
        "The Dataset will download in different files depending on the plant/vegetable, this DF can be use to train, but for testing purposes, the next code will create a flat dataset that contains all the images."
      ]
    },
    {
      "cell_type": "markdown",
      "metadata": {
        "id": "OaQYzGUhDjOf"
      },
      "source": [
        "## Ruta del dataset plano (ya aplanado con las imágenes en una carpeta y su labels.csv)"
      ]
    },
    {
      "cell_type": "code",
      "execution_count": 36,
      "metadata": {
        "colab": {
          "base_uri": "https://localhost:8080/"
        },
        "id": "MYEFfDQ0WKOe",
        "outputId": "d5ac7267-e592-4957-b993-6bb58df2e4be"
      },
      "outputs": [
        {
          "name": "stdout",
          "output_type": "stream",
          "text": [
            "Copied 20639 images to 'flat_dataset_PlantVillage' and saved labels to 'labels.csv'\n"
          ]
        }
      ],
      "source": [
        "dest_dir = \"flat_dataset_PlantVillage\"\n",
        "os.makedirs(dest_dir, exist_ok=True)\n",
        "\n",
        "records = []\n",
        "counter = 0\n",
        "\n",
        "for class_name in os.listdir(source_dir):\n",
        "    class_path = os.path.join(source_dir, class_name)\n",
        "\n",
        "    if not os.path.isdir(class_path):\n",
        "        continue\n",
        "\n",
        "    for img_file in os.listdir(class_path):\n",
        "        src = os.path.join(class_path, img_file)\n",
        "\n",
        "        if os.path.isdir(src):\n",
        "            continue\n",
        "\n",
        "        new_filename = f\"image_{counter:05d}.jpg\"\n",
        "        dst = os.path.join(dest_dir, new_filename)\n",
        "\n",
        "        shutil.copy2(src, dst)\n",
        "        records.append([new_filename, class_name])\n",
        "        counter += 1\n",
        "\n",
        "df = pd.DataFrame(records, columns=[\"filename\", \"label\"])\n",
        "df.to_csv(os.path.join(dest_dir, \"labels.csv\"), index=False)\n",
        "\n",
        "print(f\"Copied {counter} images to '{dest_dir}' and saved labels to 'labels.csv'\")\n",
        "\n"
      ]
    },
    {
      "cell_type": "code",
      "execution_count": 37,
      "metadata": {
        "colab": {
          "base_uri": "https://localhost:8080/"
        },
        "id": "G4MBQY-PYEqD",
        "outputId": "e0f01b58-6e8d-451b-feec-eae3045d0df7"
      },
      "outputs": [
        {
          "name": "stdout",
          "output_type": "stream",
          "text": [
            "Clases en PlantVillage: 15\n",
            "Imágenes en PlantVillage: 20639\n",
            "Clases en PlantVillage: ['Pepper__bell___Bacterial_spot', 'Pepper__bell___healthy', 'Potato___Early_blight', 'Potato___Late_blight', 'Potato___healthy']\n"
          ]
        }
      ],
      "source": [
        "# Rutas completas\n",
        "folder1 = \"plantvillage/PlantVillage\"\n",
        "#folder2 = \"plantvillage/plantvillage/PlantVillage\"\n",
        "\n",
        "print(\"Clases en PlantVillage:\", len(os.listdir(folder1)))\n",
        "#print(\"Clases en plantvillage:\", len(os.listdir(folder2)))\n",
        "\n",
        "def contar_imagenes(folder):\n",
        "    total = 0\n",
        "    for clase in os.listdir(folder):\n",
        "        clase_path = os.path.join(folder, clase)\n",
        "        if os.path.isdir(clase_path):\n",
        "            total += len(os.listdir(clase_path))\n",
        "    return total\n",
        "\n",
        "print(\"Imágenes en PlantVillage:\", contar_imagenes(folder1))\n",
        "#print(\"Imágenes en plantvillage:\", contar_imagenes(folder2))\n",
        "print(\"Clases en PlantVillage:\", sorted(os.listdir(folder1))[:5])\n",
        "#print(\"Clases en plantvillage:\", sorted(os.listdir(folder2))[:5])\n"
      ]
    },
    {
      "cell_type": "code",
      "execution_count": 38,
      "metadata": {
        "id": "6vUlb9pNYU0Y"
      },
      "outputs": [],
      "source": [
        "!rm -rf plantvillage/plantvillage\n",
        "\n"
      ]
    },
    {
      "cell_type": "markdown",
      "metadata": {
        "id": "FhQT1m3LFA6k"
      },
      "source": [
        "## 1, 2. CONFIG Y NORMALIZACION"
      ]
    },
    {
      "cell_type": "code",
      "execution_count": 31,
      "metadata": {
        "colab": {
          "base_uri": "https://localhost:8080/"
        },
        "id": "AERBhFwSdcy2",
        "outputId": "6b6a3dec-378b-4f94-e4e0-61eacedffe9f"
      },
      "outputs": [
        {
          "name": "stdout",
          "output_type": "stream",
          "text": [
            "Total imágenes: 20639\n",
            "          filename               label\n",
            "0  image_00000.jpg  Tomato_Late_blight\n",
            "1  image_00001.jpg  Tomato_Late_blight\n",
            "2  image_00002.jpg  Tomato_Late_blight\n",
            "3  image_00003.jpg  Tomato_Late_blight\n",
            "4  image_00004.jpg  Tomato_Late_blight\n"
          ]
        }
      ],
      "source": [
        "# === CONFIGURACIÓN ===\n",
        "dataset_dir = \"flat_dataset_PlantVillage\"\n",
        "labels_path = os.path.join(dataset_dir, \"labels.csv\")\n",
        "image_size = (128, 128)  # Tamaño al que redimensionaremos todas las imágenes\n",
        "\n",
        "\n",
        "# Cargamos el archivo labels.csv, que contiene la columna 'filename' y 'label'\n",
        "df = pd.read_csv(labels_path)\n",
        "print(\"Total imágenes:\", len(df))\n",
        "print(df.head())\n",
        "\n",
        "# Esta función abre una imagen individual, la convierte a RGB, la redimensiona al tamaño estándar\n",
        "# y la normaliza dividiendo por 255.0 para que los valores estén entre 0 y 1.\n",
        "def load_and_preprocess_image(filename):\n",
        "    try:\n",
        "        path = os.path.join(dataset_dir, filename)\n",
        "        img = Image.open(path).convert(\"RGB\")\n",
        "        img = img.resize(image_size)\n",
        "        arr = np.array(img) / 255.0  # Normalizamos los valores de píxel\n",
        "        return arr\n",
        "    except Exception as e:\n",
        "        print(f\"Error con {filename}: {e}\")\n",
        "        return None\n",
        "\n",
        "\n"
      ]
    },
    {
      "cell_type": "markdown",
      "metadata": {
        "id": "8N8-oBbF4Slp"
      },
      "source": [
        "# Comparacion Paralelismo/Secuencial"
      ]
    },
    {
      "cell_type": "markdown",
      "metadata": {
        "id": "uHltrRiY7Lgq"
      },
      "source": [
        "## Paralela"
      ]
    },
    {
      "cell_type": "markdown",
      "metadata": {
        "id": "fUnIrDf4E0Qs"
      },
      "source": [
        "### 3. CARGAR TODAS LAS IMÁGENES CON JOBLIB"
      ]
    },
    {
      "cell_type": "code",
      "execution_count": 33,
      "metadata": {
        "colab": {
          "base_uri": "https://localhost:8080/"
        },
        "id": "QuL2a2pZEyyj",
        "outputId": "5d34b57a-1a1f-4822-91a5-45ba0809210d"
      },
      "outputs": [
        {
          "name": "stdout",
          "output_type": "stream",
          "text": [
            "Tiempo con Joblib: 17.91 segundos\n"
          ]
        }
      ],
      "source": [
        "start = time.time()\n",
        "\n",
        "images_parallel = Parallel(n_jobs=-1)(\n",
        "    delayed(load_and_preprocess_image)(fname) for fname in df[\"filename\"]\n",
        ")\n",
        "\n",
        "print(f\"Tiempo con Joblib: {time.time() - start:.2f} segundos\")"
      ]
    },
    {
      "cell_type": "markdown",
      "metadata": {
        "id": "RXL4cDCFEFmB"
      },
      "source": [
        "Aquí usamos Joblib para cargar las imágenes en paralelo, utilizando múltiples núcleos del CPU.\n",
        "'Parallel(n_jobs=-1)' le dice a Joblib que use todos los núcleos disponibles.\n",
        "'delayed(...)' permite que la función se ejecute de forma diferida y distribuida.\n",
        "\n",
        "¿Qué hace Joblib aquí?\n",
        "\n",
        "    Acelera el proceso de carga y preprocesamiento de imágenes.\n",
        "\n",
        "    En lugar de cargar las 20,000 imágenes secuencialmente (una por una), las distribuye entre varios núcleos.\n",
        "\n",
        "    Esto reduce drásticamente el tiempo de espera cuando trabajas con datasets grandes."
      ]
    },
    {
      "cell_type": "markdown",
      "metadata": {
        "id": "R_48lnYZEVor"
      },
      "source": [
        "### 4. ELIMINAR ERRORES"
      ]
    },
    {
      "cell_type": "markdown",
      "metadata": {
        "id": "-W2JPRqBEYyd"
      },
      "source": [
        "Eliminamos imágenes que no pudieron ser cargadas (por errores o archivos dañados).\n",
        "Asociamos correctamente cada imagen con su etiqueta correspondiente."
      ]
    },
    {
      "cell_type": "code",
      "execution_count": 35,
      "metadata": {
        "colab": {
          "base_uri": "https://localhost:8080/"
        },
        "id": "XCAsdmkhAZXv",
        "outputId": "ee4e30be-91b0-46c9-c71a-28c7e5197720"
      },
      "outputs": [
        {
          "name": "stdout",
          "output_type": "stream",
          "text": [
            "Shape de X: (20638, 128, 128, 3)\n",
            "Shape de y: (20638, 15)\n",
            "Clases: ['Pepper__bell___Bacterial_spot' 'Pepper__bell___healthy'\n",
            " 'Potato___Early_blight' 'Potato___Late_blight' 'Potato___healthy'\n",
            " 'Tomato_Bacterial_spot' 'Tomato_Early_blight' 'Tomato_Late_blight'\n",
            " 'Tomato_Leaf_Mold' 'Tomato_Septoria_leaf_spot'\n",
            " 'Tomato_Spider_mites_Two_spotted_spider_mite' 'Tomato__Target_Spot'\n",
            " 'Tomato__Tomato_YellowLeaf__Curl_Virus' 'Tomato__Tomato_mosaic_virus'\n",
            " 'Tomato_healthy']\n"
          ]
        }
      ],
      "source": [
        "valid_data = [(img, label) for img, label in zip(images_parallel, df[\"label\"]) if img is not None]\n",
        "X, y = zip(*valid_data) # Separamos los datos en X (imágenes) e y (etiquetas)\n",
        "X = np.stack(X)\n",
        "print(\"Shape de X:\", X.shape)  # Convertimos la lista de arrays en un solo array multidimensional\n",
        "\n",
        "# === 5. CONVERTIR ETIQUETAS A NÚMEROS Y CATEGORÍAS ===\n",
        "label_encoder = LabelEncoder()\n",
        "y_encoded = label_encoder.fit_transform(y)\n",
        "y_categorical = to_categorical(y_encoded)\n",
        "print(\"Shape de y:\", y_categorical.shape)\n",
        "print(\"Clases:\", label_encoder.classes_)"
      ]
    },
    {
      "cell_type": "markdown",
      "metadata": {
        "id": "FASE_DOs7WWI"
      },
      "source": [
        "## Secuencial (SOPHIA)"
      ]
    },
    {
      "cell_type": "code",
      "execution_count": 39,
      "metadata": {
        "colab": {
          "base_uri": "https://localhost:8080/"
        },
        "id": "oPs3dJj-JAJY",
        "outputId": "6ad807a5-39e2-4d00-c6da-c2205f336a25"
      },
      "outputs": [
        {
          "name": "stdout",
          "output_type": "stream",
          "text": [
            "Error con image_18720.jpg: cannot identify image file 'flat_dataset_PlantVillage/image_18720.jpg'\n",
            "Tiempo secuencial: 34.25 segundos\n"
          ]
        }
      ],
      "source": [
        "# Cargar las imágenes de manera secuencial\n",
        "start = time.time()\n",
        "\n",
        "images_sequential = []\n",
        "for fname in df[\"filename\"]:\n",
        "    img = load_and_preprocess_image(fname)\n",
        "    images_sequential.append(img)\n",
        "\n",
        "print(f\"Tiempo secuencial: {time.time() - start:.2f} segundos\")"
      ]
    },
    {
      "cell_type": "code",
      "execution_count": 41,
      "metadata": {
        "colab": {
          "base_uri": "https://localhost:8080/"
        },
        "id": "E2wkHlJz13tv",
        "outputId": "1b5ae3fc-e13b-4edb-b9fd-0960553d8ef9"
      },
      "outputs": [
        {
          "name": "stdout",
          "output_type": "stream",
          "text": [
            "Shape secuencial de X: (20638, 128, 128, 3)\n",
            "Shape secuencial de y: (20638, 15)\n",
            "Clases: ['Pepper__bell___Bacterial_spot' 'Pepper__bell___healthy'\n",
            " 'Potato___Early_blight' 'Potato___Late_blight' 'Potato___healthy'\n",
            " 'Tomato_Bacterial_spot' 'Tomato_Early_blight' 'Tomato_Late_blight'\n",
            " 'Tomato_Leaf_Mold' 'Tomato_Septoria_leaf_spot'\n",
            " 'Tomato_Spider_mites_Two_spotted_spider_mite' 'Tomato__Target_Spot'\n",
            " 'Tomato__Tomato_YellowLeaf__Curl_Virus' 'Tomato__Tomato_mosaic_virus'\n",
            " 'Tomato_healthy']\n"
          ]
        }
      ],
      "source": [
        "# Limpieza de datos no válidos\n",
        "\n",
        "label_encoder = LabelEncoder()\n",
        "label_encoder.fit(df[\"label\"])\n",
        "\n",
        "valid_data_seq = [(img, label) for img, label in zip(images_sequential, df[\"label\"]) if img is not None]\n",
        "\n",
        "# Separar en X e y\n",
        "X_seq, y_seq = zip(*valid_data_seq)\n",
        "X_seq = np.stack(X_seq)\n",
        "\n",
        "print(\"Shape secuencial de X:\", X_seq.shape)\n",
        "\n",
        "# Convertir etiquetas\n",
        "y_seq_encoded = label_encoder.transform(y_seq)\n",
        "y_seq_categorical = to_categorical(y_seq_encoded)\n",
        "\n",
        "# Verificación\n",
        "print(\"Shape secuencial de y:\", y_seq_categorical.shape)\n",
        "\n",
        "print(\"Clases:\", label_encoder.classes_)"
      ]
    },
    {
      "cell_type": "markdown",
      "metadata": {
        "id": "IFhoRsew_9Eo"
      },
      "source": [
        "# 5. CCN MODEL\n"
      ]
    },
    {
      "cell_type": "markdown",
      "metadata": {
        "id": "Z4gHuZ1tGail"
      },
      "source": [
        "Dividimos los datos en 80% entrenamiento y 20% prueba.\n",
        "'stratify=y_categorical' asegura que las clases estén balanceadas en ambos grupos."
      ]
    },
    {
      "cell_type": "code",
      "execution_count": null,
      "metadata": {
        "colab": {
          "base_uri": "https://localhost:8080/"
        },
        "id": "GZcxIgR4_7Na",
        "outputId": "d8dc73cb-f729-4e60-e95f-bcaafc6e6c2e"
      },
      "outputs": [
        {
          "name": "stdout",
          "output_type": "stream",
          "text": [
            "Train: (16510, 128, 128, 3) Test: (4128, 128, 128, 3)\n"
          ]
        }
      ],
      "source": [
        "X_train, X_test, y_train, y_test = train_test_split(\n",
        "    X, y_categorical, test_size=0.2, stratify=y_categorical, random_state=42\n",
        ")\n",
        "\n",
        "print(\"Train:\", X_train.shape, \"Test:\", X_test.shape)"
      ]
    },
    {
      "cell_type": "markdown",
      "metadata": {
        "id": "5aDUlHy3Gek8"
      },
      "source": [
        "Creamos un modelo secuencial de Keras (estructura básica de una CNN)"
      ]
    },
    {
      "cell_type": "code",
      "execution_count": null,
      "metadata": {
        "colab": {
          "base_uri": "https://localhost:8080/"
        },
        "id": "JBcXaL7mACQ0",
        "outputId": "a341ebd8-adee-469b-bc6b-9e45a05501f4"
      },
      "outputs": [
        {
          "name": "stderr",
          "output_type": "stream",
          "text": [
            "/usr/local/lib/python3.11/dist-packages/keras/src/layers/convolutional/base_conv.py:107: UserWarning: Do not pass an `input_shape`/`input_dim` argument to a layer. When using Sequential models, prefer using an `Input(shape)` object as the first layer in the model instead.\n",
            "  super().__init__(activity_regularizer=activity_regularizer, **kwargs)\n"
          ]
        }
      ],
      "source": [
        "model = Sequential([\n",
        "    Conv2D(32, (3,3), activation='relu', input_shape=(128, 128, 3)),\n",
        "    MaxPooling2D(2,2),\n",
        "\n",
        "    Conv2D(64, (3,3), activation='relu'),\n",
        "    MaxPooling2D(2,2),\n",
        "\n",
        "    Flatten(),\n",
        "    Dropout(0.5),\n",
        "    Dense(128, activation='relu'),\n",
        "    Dense(y_categorical.shape[1], activation='softmax')  # salida según número de clases\n",
        "])\n"
      ]
    },
    {
      "cell_type": "markdown",
      "metadata": {
        "id": "YjUMzD67GjcD"
      },
      "source": [
        " Compilamos el modelo con:\n",
        " - optimizador Adam\n",
        " - función de pérdida para clasificación multiclase: categorical_crossentropy\n",
        " - métrica de evaluación: precisión (accuracy)"
      ]
    },
    {
      "cell_type": "code",
      "execution_count": null,
      "metadata": {
        "id": "8zblx_CkAELK"
      },
      "outputs": [],
      "source": [
        "model.compile(\n",
        "    optimizer='adam',\n",
        "    loss='categorical_crossentropy',\n",
        "    metrics=['accuracy']\n",
        ")\n"
      ]
    },
    {
      "cell_type": "markdown",
      "metadata": {
        "id": "EF0eX0E5GstD"
      },
      "source": [
        "Entrenamos el modelo usando los datos de entrenamiento.\n",
        "'validation_split=0.1' toma el 10% de los datos de entrenamiento para validación interna."
      ]
    },
    {
      "cell_type": "code",
      "execution_count": null,
      "metadata": {
        "colab": {
          "base_uri": "https://localhost:8080/"
        },
        "id": "4ZFOHYFcAFBk",
        "outputId": "f5127f55-73c4-42fa-d49b-4c6092e44a34"
      },
      "outputs": [
        {
          "name": "stdout",
          "output_type": "stream",
          "text": [
            "Epoch 1/10\n",
            "\u001b[1m465/465\u001b[0m \u001b[32m━━━━━━━━━━━━━━━━━━━━\u001b[0m\u001b[37m\u001b[0m \u001b[1m13s\u001b[0m 15ms/step - accuracy: 0.4174 - loss: 1.8936 - val_accuracy: 0.7492 - val_loss: 0.7586\n",
            "Epoch 2/10\n",
            "\u001b[1m465/465\u001b[0m \u001b[32m━━━━━━━━━━━━━━━━━━━━\u001b[0m\u001b[37m\u001b[0m \u001b[1m3s\u001b[0m 6ms/step - accuracy: 0.7968 - loss: 0.6247 - val_accuracy: 0.8177 - val_loss: 0.5589\n",
            "Epoch 3/10\n",
            "\u001b[1m465/465\u001b[0m \u001b[32m━━━━━━━━━━━━━━━━━━━━\u001b[0m\u001b[37m\u001b[0m \u001b[1m3s\u001b[0m 6ms/step - accuracy: 0.8761 - loss: 0.3700 - val_accuracy: 0.8661 - val_loss: 0.3949\n",
            "Epoch 4/10\n",
            "\u001b[1m465/465\u001b[0m \u001b[32m━━━━━━━━━━━━━━━━━━━━\u001b[0m\u001b[37m\u001b[0m \u001b[1m3s\u001b[0m 6ms/step - accuracy: 0.9073 - loss: 0.2799 - val_accuracy: 0.8546 - val_loss: 0.4380\n",
            "Epoch 5/10\n",
            "\u001b[1m465/465\u001b[0m \u001b[32m━━━━━━━━━━━━━━━━━━━━\u001b[0m\u001b[37m\u001b[0m \u001b[1m3s\u001b[0m 6ms/step - accuracy: 0.9480 - loss: 0.1564 - val_accuracy: 0.8680 - val_loss: 0.4248\n",
            "Epoch 6/10\n",
            "\u001b[1m465/465\u001b[0m \u001b[32m━━━━━━━━━━━━━━━━━━━━\u001b[0m\u001b[37m\u001b[0m \u001b[1m3s\u001b[0m 6ms/step - accuracy: 0.9614 - loss: 0.1138 - val_accuracy: 0.8546 - val_loss: 0.4825\n",
            "Epoch 7/10\n",
            "\u001b[1m465/465\u001b[0m \u001b[32m━━━━━━━━━━━━━━━━━━━━\u001b[0m\u001b[37m\u001b[0m \u001b[1m3s\u001b[0m 6ms/step - accuracy: 0.9702 - loss: 0.0882 - val_accuracy: 0.8764 - val_loss: 0.4213\n",
            "Epoch 8/10\n",
            "\u001b[1m465/465\u001b[0m \u001b[32m━━━━━━━━━━━━━━━━━━━━\u001b[0m\u001b[37m\u001b[0m \u001b[1m3s\u001b[0m 6ms/step - accuracy: 0.9704 - loss: 0.0869 - val_accuracy: 0.8655 - val_loss: 0.4867\n",
            "Epoch 9/10\n",
            "\u001b[1m465/465\u001b[0m \u001b[32m━━━━━━━━━━━━━━━━━━━━\u001b[0m\u001b[37m\u001b[0m \u001b[1m3s\u001b[0m 6ms/step - accuracy: 0.9791 - loss: 0.0607 - val_accuracy: 0.8746 - val_loss: 0.4968\n",
            "Epoch 10/10\n",
            "\u001b[1m465/465\u001b[0m \u001b[32m━━━━━━━━━━━━━━━━━━━━\u001b[0m\u001b[37m\u001b[0m \u001b[1m3s\u001b[0m 6ms/step - accuracy: 0.9760 - loss: 0.0694 - val_accuracy: 0.8649 - val_loss: 0.5616\n"
          ]
        }
      ],
      "source": [
        "history = model.fit(\n",
        "    X_train, y_train,\n",
        "    epochs=10,\n",
        "    batch_size=32,\n",
        "    validation_split=0.1\n",
        ")\n"
      ]
    },
    {
      "cell_type": "markdown",
      "metadata": {
        "id": "zJkYX1JUG0Gt"
      },
      "source": [
        "Evaluamos la precisión final del modelo usando el 20% de datos reservados para prueba."
      ]
    },
    {
      "cell_type": "code",
      "execution_count": null,
      "metadata": {
        "colab": {
          "base_uri": "https://localhost:8080/"
        },
        "id": "z8w2SXXjAGM8",
        "outputId": "90969c56-3fc7-4501-846f-c999c855c774"
      },
      "outputs": [
        {
          "name": "stdout",
          "output_type": "stream",
          "text": [
            "\u001b[1m129/129\u001b[0m \u001b[32m━━━━━━━━━━━━━━━━━━━━\u001b[0m\u001b[37m\u001b[0m \u001b[1m0s\u001b[0m 4ms/step - accuracy: 0.8819 - loss: 0.5393\n",
            "Test Accuracy: 0.8876\n"
          ]
        }
      ],
      "source": [
        "loss, acc = model.evaluate(X_test, y_test)\n",
        "print(f\"Test Accuracy: {acc:.4f}\")\n",
        "\n",
        "\n"
      ]
    },
    {
      "cell_type": "markdown",
      "metadata": {
        "id": "H9SLhDsPG3P5"
      },
      "source": [
        "**Visualizar el entrenamiento**"
      ]
    },
    {
      "cell_type": "code",
      "execution_count": null,
      "metadata": {
        "colab": {
          "base_uri": "https://localhost:8080/",
          "height": 472
        },
        "id": "Y0l1aDRfAIVH",
        "outputId": "287c1465-8b59-4d8b-adf3-3d02a8f9a9c1"
      },
      "outputs": [
        {
          "data": {
            "image/png": "[encoded data removed]",
            "text/plain": [
              "<Figure size 640x480 with 1 Axes>"
            ]
          },
          "metadata": {},
          "output_type": "display_data"
        }
      ],
      "source": [
        "\n",
        "plt.plot(history.history['accuracy'], label='train_acc')\n",
        "plt.plot(history.history['val_accuracy'], label='val_acc')\n",
        "plt.xlabel(\"Epoch\")\n",
        "plt.ylabel(\"Accuracy\")\n",
        "plt.legend()\n",
        "plt.title(\"Entrenamiento de la CNN\")\n",
        "plt.show()\n"
      ]
    },
    {
      "cell_type": "markdown",
      "metadata": {
        "id": "0l8BMxZqDQQX"
      },
      "source": [
        "### El gráfico muestra que la precisión del modelo en el conjunto de entrenamiento aumenta rápidamente desde aproximadamente 58% hasta casi 99% en solo 10 épocas, lo que indica que la CNN aprende muy bien los datos que ha visto. Sin embargo, la precisión en el conjunto de validación se estabiliza entre 86% y 88% a partir de la tercera época, sin mejorar significativamente. Esta diferencia sugiere que el modelo está sobreajustando ligeramente: memoriza los datos de entrenamiento pero no generaliza con la misma efectividad a datos nuevos. A pesar de ello, alcanzar cerca del 87% de precisión en validación es un muy buen resultado inicial para este tipo de modelo.\n",
        "\n"
      ]
    },
    {
      "cell_type": "markdown",
      "metadata": {
        "id": "n6QZNbHMG6it"
      },
      "source": [
        "## **Guardar modelo**"
      ]
    },
    {
      "cell_type": "code",
      "execution_count": null,
      "metadata": {
        "colab": {
          "base_uri": "https://localhost:8080/"
        },
        "id": "ahxPyHkBCiaC",
        "outputId": "ac91f3ed-c4ae-48de-cb66-80017b9711bd"
      },
      "outputs": [
        {
          "name": "stderr",
          "output_type": "stream",
          "text": [
            "WARNING:absl:You are saving your model as an HDF5 file via `model.save()` or `keras.saving.save_model(model)`. This file format is considered legacy. We recommend using instead the native Keras format, e.g. `model.save('my_model.keras')` or `keras.saving.save_model(model, 'my_model.keras')`. \n"
          ]
        }
      ],
      "source": [
        "\n",
        "model.save(\"plantvillage_cnn_parl.h5\")"
      ]
    },
    {
      "cell_type": "markdown",
      "metadata": {
        "id": "EjLuiU0gIFbw"
      },
      "source": [
        "## **Uso de Joblib en este Dataset y model:**\n",
        "\n",
        "**Tiempo con Joblib y Paralelismo: 17.91 segundos**\n",
        "\n",
        "**Tiempo sin Joblib y Secuencial: 34.25 segundos**\n",
        "\n",
        "## ¿Qué hizo Joblib?\n",
        "\n",
        "    Distribuyó la función load_and_preprocess_image() (abrir, redimensionar y normalizar cada imagen) en varios núcleos del CPU al mismo tiempo.\n",
        "\n",
        "    Gracias a n_jobs=-1, usó todos los núcleos disponibles, logrando una ejecución mucho más rápida comparada con un bucle for tradicional.\n",
        "\n",
        "\n",
        "## ¿Para qué Paralelismo?\n",
        "\n",
        "    Para cargar más de 20,000 imágenes de forma eficiente.\n",
        "\n",
        "    Evitar cuellos de botella por lectura secuencial.\n",
        "\n",
        "    Mejorar el rendimiento del preprocesamiento, que es una etapa costosa en visión por computadora."
      ]
    }
  ],
  "metadata": {
    "accelerator": "GPU",
    "colab": {
      "collapsed_sections": [
        "6qmSkpnQXbLW"
      ],
      "gpuType": "A100",
      "provenance": []
    },
    "kernelspec": {
      "display_name": "venv",
      "language": "python",
      "name": "python3"
    },
    "language_info": {
      "codemirror_mode": {
        "name": "ipython",
        "version": 3
      },
      "file_extension": ".py",
      "mimetype": "text/x-python",
      "name": "python",
      "nbconvert_exporter": "python",
      "pygments_lexer": "ipython3",
      "version": "3.13.5"
    }
  },
  "nbformat": 4,
  "nbformat_minor": 0
}
