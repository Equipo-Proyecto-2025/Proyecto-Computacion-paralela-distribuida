{
  "cells": [
    {
      "cell_type": "markdown",
      "metadata": {
        "id": "6qmSkpnQXbLW"
      },
      "source": [
        "Libraries ans installations\n"
      ]
    },
    {
      "cell_type": "code",
      "execution_count": 3,
      "metadata": {
        "colab": {
          "base_uri": "https://localhost:8080/"
        },
        "id": "yFdAJRlVPf9D",
        "outputId": "e328da84-3cb3-4c38-a851-13b4dc3d4b3f"
      },
      "outputs": [
        {
          "name": "stderr",
          "output_type": "stream",
          "text": [
            "\"apt-get\" no se reconoce como un comando interno o externo,\n",
            "programa o archivo por lotes ejecutable.\n"
          ]
        },
        {
          "name": "stdout",
          "output_type": "stream",
          "text": [
            "Requirement already satisfied: fsspec in c:\\users\\pokav\\documents\\computacion_paralela\\tabajo_final\\proyecto-computacion-paralela-distribuida\\venv\\lib\\site-packages (2025.5.1)\n",
            "Requirement already satisfied: s3fs in c:\\users\\pokav\\documents\\computacion_paralela\\tabajo_final\\proyecto-computacion-paralela-distribuida\\venv\\lib\\site-packages (2025.5.1)\n",
            "Requirement already satisfied: gcsfs in c:\\users\\pokav\\documents\\computacion_paralela\\tabajo_final\\proyecto-computacion-paralela-distribuida\\venv\\lib\\site-packages (2025.5.1)\n",
            "Requirement already satisfied: aiobotocore<3.0.0,>=2.5.4 in c:\\users\\pokav\\documents\\computacion_paralela\\tabajo_final\\proyecto-computacion-paralela-distribuida\\venv\\lib\\site-packages (from s3fs) (2.23.0)\n",
            "Requirement already satisfied: aiohttp!=4.0.0a0,!=4.0.0a1 in c:\\users\\pokav\\documents\\computacion_paralela\\tabajo_final\\proyecto-computacion-paralela-distribuida\\venv\\lib\\site-packages (from s3fs) (3.12.13)\n",
            "Requirement already satisfied: decorator>4.1.2 in c:\\users\\pokav\\documents\\computacion_paralela\\tabajo_final\\proyecto-computacion-paralela-distribuida\\venv\\lib\\site-packages (from gcsfs) (5.2.1)\n",
            "Requirement already satisfied: google-auth>=1.2 in c:\\users\\pokav\\documents\\computacion_paralela\\tabajo_final\\proyecto-computacion-paralela-distribuida\\venv\\lib\\site-packages (from gcsfs) (2.40.3)\n",
            "Requirement already satisfied: google-auth-oauthlib in c:\\users\\pokav\\documents\\computacion_paralela\\tabajo_final\\proyecto-computacion-paralela-distribuida\\venv\\lib\\site-packages (from gcsfs) (1.2.2)\n",
            "Requirement already satisfied: google-cloud-storage in c:\\users\\pokav\\documents\\computacion_paralela\\tabajo_final\\proyecto-computacion-paralela-distribuida\\venv\\lib\\site-packages (from gcsfs) (3.1.1)\n",
            "Requirement already satisfied: requests in c:\\users\\pokav\\documents\\computacion_paralela\\tabajo_final\\proyecto-computacion-paralela-distribuida\\venv\\lib\\site-packages (from gcsfs) (2.32.4)\n",
            "Requirement already satisfied: aioitertools<1.0.0,>=0.5.1 in c:\\users\\pokav\\documents\\computacion_paralela\\tabajo_final\\proyecto-computacion-paralela-distribuida\\venv\\lib\\site-packages (from aiobotocore<3.0.0,>=2.5.4->s3fs) (0.12.0)\n",
            "Requirement already satisfied: botocore<1.38.28,>=1.38.23 in c:\\users\\pokav\\documents\\computacion_paralela\\tabajo_final\\proyecto-computacion-paralela-distribuida\\venv\\lib\\site-packages (from aiobotocore<3.0.0,>=2.5.4->s3fs) (1.38.27)\n",
            "Requirement already satisfied: python-dateutil<3.0.0,>=2.1 in c:\\users\\pokav\\documents\\computacion_paralela\\tabajo_final\\proyecto-computacion-paralela-distribuida\\venv\\lib\\site-packages (from aiobotocore<3.0.0,>=2.5.4->s3fs) (2.9.0.post0)\n",
            "Requirement already satisfied: jmespath<2.0.0,>=0.7.1 in c:\\users\\pokav\\documents\\computacion_paralela\\tabajo_final\\proyecto-computacion-paralela-distribuida\\venv\\lib\\site-packages (from aiobotocore<3.0.0,>=2.5.4->s3fs) (1.0.1)\n",
            "Requirement already satisfied: multidict<7.0.0,>=6.0.0 in c:\\users\\pokav\\documents\\computacion_paralela\\tabajo_final\\proyecto-computacion-paralela-distribuida\\venv\\lib\\site-packages (from aiobotocore<3.0.0,>=2.5.4->s3fs) (6.6.2)\n",
            "Requirement already satisfied: wrapt<2.0.0,>=1.10.10 in c:\\users\\pokav\\documents\\computacion_paralela\\tabajo_final\\proyecto-computacion-paralela-distribuida\\venv\\lib\\site-packages (from aiobotocore<3.0.0,>=2.5.4->s3fs) (1.17.2)\n",
            "Requirement already satisfied: aiohappyeyeballs>=2.5.0 in c:\\users\\pokav\\documents\\computacion_paralela\\tabajo_final\\proyecto-computacion-paralela-distribuida\\venv\\lib\\site-packages (from aiohttp!=4.0.0a0,!=4.0.0a1->s3fs) (2.6.1)\n",
            "Requirement already satisfied: aiosignal>=1.1.2 in c:\\users\\pokav\\documents\\computacion_paralela\\tabajo_final\\proyecto-computacion-paralela-distribuida\\venv\\lib\\site-packages (from aiohttp!=4.0.0a0,!=4.0.0a1->s3fs) (1.3.2)\n",
            "Requirement already satisfied: attrs>=17.3.0 in c:\\users\\pokav\\documents\\computacion_paralela\\tabajo_final\\proyecto-computacion-paralela-distribuida\\venv\\lib\\site-packages (from aiohttp!=4.0.0a0,!=4.0.0a1->s3fs) (25.3.0)\n",
            "Requirement already satisfied: frozenlist>=1.1.1 in c:\\users\\pokav\\documents\\computacion_paralela\\tabajo_final\\proyecto-computacion-paralela-distribuida\\venv\\lib\\site-packages (from aiohttp!=4.0.0a0,!=4.0.0a1->s3fs) (1.7.0)\n",
            "Requirement already satisfied: propcache>=0.2.0 in c:\\users\\pokav\\documents\\computacion_paralela\\tabajo_final\\proyecto-computacion-paralela-distribuida\\venv\\lib\\site-packages (from aiohttp!=4.0.0a0,!=4.0.0a1->s3fs) (0.3.2)\n",
            "Requirement already satisfied: yarl<2.0,>=1.17.0 in c:\\users\\pokav\\documents\\computacion_paralela\\tabajo_final\\proyecto-computacion-paralela-distribuida\\venv\\lib\\site-packages (from aiohttp!=4.0.0a0,!=4.0.0a1->s3fs) (1.20.1)\n",
            "Requirement already satisfied: cachetools<6.0,>=2.0.0 in c:\\users\\pokav\\documents\\computacion_paralela\\tabajo_final\\proyecto-computacion-paralela-distribuida\\venv\\lib\\site-packages (from google-auth>=1.2->gcsfs) (5.5.2)\n",
            "Requirement already satisfied: pyasn1-modules>=0.2.1 in c:\\users\\pokav\\documents\\computacion_paralela\\tabajo_final\\proyecto-computacion-paralela-distribuida\\venv\\lib\\site-packages (from google-auth>=1.2->gcsfs) (0.4.2)\n",
            "Requirement already satisfied: rsa<5,>=3.1.4 in c:\\users\\pokav\\documents\\computacion_paralela\\tabajo_final\\proyecto-computacion-paralela-distribuida\\venv\\lib\\site-packages (from google-auth>=1.2->gcsfs) (4.9.1)\n",
            "Requirement already satisfied: requests-oauthlib>=0.7.0 in c:\\users\\pokav\\documents\\computacion_paralela\\tabajo_final\\proyecto-computacion-paralela-distribuida\\venv\\lib\\site-packages (from google-auth-oauthlib->gcsfs) (2.0.0)\n",
            "Requirement already satisfied: google-api-core<3.0.0,>=2.15.0 in c:\\users\\pokav\\documents\\computacion_paralela\\tabajo_final\\proyecto-computacion-paralela-distribuida\\venv\\lib\\site-packages (from google-cloud-storage->gcsfs) (2.25.1)\n",
            "Requirement already satisfied: google-cloud-core<3.0.0,>=2.4.2 in c:\\users\\pokav\\documents\\computacion_paralela\\tabajo_final\\proyecto-computacion-paralela-distribuida\\venv\\lib\\site-packages (from google-cloud-storage->gcsfs) (2.4.3)\n",
            "Requirement already satisfied: google-resumable-media<3.0.0,>=2.7.2 in c:\\users\\pokav\\documents\\computacion_paralela\\tabajo_final\\proyecto-computacion-paralela-distribuida\\venv\\lib\\site-packages (from google-cloud-storage->gcsfs) (2.7.2)\n",
            "Requirement already satisfied: google-crc32c<2.0.0,>=1.1.3 in c:\\users\\pokav\\documents\\computacion_paralela\\tabajo_final\\proyecto-computacion-paralela-distribuida\\venv\\lib\\site-packages (from google-cloud-storage->gcsfs) (1.7.1)\n",
            "Requirement already satisfied: charset_normalizer<4,>=2 in c:\\users\\pokav\\documents\\computacion_paralela\\tabajo_final\\proyecto-computacion-paralela-distribuida\\venv\\lib\\site-packages (from requests->gcsfs) (3.4.2)\n",
            "Requirement already satisfied: idna<4,>=2.5 in c:\\users\\pokav\\documents\\computacion_paralela\\tabajo_final\\proyecto-computacion-paralela-distribuida\\venv\\lib\\site-packages (from requests->gcsfs) (3.10)\n",
            "Requirement already satisfied: urllib3<3,>=1.21.1 in c:\\users\\pokav\\documents\\computacion_paralela\\tabajo_final\\proyecto-computacion-paralela-distribuida\\venv\\lib\\site-packages (from requests->gcsfs) (2.5.0)\n",
            "Requirement already satisfied: certifi>=2017.4.17 in c:\\users\\pokav\\documents\\computacion_paralela\\tabajo_final\\proyecto-computacion-paralela-distribuida\\venv\\lib\\site-packages (from requests->gcsfs) (2025.6.15)\n",
            "Requirement already satisfied: googleapis-common-protos<2.0.0,>=1.56.2 in c:\\users\\pokav\\documents\\computacion_paralela\\tabajo_final\\proyecto-computacion-paralela-distribuida\\venv\\lib\\site-packages (from google-api-core<3.0.0,>=2.15.0->google-cloud-storage->gcsfs) (1.70.0)\n",
            "Requirement already satisfied: protobuf!=3.20.0,!=3.20.1,!=4.21.0,!=4.21.1,!=4.21.2,!=4.21.3,!=4.21.4,!=4.21.5,<7.0.0,>=3.19.5 in c:\\users\\pokav\\documents\\computacion_paralela\\tabajo_final\\proyecto-computacion-paralela-distribuida\\venv\\lib\\site-packages (from google-api-core<3.0.0,>=2.15.0->google-cloud-storage->gcsfs) (6.31.1)\n",
            "Requirement already satisfied: proto-plus<2.0.0,>=1.22.3 in c:\\users\\pokav\\documents\\computacion_paralela\\tabajo_final\\proyecto-computacion-paralela-distribuida\\venv\\lib\\site-packages (from google-api-core<3.0.0,>=2.15.0->google-cloud-storage->gcsfs) (1.26.1)\n",
            "Requirement already satisfied: pyasn1<0.7.0,>=0.6.1 in c:\\users\\pokav\\documents\\computacion_paralela\\tabajo_final\\proyecto-computacion-paralela-distribuida\\venv\\lib\\site-packages (from pyasn1-modules>=0.2.1->google-auth>=1.2->gcsfs) (0.6.1)\n",
            "Requirement already satisfied: six>=1.5 in c:\\users\\pokav\\documents\\computacion_paralela\\tabajo_final\\proyecto-computacion-paralela-distribuida\\venv\\lib\\site-packages (from python-dateutil<3.0.0,>=2.1->aiobotocore<3.0.0,>=2.5.4->s3fs) (1.17.0)\n",
            "Requirement already satisfied: oauthlib>=3.0.0 in c:\\users\\pokav\\documents\\computacion_paralela\\tabajo_final\\proyecto-computacion-paralela-distribuida\\venv\\lib\\site-packages (from requests-oauthlib>=0.7.0->google-auth-oauthlib->gcsfs) (3.3.1)\n",
            "Note: you may need to restart the kernel to use updated packages.\n"
          ]
        },
        {
          "name": "stderr",
          "output_type": "stream",
          "text": [
            "\n",
            "[notice] A new release of pip is available: 24.0 -> 25.1.1\n",
            "[notice] To update, run: python.exe -m pip install --upgrade pip\n"
          ]
        }
      ],
      "source": [
        "!apt-get install -y aria2\n",
        "%pip install fsspec s3fs gcsfs\n",
        "\n"
      ]
    },
    {
      "cell_type": "code",
      "execution_count": 4,
      "metadata": {},
      "outputs": [
        {
          "name": "stdout",
          "output_type": "stream",
          "text": [
            "Requirement already satisfied: pandas in c:\\users\\pokav\\documents\\computacion_paralela\\tabajo_final\\proyecto-computacion-paralela-distribuida\\venv\\lib\\site-packages (2.3.0)\n",
            "Requirement already satisfied: numpy>=1.23.2 in c:\\users\\pokav\\documents\\computacion_paralela\\tabajo_final\\proyecto-computacion-paralela-distribuida\\venv\\lib\\site-packages (from pandas) (2.3.1)\n",
            "Requirement already satisfied: python-dateutil>=2.8.2 in c:\\users\\pokav\\documents\\computacion_paralela\\tabajo_final\\proyecto-computacion-paralela-distribuida\\venv\\lib\\site-packages (from pandas) (2.9.0.post0)\n",
            "Requirement already satisfied: pytz>=2020.1 in c:\\users\\pokav\\documents\\computacion_paralela\\tabajo_final\\proyecto-computacion-paralela-distribuida\\venv\\lib\\site-packages (from pandas) (2025.2)\n",
            "Requirement already satisfied: tzdata>=2022.7 in c:\\users\\pokav\\documents\\computacion_paralela\\tabajo_final\\proyecto-computacion-paralela-distribuida\\venv\\lib\\site-packages (from pandas) (2025.2)\n",
            "Requirement already satisfied: six>=1.5 in c:\\users\\pokav\\documents\\computacion_paralela\\tabajo_final\\proyecto-computacion-paralela-distribuida\\venv\\lib\\site-packages (from python-dateutil>=2.8.2->pandas) (1.17.0)\n",
            "Note: you may need to restart the kernel to use updated packages.\n"
          ]
        },
        {
          "name": "stderr",
          "output_type": "stream",
          "text": [
            "\n",
            "[notice] A new release of pip is available: 24.0 -> 25.1.1\n",
            "[notice] To update, run: python.exe -m pip install --upgrade pip\n"
          ]
        },
        {
          "name": "stdout",
          "output_type": "stream",
          "text": [
            "Requirement already satisfied: tqdm in c:\\users\\pokav\\documents\\computacion_paralela\\tabajo_final\\proyecto-computacion-paralela-distribuida\\venv\\lib\\site-packages (4.67.1)\n",
            "Requirement already satisfied: colorama in c:\\users\\pokav\\documents\\computacion_paralela\\tabajo_final\\proyecto-computacion-paralela-distribuida\\venv\\lib\\site-packages (from tqdm) (0.4.6)\n",
            "Note: you may need to restart the kernel to use updated packages.\n"
          ]
        },
        {
          "name": "stderr",
          "output_type": "stream",
          "text": [
            "\n",
            "[notice] A new release of pip is available: 24.0 -> 25.1.1\n",
            "[notice] To update, run: python.exe -m pip install --upgrade pip\n"
          ]
        }
      ],
      "source": [
        "%pip install pandas\n",
        "%pip install tqdm"
      ]
    },
    {
      "cell_type": "code",
      "execution_count": 5,
      "metadata": {
        "id": "OAROmJdPXTTv"
      },
      "outputs": [],
      "source": [
        "import os\n",
        "import shutil\n",
        "import pandas as pd\n",
        "from tqdm import tqdm\n",
        "import tarfile\n",
        "import random"
      ]
    },
    {
      "cell_type": "markdown",
      "metadata": {
        "id": "FPxKUn2bXlvX"
      },
      "source": [
        "Run the !wget to download the Crop harvest dataset, this contains about 25, so part of the proces will be to extract 1g of random images"
      ]
    },
    {
      "cell_type": "code",
      "execution_count": null,
      "metadata": {
        "colab": {
          "base_uri": "https://localhost:8080/"
        },
        "id": "0ZWzWpLyQ1B7",
        "outputId": "5ac6922b-2c73-4223-95b7-62e1dfe61bd3"
      },
      "outputs": [],
      "source": [
        "\n",
        "!wget https://zenodo.org/record/10251170/files/eo_data.tar.gz?download=1 -O eo_data.tar.gz"
      ]
    },
    {
      "cell_type": "markdown",
      "metadata": {
        "id": "HqxtpocmX1HE"
      },
      "source": [
        "This line of the code creates a file called crop_harvest which opens the .tar to unzip file and extract the tif images, the code pics the ammount of .tif images randomly until it reaches 1gb"
      ]
    },
    {
      "cell_type": "code",
      "execution_count": null,
      "metadata": {
        "id": "0bBkQWsgSIYj"
      },
      "outputs": [],
      "source": [
        "\n",
        "# Create the folder\n",
        "os.makedirs(\"Crop_harvest\", exist_ok=True)\n",
        "\n",
        "# Create the limit of 1gb\n",
        "size_limit = 1 * 1024**3  # 1 GB en bytes\n",
        "total_bytes = 0\n",
        "count = 0\n",
        "\n",
        "# Open the tar file and extract .tif files\n",
        "with tarfile.open(\"eo_data.tar.gz\", \"r:gz\") as tar:\n",
        "    # filter .tif files\n",
        "    tif_members = [m for m in tar.getmembers() if m.isfile() and m.name.endswith(\".tif\")]\n",
        "\n",
        "    # create a random shuffle\n",
        "    random.shuffle(tif_members)\n",
        "\n",
        "    # Extract with random until it gets to 1gb\n",
        "    for member in tif_members:\n",
        "        if total_bytes + member.size > size_limit:\n",
        "            break\n",
        "        tar.extract(member, path=\"CropHarvest_extract\")\n",
        "        total_bytes += member.size\n",
        "        count += 1\n",
        "\n",
        "print(f\" {count} total: {total_bytes / (1024 ** 2):.2f} MB\")\n"
      ]
    },
    {
      "cell_type": "markdown",
      "metadata": {
        "id": "2Pbrr6fvY-ZI"
      },
      "source": [
        "To download plant village dataset, we need a token from Kaggle API\n",
        "\n",
        "to run this locally:\n",
        "\n",
        "\n",
        "1.   pip install kaggle\n",
        "2.   go to: https://www.kaggle.com/settings\n",
        "3.   “Create New API Token” It'll download a kaggle.json file\n",
        "\n",
        "To add the API in a safe place for MAC or linux systems:\n",
        "\n",
        "mkdir -p ~/.kaggle\n",
        "\n",
        "mv /ruta/del/archivo/kaggle.json ~/.kaggle/\n",
        "\n",
        "chmod 600 ~/.kaggle/kaggle.json\n",
        "\n",
        "\n",
        "for windows:\n",
        "\n",
        "mkdir %USERPROFILE%\\.kaggle\n",
        "\n",
        "move \"C:\\ruta\\a\\kaggle.json\" \"%USERPROFILE%\\.kaggle\\\"\n",
        "\n",
        "\n"
      ]
    },
    {
      "cell_type": "markdown",
      "metadata": {
        "id": "XK8HgHQmcSlR"
      },
      "source": [
        "This is done in colab so if you are running it locally, ignore the #from google colab import files code line"
      ]
    },
    {
      "cell_type": "code",
      "execution_count": null,
      "metadata": {
        "colab": {
          "base_uri": "https://localhost:8080/",
          "height": 90
        },
        "id": "cyVJ_YpCVQQS",
        "outputId": "f8d05ae9-6b69-4277-d01c-bef812ea7438"
      },
      "outputs": [],
      "source": [
        "from google.colab import files\n",
        "files.upload()"
      ]
    },
    {
      "cell_type": "code",
      "execution_count": 7,
      "metadata": {
        "id": "5-IuNcnPVa1v"
      },
      "outputs": [],
      "source": [
        "!mkdir -p ~/.kaggle\n",
        "!cp kaggle.json ~/.kaggle/kaggle.json\n",
        "!chmod 600 ~/.kaggle/kaggle.json"
      ]
    },
    {
      "cell_type": "markdown",
      "metadata": {
        "id": "uHNUDSQacdO4"
      },
      "source": [
        "This code line will download de .zip file and unzip it."
      ]
    },
    {
      "cell_type": "code",
      "execution_count": null,
      "metadata": {
        "colab": {
          "base_uri": "https://localhost:8080/"
        },
        "id": "TIv-4Z6hV3FC",
        "outputId": "48ee41ae-5323-462c-aea5-69cf9800b02f"
      },
      "outputs": [],
      "source": [
        "!kaggle datasets download -d emmarex/plantdisease\n",
        "!unzip -q plantdisease.zip -d plantvillage"
      ]
    },
    {
      "cell_type": "code",
      "execution_count": null,
      "metadata": {
        "colab": {
          "base_uri": "https://localhost:8080/"
        },
        "id": "SRFknaJlV6Mx",
        "outputId": "62e5c82d-b747-493e-fe04-0687b780a870"
      },
      "outputs": [],
      "source": [
        "import os\n",
        "\n",
        "base_path = \"plantvillage\"\n",
        "classes = os.listdir(base_path)\n",
        "\n"
      ]
    },
    {
      "cell_type": "markdown",
      "metadata": {
        "id": "3fBFJ8QrcmBs"
      },
      "source": [
        "The Dataset will download in different files depending on the plant/vegetable, this DF can be use to train, but for testing purposes, the next code will create a flat dataset that contains all the images."
      ]
    },
    {
      "cell_type": "code",
      "execution_count": null,
      "metadata": {
        "colab": {
          "base_uri": "https://localhost:8080/"
        },
        "id": "MYEFfDQ0WKOe",
        "outputId": "6a2af1b0-8529-48e8-897b-ef6f432069f8"
      },
      "outputs": [],
      "source": [
        "# File route\n",
        "source_dir = \"plantvillage\"\n",
        "\n",
        "# Destined file\n",
        "dest_dir = \"flat_dataset_PlantVillage\"\n",
        "os.makedirs(dest_dir, exist_ok=True)\n",
        "\n",
        "# Lista para guardar: [nuevo_nombre, clase_original]\n",
        "records = []\n",
        "counter = 0\n",
        "\n",
        "# create a loop to check every file\n",
        "for img_file in os.listdir(class_path):\n",
        "    src = os.path.join(class_path, img_file)\n",
        "\n",
        "    if os.path.isdir(src):\n",
        "        continue\n",
        "\n",
        "    new_filename = f\"image_{counter:05d}.jpg\"\n",
        "    dst = os.path.join(dest_dir, new_filename)\n",
        "\n",
        "    shutil.copy2(src, dst)\n",
        "    records.append([new_filename, class_name])\n",
        "    counter += 1\n",
        "\n",
        "# Safe labes to: labels.csv\n",
        "df = pd.DataFrame(records, columns=[\"filename\", \"label\"])\n",
        "df.to_csv(os.path.join(dest_dir, \"labels.csv\"), index=False)\n",
        "\n",
        "print(f\"Images copied {counter} to  {dest_dir} and labels saved to: labels.csv\")\n"
      ]
    },
    {
      "cell_type": "code",
      "execution_count": null,
      "metadata": {
        "id": "AERBhFwSdcy2"
      },
      "outputs": [],
      "source": []
    }
  ],
  "metadata": {
    "colab": {
      "provenance": []
    },
    "kernelspec": {
      "display_name": "venv",
      "language": "python",
      "name": "python3"
    },
    "language_info": {
      "codemirror_mode": {
        "name": "ipython",
        "version": 3
      },
      "file_extension": ".py",
      "mimetype": "text/x-python",
      "name": "python",
      "nbconvert_exporter": "python",
      "pygments_lexer": "ipython3",
      "version": "3.11.9"
    }
  },
  "nbformat": 4,
  "nbformat_minor": 0
}
